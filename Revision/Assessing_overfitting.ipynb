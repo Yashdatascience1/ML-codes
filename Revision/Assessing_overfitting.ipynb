{
  "nbformat": 4,
  "nbformat_minor": 0,
  "metadata": {
    "colab": {
      "provenance": []
    },
    "kernelspec": {
      "name": "python3",
      "display_name": "Python 3"
    },
    "language_info": {
      "name": "python"
    }
  },
  "cells": [
    {
      "cell_type": "code",
      "source": [
        "!pip install optuna\n",
        "!pip install shap\n",
        "!pip install catboost"
      ],
      "metadata": {
        "colab": {
          "base_uri": "https://localhost:8080/"
        },
        "id": "0GPMpHwrcapH",
        "outputId": "f773e72f-ea57-4b35-80d7-6afa5e2332eb"
      },
      "execution_count": null,
      "outputs": [
        {
          "output_type": "stream",
          "name": "stdout",
          "text": [
            "Looking in indexes: https://pypi.org/simple, https://us-python.pkg.dev/colab-wheels/public/simple/\n",
            "Collecting optuna\n",
            "  Downloading optuna-3.0.1-py3-none-any.whl (348 kB)\n",
            "\u001b[K     |████████████████████████████████| 348 kB 4.3 MB/s \n",
            "\u001b[?25hRequirement already satisfied: tqdm in /usr/local/lib/python3.7/dist-packages (from optuna) (4.64.0)\n",
            "Collecting cmaes>=0.8.2\n",
            "  Downloading cmaes-0.8.2-py3-none-any.whl (15 kB)\n",
            "Collecting alembic\n",
            "  Downloading alembic-1.8.1-py3-none-any.whl (209 kB)\n",
            "\u001b[K     |████████████████████████████████| 209 kB 52.1 MB/s \n",
            "\u001b[?25hRequirement already satisfied: sqlalchemy>=1.1.0 in /usr/local/lib/python3.7/dist-packages (from optuna) (1.4.40)\n",
            "Requirement already satisfied: typing-extensions>=3.10.0.0 in /usr/local/lib/python3.7/dist-packages (from optuna) (4.1.1)\n",
            "Collecting colorlog\n",
            "  Downloading colorlog-6.7.0-py2.py3-none-any.whl (11 kB)\n",
            "Requirement already satisfied: scipy<1.9.0,>=1.7.0 in /usr/local/lib/python3.7/dist-packages (from optuna) (1.7.3)\n",
            "Requirement already satisfied: packaging>=20.0 in /usr/local/lib/python3.7/dist-packages (from optuna) (21.3)\n",
            "Requirement already satisfied: PyYAML in /usr/local/lib/python3.7/dist-packages (from optuna) (6.0)\n",
            "Collecting cliff\n",
            "  Downloading cliff-3.10.1-py3-none-any.whl (81 kB)\n",
            "\u001b[K     |████████████████████████████████| 81 kB 10.0 MB/s \n",
            "\u001b[?25hRequirement already satisfied: numpy in /usr/local/lib/python3.7/dist-packages (from optuna) (1.21.6)\n",
            "Requirement already satisfied: pyparsing!=3.0.5,>=2.0.2 in /usr/local/lib/python3.7/dist-packages (from packaging>=20.0->optuna) (3.0.9)\n",
            "Requirement already satisfied: importlib-metadata in /usr/local/lib/python3.7/dist-packages (from sqlalchemy>=1.1.0->optuna) (4.12.0)\n",
            "Requirement already satisfied: greenlet!=0.4.17 in /usr/local/lib/python3.7/dist-packages (from sqlalchemy>=1.1.0->optuna) (1.1.3)\n",
            "Requirement already satisfied: importlib-resources in /usr/local/lib/python3.7/dist-packages (from alembic->optuna) (5.9.0)\n",
            "Collecting Mako\n",
            "  Downloading Mako-1.2.2-py3-none-any.whl (78 kB)\n",
            "\u001b[K     |████████████████████████████████| 78 kB 8.0 MB/s \n",
            "\u001b[?25hCollecting pbr!=2.1.0,>=2.0.0\n",
            "  Downloading pbr-5.10.0-py2.py3-none-any.whl (112 kB)\n",
            "\u001b[K     |████████████████████████████████| 112 kB 57.4 MB/s \n",
            "\u001b[?25hCollecting cmd2>=1.0.0\n",
            "  Downloading cmd2-2.4.2-py3-none-any.whl (147 kB)\n",
            "\u001b[K     |████████████████████████████████| 147 kB 37.9 MB/s \n",
            "\u001b[?25hRequirement already satisfied: PrettyTable>=0.7.2 in /usr/local/lib/python3.7/dist-packages (from cliff->optuna) (3.4.0)\n",
            "Collecting stevedore>=2.0.1\n",
            "  Downloading stevedore-3.5.0-py3-none-any.whl (49 kB)\n",
            "\u001b[K     |████████████████████████████████| 49 kB 6.2 MB/s \n",
            "\u001b[?25hCollecting autopage>=0.4.0\n",
            "  Downloading autopage-0.5.1-py3-none-any.whl (29 kB)\n",
            "Requirement already satisfied: attrs>=16.3.0 in /usr/local/lib/python3.7/dist-packages (from cmd2>=1.0.0->cliff->optuna) (22.1.0)\n",
            "Collecting pyperclip>=1.6\n",
            "  Downloading pyperclip-1.8.2.tar.gz (20 kB)\n",
            "Requirement already satisfied: wcwidth>=0.1.7 in /usr/local/lib/python3.7/dist-packages (from cmd2>=1.0.0->cliff->optuna) (0.2.5)\n",
            "Requirement already satisfied: zipp>=0.5 in /usr/local/lib/python3.7/dist-packages (from importlib-metadata->sqlalchemy>=1.1.0->optuna) (3.8.1)\n",
            "Requirement already satisfied: MarkupSafe>=0.9.2 in /usr/local/lib/python3.7/dist-packages (from Mako->alembic->optuna) (2.0.1)\n",
            "Building wheels for collected packages: pyperclip\n",
            "  Building wheel for pyperclip (setup.py) ... \u001b[?25l\u001b[?25hdone\n",
            "  Created wheel for pyperclip: filename=pyperclip-1.8.2-py3-none-any.whl size=11137 sha256=d944b5fcd4fbb49575f6e87fec4f3cdeffae8cf75e11c4aad6e9100ac52532d0\n",
            "  Stored in directory: /root/.cache/pip/wheels/9f/18/84/8f69f8b08169c7bae2dde6bd7daf0c19fca8c8e500ee620a28\n",
            "Successfully built pyperclip\n",
            "Installing collected packages: pyperclip, pbr, stevedore, Mako, cmd2, autopage, colorlog, cmaes, cliff, alembic, optuna\n",
            "Successfully installed Mako-1.2.2 alembic-1.8.1 autopage-0.5.1 cliff-3.10.1 cmaes-0.8.2 cmd2-2.4.2 colorlog-6.7.0 optuna-3.0.1 pbr-5.10.0 pyperclip-1.8.2 stevedore-3.5.0\n",
            "Looking in indexes: https://pypi.org/simple, https://us-python.pkg.dev/colab-wheels/public/simple/\n",
            "Collecting shap\n",
            "  Downloading shap-0.41.0-cp37-cp37m-manylinux_2_12_x86_64.manylinux2010_x86_64.whl (569 kB)\n",
            "\u001b[K     |████████████████████████████████| 569 kB 4.2 MB/s \n",
            "\u001b[?25hRequirement already satisfied: scikit-learn in /usr/local/lib/python3.7/dist-packages (from shap) (1.0.2)\n",
            "Requirement already satisfied: packaging>20.9 in /usr/local/lib/python3.7/dist-packages (from shap) (21.3)\n",
            "Collecting slicer==0.0.7\n",
            "  Downloading slicer-0.0.7-py3-none-any.whl (14 kB)\n",
            "Requirement already satisfied: tqdm>4.25.0 in /usr/local/lib/python3.7/dist-packages (from shap) (4.64.0)\n",
            "Requirement already satisfied: scipy in /usr/local/lib/python3.7/dist-packages (from shap) (1.7.3)\n",
            "Requirement already satisfied: cloudpickle in /usr/local/lib/python3.7/dist-packages (from shap) (1.5.0)\n",
            "Requirement already satisfied: numpy in /usr/local/lib/python3.7/dist-packages (from shap) (1.21.6)\n",
            "Requirement already satisfied: pandas in /usr/local/lib/python3.7/dist-packages (from shap) (1.3.5)\n",
            "Requirement already satisfied: numba in /usr/local/lib/python3.7/dist-packages (from shap) (0.56.0)\n",
            "Requirement already satisfied: pyparsing!=3.0.5,>=2.0.2 in /usr/local/lib/python3.7/dist-packages (from packaging>20.9->shap) (3.0.9)\n",
            "Requirement already satisfied: importlib-metadata in /usr/local/lib/python3.7/dist-packages (from numba->shap) (4.12.0)\n",
            "Requirement already satisfied: setuptools in /usr/local/lib/python3.7/dist-packages (from numba->shap) (57.4.0)\n",
            "Requirement already satisfied: llvmlite<0.40,>=0.39.0dev0 in /usr/local/lib/python3.7/dist-packages (from numba->shap) (0.39.0)\n",
            "Requirement already satisfied: typing-extensions>=3.6.4 in /usr/local/lib/python3.7/dist-packages (from importlib-metadata->numba->shap) (4.1.1)\n",
            "Requirement already satisfied: zipp>=0.5 in /usr/local/lib/python3.7/dist-packages (from importlib-metadata->numba->shap) (3.8.1)\n",
            "Requirement already satisfied: python-dateutil>=2.7.3 in /usr/local/lib/python3.7/dist-packages (from pandas->shap) (2.8.2)\n",
            "Requirement already satisfied: pytz>=2017.3 in /usr/local/lib/python3.7/dist-packages (from pandas->shap) (2022.2.1)\n",
            "Requirement already satisfied: six>=1.5 in /usr/local/lib/python3.7/dist-packages (from python-dateutil>=2.7.3->pandas->shap) (1.15.0)\n",
            "Requirement already satisfied: threadpoolctl>=2.0.0 in /usr/local/lib/python3.7/dist-packages (from scikit-learn->shap) (3.1.0)\n",
            "Requirement already satisfied: joblib>=0.11 in /usr/local/lib/python3.7/dist-packages (from scikit-learn->shap) (1.1.0)\n",
            "Installing collected packages: slicer, shap\n",
            "Successfully installed shap-0.41.0 slicer-0.0.7\n",
            "Looking in indexes: https://pypi.org/simple, https://us-python.pkg.dev/colab-wheels/public/simple/\n",
            "Collecting catboost\n",
            "  Downloading catboost-1.0.6-cp37-none-manylinux1_x86_64.whl (76.6 MB)\n",
            "\u001b[K     |████████████████████████████████| 76.6 MB 77 kB/s \n",
            "\u001b[?25hRequirement already satisfied: graphviz in /usr/local/lib/python3.7/dist-packages (from catboost) (0.10.1)\n",
            "Requirement already satisfied: six in /usr/local/lib/python3.7/dist-packages (from catboost) (1.15.0)\n",
            "Requirement already satisfied: pandas>=0.24.0 in /usr/local/lib/python3.7/dist-packages (from catboost) (1.3.5)\n",
            "Requirement already satisfied: numpy>=1.16.0 in /usr/local/lib/python3.7/dist-packages (from catboost) (1.21.6)\n",
            "Requirement already satisfied: plotly in /usr/local/lib/python3.7/dist-packages (from catboost) (5.5.0)\n",
            "Requirement already satisfied: matplotlib in /usr/local/lib/python3.7/dist-packages (from catboost) (3.2.2)\n",
            "Requirement already satisfied: scipy in /usr/local/lib/python3.7/dist-packages (from catboost) (1.7.3)\n",
            "Requirement already satisfied: pytz>=2017.3 in /usr/local/lib/python3.7/dist-packages (from pandas>=0.24.0->catboost) (2022.2.1)\n",
            "Requirement already satisfied: python-dateutil>=2.7.3 in /usr/local/lib/python3.7/dist-packages (from pandas>=0.24.0->catboost) (2.8.2)\n",
            "Requirement already satisfied: kiwisolver>=1.0.1 in /usr/local/lib/python3.7/dist-packages (from matplotlib->catboost) (1.4.4)\n",
            "Requirement already satisfied: cycler>=0.10 in /usr/local/lib/python3.7/dist-packages (from matplotlib->catboost) (0.11.0)\n",
            "Requirement already satisfied: pyparsing!=2.0.4,!=2.1.2,!=2.1.6,>=2.0.1 in /usr/local/lib/python3.7/dist-packages (from matplotlib->catboost) (3.0.9)\n",
            "Requirement already satisfied: typing-extensions in /usr/local/lib/python3.7/dist-packages (from kiwisolver>=1.0.1->matplotlib->catboost) (4.1.1)\n",
            "Requirement already satisfied: tenacity>=6.2.0 in /usr/local/lib/python3.7/dist-packages (from plotly->catboost) (8.0.1)\n",
            "Installing collected packages: catboost\n",
            "Successfully installed catboost-1.0.6\n"
          ]
        }
      ]
    },
    {
      "cell_type": "code",
      "execution_count": null,
      "metadata": {
        "id": "PaeMDOejWZFW"
      },
      "outputs": [],
      "source": [
        "import pandas as pd\n",
        "import numpy as np\n",
        "import seaborn as sns\n",
        "import matplotlib.pyplot as plt\n",
        "import warnings\n",
        "warnings.filterwarnings(\"ignore\")\n",
        "from sklearn.model_selection import train_test_split\n",
        "from sklearn.linear_model import LinearRegression,RidgeCV,LassoCV,Ridge,Lasso\n",
        "from sklearn.metrics import mean_squared_error,mean_absolute_error,mean_absolute_percentage_error,r2_score\n",
        "from sklearn.tree import DecisionTreeRegressor\n",
        "from sklearn.ensemble import RandomForestRegressor\n",
        "from sklearn.model_selection import KFold\n",
        "import statsmodels.formula.api as sm\n",
        "from xgboost import XGBRegressor\n",
        "import datetime\n",
        "from datetime import *\n",
        "import lightgbm as lgbm\n",
        "import optuna\n",
        "import catboost as cb\n",
        "import shap"
      ]
    },
    {
      "cell_type": "code",
      "source": [
        "from google.colab import drive"
      ],
      "metadata": {
        "id": "DtvLcgm1WzaT"
      },
      "execution_count": null,
      "outputs": []
    },
    {
      "cell_type": "code",
      "source": [
        "drive.mount('/content/gdrive')"
      ],
      "metadata": {
        "colab": {
          "base_uri": "https://localhost:8080/"
        },
        "id": "LRMz2PUrXUkD",
        "outputId": "f325714e-f855-48c9-e3ef-d89752646e53"
      },
      "execution_count": null,
      "outputs": [
        {
          "output_type": "stream",
          "name": "stdout",
          "text": [
            "Mounted at /content/gdrive\n"
          ]
        }
      ]
    },
    {
      "cell_type": "code",
      "source": [
        "df = pd.read_csv('/content/gdrive/MyDrive/Capstone - HR /Output1 (1).csv')"
      ],
      "metadata": {
        "id": "Z2YDwi0KXX4c"
      },
      "execution_count": null,
      "outputs": []
    },
    {
      "cell_type": "markdown",
      "source": [
        "#### Few preprocessing steps"
      ],
      "metadata": {
        "id": "6yZmp7FrXjDf"
      }
    },
    {
      "cell_type": "code",
      "source": [
        "df.drop(columns=[\"Candidate_in_demand\"],axis=1,inplace=True)\n",
        "df[\"Inhand_Offer\"]=df[\"Inhand_Offer\"].map({'N':0,'Y':1})\n",
        "df.replace(to_replace=\"Sr. Business Analyst\",value=\"Senior Business Analyst\",inplace=True)\n",
        "df.replace(to_replace='Sr.Manager',value=\"Senior Manager\",inplace=True)\n",
        "df.replace(to_replace='Analytics/BI',value=\"Analytics or BI\",inplace=True)\n",
        "df.replace(to_replace='IT-Software',value=\"IT and Software\",inplace=True)"
      ],
      "metadata": {
        "id": "sF-iPM1YXqX4"
      },
      "execution_count": null,
      "outputs": []
    },
    {
      "cell_type": "markdown",
      "source": [
        "#### Target Encoding"
      ],
      "metadata": {
        "id": "ixGSarw5Nslv"
      }
    },
    {
      "cell_type": "code",
      "source": [
        "cat_col = df.select_dtypes(exclude=[np.number]).columns.tolist()"
      ],
      "metadata": {
        "id": "nNkSFglsNvVT"
      },
      "execution_count": null,
      "outputs": []
    },
    {
      "cell_type": "code",
      "source": [
        "cat_col"
      ],
      "metadata": {
        "colab": {
          "base_uri": "https://localhost:8080/"
        },
        "id": "B6wSephNN0ll",
        "outputId": "780d9525-7ac8-4ab0-fc65-9819271ce709"
      },
      "execution_count": null,
      "outputs": [
        {
          "output_type": "execute_result",
          "data": {
            "text/plain": [
              "['Department',\n",
              " 'Role',\n",
              " 'Industry',\n",
              " 'Organization',\n",
              " 'Designation',\n",
              " 'Education',\n",
              " 'Graduation_Specialization',\n",
              " 'University_Grad',\n",
              " 'Last_Appraisal_Rating']"
            ]
          },
          "metadata": {},
          "execution_count": 47
        }
      ]
    },
    {
      "cell_type": "code",
      "source": [
        "for i in cat_col:\n",
        "  global_mean = df[\"Expected_CTC\"].mean()\n",
        "  data=df.groupby(i).agg({i:\"count\",\"Expected_CTC\":\"mean\"})\n",
        "  data.rename(columns={i:\"Count\",\"Expected_CTC\":\"Mean\"},inplace=True)\n",
        "  counts = data[\"Count\"]\n",
        "  means = data[\"Mean\"]\n",
        "  m = 100\n",
        "  smooth = (counts*means + m*global_mean)/(counts+m)\n",
        "  df.loc[:,i+\"_enc\"]=df[i].map(smooth)"
      ],
      "metadata": {
        "id": "jWHwzCA6N6dO"
      },
      "execution_count": null,
      "outputs": []
    },
    {
      "cell_type": "code",
      "source": [
        "from sklearn.preprocessing import Target"
      ],
      "metadata": {
        "id": "p4ygFIhss3dz"
      },
      "execution_count": null,
      "outputs": []
    },
    {
      "cell_type": "code",
      "source": [
        "df.drop(columns=cat_col,inplace=True)"
      ],
      "metadata": {
        "id": "FG-YjMXhRDen"
      },
      "execution_count": null,
      "outputs": []
    },
    {
      "cell_type": "markdown",
      "source": [
        "#### Multiple linear regression"
      ],
      "metadata": {
        "id": "mafkG3siXwsU"
      }
    },
    {
      "cell_type": "code",
      "source": [
        "def ohe(df):\n",
        "  cat_col = df.select_dtypes(exclude=[np.number]).columns.tolist()\n",
        "  df = pd.get_dummies(data=df,columns=cat_col)\n",
        "  new = []\n",
        "  for i in df.columns:\n",
        "    new.append(\"_\".join(i.split()))\n",
        "  for (i,j) in zip(df.columns,new):\n",
        "    df.rename(columns={i:j},inplace=True)\n",
        "  return df,list(df.columns)"
      ],
      "metadata": {
        "id": "3YmC9sl6XzxJ"
      },
      "execution_count": null,
      "outputs": []
    },
    {
      "cell_type": "code",
      "source": [
        "data = df.copy()"
      ],
      "metadata": {
        "id": "_UdEkFcOdBxq"
      },
      "execution_count": null,
      "outputs": []
    },
    {
      "cell_type": "code",
      "source": [
        "data,cols1 = ohe(data)"
      ],
      "metadata": {
        "id": "M-NQqep-YFmo"
      },
      "execution_count": null,
      "outputs": []
    },
    {
      "cell_type": "markdown",
      "source": [
        "##### Determining VIF"
      ],
      "metadata": {
        "id": "6GnIEc1qYLO9"
      }
    },
    {
      "cell_type": "code",
      "source": [
        "import statsmodels.formula.api as sm\n",
        "def vif_cal(input_data):\n",
        "    x_vars=input_data\n",
        "    xvar_names=input_data.columns\n",
        "    VIF = []\n",
        "    for i in range(0,xvar_names.shape[0]):\n",
        "        y=x_vars[xvar_names[i]] \n",
        "        x=x_vars[xvar_names.drop(xvar_names[i])]\n",
        "        rsq=sm.ols(formula=\"y~x\", data=x_vars).fit().rsquared  \n",
        "        vif=round(1/(1-rsq),2)\n",
        "        VIF.append(vif)\n",
        "        #print (xvar_names[i], \" VIF = \" , vif)\n",
        "    df = pd.DataFrame(index=xvar_names,data=VIF,columns=[\"VIF\"])\n",
        "    return df.sort_values(by='VIF',ascending=False)"
      ],
      "metadata": {
        "id": "IXVQGnJJYWDI"
      },
      "execution_count": null,
      "outputs": []
    },
    {
      "cell_type": "code",
      "source": [
        "df.shape"
      ],
      "metadata": {
        "colab": {
          "base_uri": "https://localhost:8080/"
        },
        "id": "XQs6ZCP_Z3tw",
        "outputId": "afa64010-f36c-450a-dcdc-81abe019e492"
      },
      "execution_count": null,
      "outputs": [
        {
          "output_type": "execute_result",
          "data": {
            "text/plain": [
              "(25000, 17)"
            ]
          },
          "metadata": {},
          "execution_count": 14
        }
      ]
    },
    {
      "cell_type": "code",
      "source": [
        "input_data = d.drop(columns=[\"Expected_CTC\"],axis=1)"
      ],
      "metadata": {
        "id": "vAI3QGUfYaaW"
      },
      "execution_count": null,
      "outputs": []
    },
    {
      "cell_type": "code",
      "source": [
        "vif_df=vif_cal(input_data)"
      ],
      "metadata": {
        "colab": {
          "base_uri": "https://localhost:8080/",
          "height": 311
        },
        "id": "HFJ6-WaDYeAL",
        "outputId": "d013a96a-5955-40ef-fc05-1ca23441fa9b"
      },
      "execution_count": null,
      "outputs": [
        {
          "output_type": "error",
          "ename": "PatsyError",
          "evalue": "ignored",
          "traceback": [
            "\u001b[0;31m---------------------------------------------------------------------------\u001b[0m",
            "\u001b[0;31mPatsyError\u001b[0m                                Traceback (most recent call last)",
            "\u001b[0;32m<ipython-input-16-1938094deda3>\u001b[0m in \u001b[0;36m<module>\u001b[0;34m\u001b[0m\n\u001b[0;32m----> 1\u001b[0;31m \u001b[0mvif_df\u001b[0m\u001b[0;34m=\u001b[0m\u001b[0mvif_cal\u001b[0m\u001b[0;34m(\u001b[0m\u001b[0minput_data\u001b[0m\u001b[0;34m)\u001b[0m\u001b[0;34m\u001b[0m\u001b[0;34m\u001b[0m\u001b[0m\n\u001b[0m",
            "\u001b[0;32m<ipython-input-13-73040e3f86f1>\u001b[0m in \u001b[0;36mvif_cal\u001b[0;34m(input_data)\u001b[0m\n\u001b[1;32m      7\u001b[0m         \u001b[0my\u001b[0m\u001b[0;34m=\u001b[0m\u001b[0mx_vars\u001b[0m\u001b[0;34m[\u001b[0m\u001b[0mxvar_names\u001b[0m\u001b[0;34m[\u001b[0m\u001b[0mi\u001b[0m\u001b[0;34m]\u001b[0m\u001b[0;34m]\u001b[0m\u001b[0;34m\u001b[0m\u001b[0;34m\u001b[0m\u001b[0m\n\u001b[1;32m      8\u001b[0m         \u001b[0mx\u001b[0m\u001b[0;34m=\u001b[0m\u001b[0mx_vars\u001b[0m\u001b[0;34m[\u001b[0m\u001b[0mxvar_names\u001b[0m\u001b[0;34m.\u001b[0m\u001b[0mdrop\u001b[0m\u001b[0;34m(\u001b[0m\u001b[0mxvar_names\u001b[0m\u001b[0;34m[\u001b[0m\u001b[0mi\u001b[0m\u001b[0;34m]\u001b[0m\u001b[0;34m)\u001b[0m\u001b[0;34m]\u001b[0m\u001b[0;34m\u001b[0m\u001b[0;34m\u001b[0m\u001b[0m\n\u001b[0;32m----> 9\u001b[0;31m         \u001b[0mrsq\u001b[0m\u001b[0;34m=\u001b[0m\u001b[0msm\u001b[0m\u001b[0;34m.\u001b[0m\u001b[0mols\u001b[0m\u001b[0;34m(\u001b[0m\u001b[0mformula\u001b[0m\u001b[0;34m=\u001b[0m\u001b[0;34m\"y~x\"\u001b[0m\u001b[0;34m,\u001b[0m \u001b[0mdata\u001b[0m\u001b[0;34m=\u001b[0m\u001b[0mx_vars\u001b[0m\u001b[0;34m)\u001b[0m\u001b[0;34m.\u001b[0m\u001b[0mfit\u001b[0m\u001b[0;34m(\u001b[0m\u001b[0;34m)\u001b[0m\u001b[0;34m.\u001b[0m\u001b[0mrsquared\u001b[0m\u001b[0;34m\u001b[0m\u001b[0;34m\u001b[0m\u001b[0m\n\u001b[0m\u001b[1;32m     10\u001b[0m         \u001b[0mvif\u001b[0m\u001b[0;34m=\u001b[0m\u001b[0mround\u001b[0m\u001b[0;34m(\u001b[0m\u001b[0;36m1\u001b[0m\u001b[0;34m/\u001b[0m\u001b[0;34m(\u001b[0m\u001b[0;36m1\u001b[0m\u001b[0;34m-\u001b[0m\u001b[0mrsq\u001b[0m\u001b[0;34m)\u001b[0m\u001b[0;34m,\u001b[0m\u001b[0;36m2\u001b[0m\u001b[0;34m)\u001b[0m\u001b[0;34m\u001b[0m\u001b[0;34m\u001b[0m\u001b[0m\n\u001b[1;32m     11\u001b[0m         \u001b[0mVIF\u001b[0m\u001b[0;34m.\u001b[0m\u001b[0mappend\u001b[0m\u001b[0;34m(\u001b[0m\u001b[0mvif\u001b[0m\u001b[0;34m)\u001b[0m\u001b[0;34m\u001b[0m\u001b[0;34m\u001b[0m\u001b[0m\n",
            "\u001b[0;32m/usr/local/lib/python3.7/dist-packages/statsmodels/base/model.py\u001b[0m in \u001b[0;36mfrom_formula\u001b[0;34m(cls, formula, data, subset, drop_cols, *args, **kwargs)\u001b[0m\n\u001b[1;32m    168\u001b[0m \u001b[0;34m\u001b[0m\u001b[0m\n\u001b[1;32m    169\u001b[0m         tmp = handle_formula_data(data, None, formula, depth=eval_env,\n\u001b[0;32m--> 170\u001b[0;31m                                   missing=missing)\n\u001b[0m\u001b[1;32m    171\u001b[0m         \u001b[0;34m(\u001b[0m\u001b[0;34m(\u001b[0m\u001b[0mendog\u001b[0m\u001b[0;34m,\u001b[0m \u001b[0mexog\u001b[0m\u001b[0;34m)\u001b[0m\u001b[0;34m,\u001b[0m \u001b[0mmissing_idx\u001b[0m\u001b[0;34m,\u001b[0m \u001b[0mdesign_info\u001b[0m\u001b[0;34m)\u001b[0m \u001b[0;34m=\u001b[0m \u001b[0mtmp\u001b[0m\u001b[0;34m\u001b[0m\u001b[0;34m\u001b[0m\u001b[0m\n\u001b[1;32m    172\u001b[0m         \u001b[0mmax_endog\u001b[0m \u001b[0;34m=\u001b[0m \u001b[0mcls\u001b[0m\u001b[0;34m.\u001b[0m\u001b[0m_formula_max_endog\u001b[0m\u001b[0;34m\u001b[0m\u001b[0;34m\u001b[0m\u001b[0m\n",
            "\u001b[0;32m/usr/local/lib/python3.7/dist-packages/statsmodels/formula/formulatools.py\u001b[0m in \u001b[0;36mhandle_formula_data\u001b[0;34m(Y, X, formula, depth, missing)\u001b[0m\n\u001b[1;32m     62\u001b[0m         \u001b[0;32mif\u001b[0m \u001b[0mdata_util\u001b[0m\u001b[0;34m.\u001b[0m\u001b[0m_is_using_pandas\u001b[0m\u001b[0;34m(\u001b[0m\u001b[0mY\u001b[0m\u001b[0;34m,\u001b[0m \u001b[0;32mNone\u001b[0m\u001b[0;34m)\u001b[0m\u001b[0;34m:\u001b[0m\u001b[0;34m\u001b[0m\u001b[0;34m\u001b[0m\u001b[0m\n\u001b[1;32m     63\u001b[0m             result = dmatrices(formula, Y, depth, return_type='dataframe',\n\u001b[0;32m---> 64\u001b[0;31m                                NA_action=na_action)\n\u001b[0m\u001b[1;32m     65\u001b[0m         \u001b[0;32melse\u001b[0m\u001b[0;34m:\u001b[0m\u001b[0;34m\u001b[0m\u001b[0;34m\u001b[0m\u001b[0m\n\u001b[1;32m     66\u001b[0m             result = dmatrices(formula, Y, depth, return_type='dataframe',\n",
            "\u001b[0;32m/usr/local/lib/python3.7/dist-packages/patsy/highlevel.py\u001b[0m in \u001b[0;36mdmatrices\u001b[0;34m(formula_like, data, eval_env, NA_action, return_type)\u001b[0m\n\u001b[1;32m    308\u001b[0m     \u001b[0meval_env\u001b[0m \u001b[0;34m=\u001b[0m \u001b[0mEvalEnvironment\u001b[0m\u001b[0;34m.\u001b[0m\u001b[0mcapture\u001b[0m\u001b[0;34m(\u001b[0m\u001b[0meval_env\u001b[0m\u001b[0;34m,\u001b[0m \u001b[0mreference\u001b[0m\u001b[0;34m=\u001b[0m\u001b[0;36m1\u001b[0m\u001b[0;34m)\u001b[0m\u001b[0;34m\u001b[0m\u001b[0;34m\u001b[0m\u001b[0m\n\u001b[1;32m    309\u001b[0m     (lhs, rhs) = _do_highlevel_design(formula_like, data, eval_env,\n\u001b[0;32m--> 310\u001b[0;31m                                       NA_action, return_type)\n\u001b[0m\u001b[1;32m    311\u001b[0m     \u001b[0;32mif\u001b[0m \u001b[0mlhs\u001b[0m\u001b[0;34m.\u001b[0m\u001b[0mshape\u001b[0m\u001b[0;34m[\u001b[0m\u001b[0;36m1\u001b[0m\u001b[0;34m]\u001b[0m \u001b[0;34m==\u001b[0m \u001b[0;36m0\u001b[0m\u001b[0;34m:\u001b[0m\u001b[0;34m\u001b[0m\u001b[0;34m\u001b[0m\u001b[0m\n\u001b[1;32m    312\u001b[0m         \u001b[0;32mraise\u001b[0m \u001b[0mPatsyError\u001b[0m\u001b[0;34m(\u001b[0m\u001b[0;34m\"model is missing required outcome variables\"\u001b[0m\u001b[0;34m)\u001b[0m\u001b[0;34m\u001b[0m\u001b[0;34m\u001b[0m\u001b[0m\n",
            "\u001b[0;32m/usr/local/lib/python3.7/dist-packages/patsy/highlevel.py\u001b[0m in \u001b[0;36m_do_highlevel_design\u001b[0;34m(formula_like, data, eval_env, NA_action, return_type)\u001b[0m\n\u001b[1;32m    163\u001b[0m         \u001b[0;32mreturn\u001b[0m \u001b[0miter\u001b[0m\u001b[0;34m(\u001b[0m\u001b[0;34m[\u001b[0m\u001b[0mdata\u001b[0m\u001b[0;34m]\u001b[0m\u001b[0;34m)\u001b[0m\u001b[0;34m\u001b[0m\u001b[0;34m\u001b[0m\u001b[0m\n\u001b[1;32m    164\u001b[0m     design_infos = _try_incr_builders(formula_like, data_iter_maker, eval_env,\n\u001b[0;32m--> 165\u001b[0;31m                                       NA_action)\n\u001b[0m\u001b[1;32m    166\u001b[0m     \u001b[0;32mif\u001b[0m \u001b[0mdesign_infos\u001b[0m \u001b[0;32mis\u001b[0m \u001b[0;32mnot\u001b[0m \u001b[0;32mNone\u001b[0m\u001b[0;34m:\u001b[0m\u001b[0;34m\u001b[0m\u001b[0;34m\u001b[0m\u001b[0m\n\u001b[1;32m    167\u001b[0m         return build_design_matrices(design_infos, data,\n",
            "\u001b[0;32m/usr/local/lib/python3.7/dist-packages/patsy/highlevel.py\u001b[0m in \u001b[0;36m_try_incr_builders\u001b[0;34m(formula_like, data_iter_maker, eval_env, NA_action)\u001b[0m\n\u001b[1;32m     68\u001b[0m                                       \u001b[0mdata_iter_maker\u001b[0m\u001b[0;34m,\u001b[0m\u001b[0;34m\u001b[0m\u001b[0;34m\u001b[0m\u001b[0m\n\u001b[1;32m     69\u001b[0m                                       \u001b[0meval_env\u001b[0m\u001b[0;34m,\u001b[0m\u001b[0;34m\u001b[0m\u001b[0;34m\u001b[0m\u001b[0m\n\u001b[0;32m---> 70\u001b[0;31m                                       NA_action)\n\u001b[0m\u001b[1;32m     71\u001b[0m     \u001b[0;32melse\u001b[0m\u001b[0;34m:\u001b[0m\u001b[0;34m\u001b[0m\u001b[0;34m\u001b[0m\u001b[0m\n\u001b[1;32m     72\u001b[0m         \u001b[0;32mreturn\u001b[0m \u001b[0;32mNone\u001b[0m\u001b[0;34m\u001b[0m\u001b[0;34m\u001b[0m\u001b[0m\n",
            "\u001b[0;32m/usr/local/lib/python3.7/dist-packages/patsy/build.py\u001b[0m in \u001b[0;36mdesign_matrix_builders\u001b[0;34m(termlists, data_iter_maker, eval_env, NA_action)\u001b[0m\n\u001b[1;32m    694\u001b[0m                                                    \u001b[0mfactor_states\u001b[0m\u001b[0;34m,\u001b[0m\u001b[0;34m\u001b[0m\u001b[0;34m\u001b[0m\u001b[0m\n\u001b[1;32m    695\u001b[0m                                                    \u001b[0mdata_iter_maker\u001b[0m\u001b[0;34m,\u001b[0m\u001b[0;34m\u001b[0m\u001b[0;34m\u001b[0m\u001b[0m\n\u001b[0;32m--> 696\u001b[0;31m                                                    NA_action)\n\u001b[0m\u001b[1;32m    697\u001b[0m     \u001b[0;31m# Now we need the factor infos, which encapsulate the knowledge of\u001b[0m\u001b[0;34m\u001b[0m\u001b[0;34m\u001b[0m\u001b[0;34m\u001b[0m\u001b[0m\n\u001b[1;32m    698\u001b[0m     \u001b[0;31m# how to turn any given factor into a chunk of data:\u001b[0m\u001b[0;34m\u001b[0m\u001b[0;34m\u001b[0m\u001b[0;34m\u001b[0m\u001b[0m\n",
            "\u001b[0;32m/usr/local/lib/python3.7/dist-packages/patsy/build.py\u001b[0m in \u001b[0;36m_examine_factor_types\u001b[0;34m(factors, factor_states, data_iter_maker, NA_action)\u001b[0m\n\u001b[1;32m    446\u001b[0m                     cat_sniffers[factor] = CategoricalSniffer(NA_action,\n\u001b[1;32m    447\u001b[0m                                                               factor.origin)\n\u001b[0;32m--> 448\u001b[0;31m                 \u001b[0mdone\u001b[0m \u001b[0;34m=\u001b[0m \u001b[0mcat_sniffers\u001b[0m\u001b[0;34m[\u001b[0m\u001b[0mfactor\u001b[0m\u001b[0;34m]\u001b[0m\u001b[0;34m.\u001b[0m\u001b[0msniff\u001b[0m\u001b[0;34m(\u001b[0m\u001b[0mvalue\u001b[0m\u001b[0;34m)\u001b[0m\u001b[0;34m\u001b[0m\u001b[0;34m\u001b[0m\u001b[0m\n\u001b[0m\u001b[1;32m    449\u001b[0m                 \u001b[0;32mif\u001b[0m \u001b[0mdone\u001b[0m\u001b[0;34m:\u001b[0m\u001b[0;34m\u001b[0m\u001b[0;34m\u001b[0m\u001b[0m\n\u001b[1;32m    450\u001b[0m                     \u001b[0mexamine_needed\u001b[0m\u001b[0;34m.\u001b[0m\u001b[0mremove\u001b[0m\u001b[0;34m(\u001b[0m\u001b[0mfactor\u001b[0m\u001b[0;34m)\u001b[0m\u001b[0;34m\u001b[0m\u001b[0;34m\u001b[0m\u001b[0m\n",
            "\u001b[0;32m/usr/local/lib/python3.7/dist-packages/patsy/categorical.py\u001b[0m in \u001b[0;36msniff\u001b[0;34m(self, data)\u001b[0m\n\u001b[1;32m    200\u001b[0m             \u001b[0;32mreturn\u001b[0m \u001b[0;32mTrue\u001b[0m\u001b[0;34m\u001b[0m\u001b[0;34m\u001b[0m\u001b[0m\n\u001b[1;32m    201\u001b[0m \u001b[0;34m\u001b[0m\u001b[0m\n\u001b[0;32m--> 202\u001b[0;31m         \u001b[0mdata\u001b[0m \u001b[0;34m=\u001b[0m \u001b[0m_categorical_shape_fix\u001b[0m\u001b[0;34m(\u001b[0m\u001b[0mdata\u001b[0m\u001b[0;34m)\u001b[0m\u001b[0;34m\u001b[0m\u001b[0;34m\u001b[0m\u001b[0m\n\u001b[0m\u001b[1;32m    203\u001b[0m \u001b[0;34m\u001b[0m\u001b[0m\n\u001b[1;32m    204\u001b[0m         \u001b[0;32mfor\u001b[0m \u001b[0mvalue\u001b[0m \u001b[0;32min\u001b[0m \u001b[0mdata\u001b[0m\u001b[0;34m:\u001b[0m\u001b[0;34m\u001b[0m\u001b[0;34m\u001b[0m\u001b[0m\n",
            "\u001b[0;32m/usr/local/lib/python3.7/dist-packages/patsy/categorical.py\u001b[0m in \u001b[0;36m_categorical_shape_fix\u001b[0;34m(data)\u001b[0m\n\u001b[1;32m    155\u001b[0m     \u001b[0;31m# wrong shape.\u001b[0m\u001b[0;34m\u001b[0m\u001b[0;34m\u001b[0m\u001b[0;34m\u001b[0m\u001b[0m\n\u001b[1;32m    156\u001b[0m     \u001b[0;32mif\u001b[0m \u001b[0mhasattr\u001b[0m\u001b[0;34m(\u001b[0m\u001b[0mdata\u001b[0m\u001b[0;34m,\u001b[0m \u001b[0;34m\"ndim\"\u001b[0m\u001b[0;34m)\u001b[0m \u001b[0;32mand\u001b[0m \u001b[0mdata\u001b[0m\u001b[0;34m.\u001b[0m\u001b[0mndim\u001b[0m \u001b[0;34m>\u001b[0m \u001b[0;36m1\u001b[0m\u001b[0;34m:\u001b[0m\u001b[0;34m\u001b[0m\u001b[0;34m\u001b[0m\u001b[0m\n\u001b[0;32m--> 157\u001b[0;31m         \u001b[0;32mraise\u001b[0m \u001b[0mPatsyError\u001b[0m\u001b[0;34m(\u001b[0m\u001b[0;34m\"categorical data cannot be >1-dimensional\"\u001b[0m\u001b[0;34m)\u001b[0m\u001b[0;34m\u001b[0m\u001b[0;34m\u001b[0m\u001b[0m\n\u001b[0m\u001b[1;32m    158\u001b[0m     \u001b[0;31m# coerce scalars into 1d, which is consistent with what we do for numeric\u001b[0m\u001b[0;34m\u001b[0m\u001b[0;34m\u001b[0m\u001b[0;34m\u001b[0m\u001b[0m\n\u001b[1;32m    159\u001b[0m     \u001b[0;31m# factors. (See statsmodels/statsmodels#1881)\u001b[0m\u001b[0;34m\u001b[0m\u001b[0;34m\u001b[0m\u001b[0;34m\u001b[0m\u001b[0m\n",
            "\u001b[0;31mPatsyError\u001b[0m: categorical data cannot be >1-dimensional"
          ]
        }
      ]
    },
    {
      "cell_type": "code",
      "source": [
        "vif_df.loc[vif_df[\"VIF\"]!=np.inf,:]"
      ],
      "metadata": {
        "colab": {
          "base_uri": "https://localhost:8080/",
          "height": 166
        },
        "id": "TH014M2gYiDX",
        "outputId": "66050180-9db8-4a1e-b4fc-15deb784e19a"
      },
      "execution_count": null,
      "outputs": [
        {
          "output_type": "error",
          "ename": "NameError",
          "evalue": "ignored",
          "traceback": [
            "\u001b[0;31m---------------------------------------------------------------------------\u001b[0m",
            "\u001b[0;31mNameError\u001b[0m                                 Traceback (most recent call last)",
            "\u001b[0;32m<ipython-input-17-bc060aa9cc45>\u001b[0m in \u001b[0;36m<module>\u001b[0;34m\u001b[0m\n\u001b[0;32m----> 1\u001b[0;31m \u001b[0mvif_df\u001b[0m\u001b[0;34m.\u001b[0m\u001b[0mloc\u001b[0m\u001b[0;34m[\u001b[0m\u001b[0mvif_df\u001b[0m\u001b[0;34m[\u001b[0m\u001b[0;34m\"VIF\"\u001b[0m\u001b[0;34m]\u001b[0m\u001b[0;34m!=\u001b[0m\u001b[0mnp\u001b[0m\u001b[0;34m.\u001b[0m\u001b[0minf\u001b[0m\u001b[0;34m,\u001b[0m\u001b[0;34m:\u001b[0m\u001b[0;34m]\u001b[0m\u001b[0;34m\u001b[0m\u001b[0;34m\u001b[0m\u001b[0m\n\u001b[0m",
            "\u001b[0;31mNameError\u001b[0m: name 'vif_df' is not defined"
          ]
        }
      ]
    },
    {
      "cell_type": "markdown",
      "source": [
        "#### Dython Correlation"
      ],
      "metadata": {
        "id": "577ijzTqbgXP"
      }
    },
    {
      "cell_type": "code",
      "source": [
        "from dython import nominal\n",
        "from dython.nominal import associations"
      ],
      "metadata": {
        "id": "T_7tRfUKZKgY"
      },
      "execution_count": null,
      "outputs": []
    },
    {
      "cell_type": "code",
      "source": [
        "cat_df = df[cat_col]"
      ],
      "metadata": {
        "id": "S5iTCwYQa6Ts"
      },
      "execution_count": null,
      "outputs": []
    },
    {
      "cell_type": "code",
      "source": [
        "assoc=associations(cat_df,plot=False,clustering=True)\n",
        "correlations=assoc['corr']"
      ],
      "metadata": {
        "colab": {
          "base_uri": "https://localhost:8080/",
          "height": 390
        },
        "id": "-v-F_0oIaZOB",
        "outputId": "fb8e16f8-8e98-407e-cc0f-4e9a3f8bf99d"
      },
      "execution_count": null,
      "outputs": [
        {
          "output_type": "display_data",
          "data": {
            "text/plain": [
              "<Figure size 432x288 with 2 Axes>"
            ],
            "image/png": "[encoded data removed]"
          },
          "metadata": {
            "needs_background": "light"
          }
        }
      ]
    },
    {
      "cell_type": "markdown",
      "source": [
        "#### User defined functions"
      ],
      "metadata": {
        "id": "gVbQveA7evdP"
      }
    },
    {
      "cell_type": "code",
      "source": [
        "def Linear_Regression_Sklearn(data,model_name):\n",
        "  X = data.drop(\"Expected_CTC\",axis=1)\n",
        "  Y = data[\"Expected_CTC\"]\n",
        "  X_train,X_test,Y_train,Y_test = train_test_split(X,Y,test_size=0.3,random_state=1)\n",
        "  kf = KFold(n_splits=5)\n",
        "  for (train_idx,test_idx) in kf.split(X_train,Y_train):\n",
        "    X_train_cv,X_test_cv=X_train.iloc[train_idx],X_train.iloc[test_idx]\n",
        "    Y_train_cv,Y_test_cv=Y_train.iloc[train_idx],Y_train.iloc[test_idx]\n",
        "    lr = LinearRegression()\n",
        "    lr.fit(X_train_cv,Y_train_cv)\n",
        "  train_pred = lr.predict(X_train)\n",
        "  test_pred = lr.predict(X_test)\n",
        "  train_rmse = mean_squared_error(Y_train,train_pred,squared=False)\n",
        "  test_rmse = mean_squared_error(Y_test,test_pred,squared=False)\n",
        "  train_mae = mean_absolute_error(Y_train,train_pred)\n",
        "  test_mae = mean_absolute_error(Y_test,test_pred)\n",
        "  train_mape = mean_absolute_percentage_error(Y_train,train_pred)\n",
        "  test_mape = mean_absolute_percentage_error(Y_test,test_pred)\n",
        "  r2_sq_train = r2_score(Y_train,train_pred)\n",
        "  r2_sq_test = r2_score(Y_test,test_pred)\n",
        "  data = pd.DataFrame(columns=[model_name],data=[train_rmse,test_rmse,r2_sq_train,r2_sq_test],index=[\"Train RMSE\",\"Test RMSE\",\"R-sq_Train\",\"R-sq_Test\"])\n",
        "  return data"
      ],
      "metadata": {
        "id": "L1_Ql1Dpeyfe"
      },
      "execution_count": null,
      "outputs": []
    },
    {
      "cell_type": "code",
      "source": [
        "def Decision_Tree(data,model_name):\n",
        "  X = data.drop(\"Expected_CTC\",axis=1)\n",
        "  Y = data[\"Expected_CTC\"]\n",
        "  X_train,X_test,Y_train,Y_test = train_test_split(X,Y,test_size=0.3,random_state=1)\n",
        "  kf=KFold(n_splits=5)\n",
        "  for (train_idx,test_idx) in kf.split(X_train,Y_train):\n",
        "    X_train_cv,X_test_cv=X_train.iloc[train_idx],X_train.iloc[test_idx]\n",
        "    Y_train_cv,Y_test_cv=Y_train.iloc[train_idx],Y_train.iloc[test_idx]\n",
        "    dt = DecisionTreeRegressor()\n",
        "    dt.fit(X_train_cv,Y_train_cv)\n",
        "  train_pred = dt.predict(X_train)\n",
        "  test_pred = dt.predict(X_test)\n",
        "  train_rmse = mean_squared_error(Y_train,train_pred,squared=False)\n",
        "  test_rmse = mean_squared_error(Y_test,test_pred,squared=False)\n",
        "  train_mae = mean_absolute_error(Y_train,train_pred)\n",
        "  test_mae = mean_absolute_error(Y_test,test_pred)\n",
        "  train_mape = mean_absolute_percentage_error(Y_train,train_pred)\n",
        "  test_mape = mean_absolute_percentage_error(Y_test,test_pred)\n",
        "  r2_sq_train = r2_score(Y_train,train_pred)\n",
        "  r2_sq_test = r2_score(Y_test,test_pred)\n",
        "  data = pd.DataFrame(columns=[model_name],data=[train_rmse,test_rmse,r2_sq_train,r2_sq_test],index=[\"Train RMSE\",\"Test RMSE\",\"R-sq_Train\",\"R-sq_Test\"])\n",
        "  return data"
      ],
      "metadata": {
        "id": "reA4WuAifUMA"
      },
      "execution_count": null,
      "outputs": []
    },
    {
      "cell_type": "code",
      "source": [
        "def Random_Forest(data,model_name,set_params,params):\n",
        "  X = data.drop(\"Expected_CTC\",axis=1)\n",
        "  Y = data[\"Expected_CTC\"]\n",
        "  if set_params:\n",
        "    rf=RandomForestRegressor(**params)\n",
        "  else:\n",
        "    rf=RandomForestRegressor()\n",
        "  X_train,X_test,Y_train,Y_test = train_test_split(X,Y,test_size=0.3,random_state=1)\n",
        "  kf=KFold(n_splits=5)\n",
        "  for (train_idx,test_idx) in kf.split(X,Y):\n",
        "    X_train1,X_test1=X.iloc[train_idx],X.iloc[test_idx]\n",
        "    Y_train1,Y_test1=Y.iloc[train_idx],Y.iloc[test_idx]\n",
        "    rf.fit(X_train1,Y_train1)\n",
        "  train_pred = rf.predict(X_train)\n",
        "  test_pred = rf.predict(X_test)\n",
        "  train_rmse = mean_squared_error(Y_train,train_pred,squared=False)\n",
        "  test_rmse = mean_squared_error(Y_test,test_pred,squared=False)\n",
        "  train_mae = mean_absolute_error(Y_train,train_pred)\n",
        "  test_mae = mean_absolute_error(Y_test,test_pred)\n",
        "  train_mape = mean_absolute_percentage_error(Y_train,train_pred)\n",
        "  test_mape = mean_absolute_percentage_error(Y_test,test_pred)\n",
        "  r2_sq_train = r2_score(Y_train,train_pred)\n",
        "  r2_sq_test = r2_score(Y_test,test_pred)\n",
        "  data = pd.DataFrame(columns=[model_name],data=[train_rmse,test_rmse,r2_sq_train,r2_sq_test],index=[\"Train RMSE\",\"Test RMSE\",\"R-sq_Train\",\"R-sq_Test\"])\n",
        "  return data"
      ],
      "metadata": {
        "id": "YC91_TANqafw"
      },
      "execution_count": null,
      "outputs": []
    },
    {
      "cell_type": "code",
      "source": [
        "def XGBoost(data,model_name,set_params,params):\n",
        "    X = data.drop(\"Expected_CTC\",axis=1)\n",
        "    Y = data[\"Expected_CTC\"]\n",
        "    if set_params:\n",
        "      xgb=XGBRegressor(**params)\n",
        "    else:\n",
        "      xgb=XGBRegressor()\n",
        "    X_train,X_test,Y_train,Y_test = train_test_split(X,Y,test_size=0.3,random_state=1)\n",
        "    kf=KFold(n_splits=5)\n",
        "    for (train_idx,test_idx) in kf.split(X_train,Y_train):\n",
        "      X_train_cv,X_test_cv=X_train.iloc[train_idx],X_train.iloc[test_idx]\n",
        "      Y_train_cv,Y_test_cv=Y_train.iloc[train_idx],Y_train.iloc[test_idx]\n",
        "      xgb.fit(X_train_cv,Y_train_cv)\n",
        "    train_pred = xgb.predict(X_train)\n",
        "    test_pred = xgb.predict(X_test)\n",
        "    train_rmse = mean_squared_error(Y_train,train_pred,squared=False)\n",
        "    test_rmse = mean_squared_error(Y_test,test_pred,squared=False)\n",
        "    train_mae = mean_absolute_error(Y_train,train_pred)\n",
        "    test_mae = mean_absolute_error(Y_test,test_pred)\n",
        "    train_mape = mean_absolute_percentage_error(Y_train,train_pred)\n",
        "    test_mape = mean_absolute_percentage_error(Y_test,test_pred)\n",
        "    r2_sq_train = r2_score(Y_train,train_pred)\n",
        "    r2_sq_test = r2_score(Y_test,test_pred)\n",
        "    data = pd.DataFrame(columns=[model_name],data=[train_rmse,test_rmse,r2_sq_train,r2_sq_test],index=[\"Train RMSE\",\"Test RMSE\",\"R-sq_Train\",\"R-sq_Test\"])\n",
        "    return data"
      ],
      "metadata": {
        "id": "LBAUrU3UsIWA"
      },
      "execution_count": null,
      "outputs": []
    },
    {
      "cell_type": "code",
      "source": [
        "def cols_to_be_dropped(df,cols):\n",
        "  df.drop(columns=cols,axis=1,inplace=True)\n",
        "  return df"
      ],
      "metadata": {
        "id": "jnrTPHPck9-s"
      },
      "execution_count": null,
      "outputs": []
    },
    {
      "cell_type": "markdown",
      "source": [
        "#### Analysis"
      ],
      "metadata": {
        "id": "3yY6qvEja33w"
      }
    },
    {
      "cell_type": "code",
      "source": [
        "# With all the features"
      ],
      "metadata": {
        "id": "2Qr15MImbqfX"
      },
      "execution_count": null,
      "outputs": []
    },
    {
      "cell_type": "code",
      "source": [
        "X = df.drop([\"Expected_CTC\"],axis=1)\n",
        "Y = df[\"Expected_CTC\"]"
      ],
      "metadata": {
        "id": "jVxXbXS9btyc"
      },
      "execution_count": null,
      "outputs": []
    },
    {
      "cell_type": "code",
      "source": [
        "Metrics = Linear_Regression_Sklearn(X,Y,'LR:all feat.')\n",
        "Metrics"
      ],
      "metadata": {
        "colab": {
          "base_uri": "https://localhost:8080/",
          "height": 175
        },
        "id": "cxgTKBkEcKH-",
        "outputId": "4e1131fb-b9e9-4135-8fd9-c0e023b4799a"
      },
      "execution_count": null,
      "outputs": [
        {
          "output_type": "execute_result",
          "data": {
            "text/plain": [
              "            LR:all feat.\n",
              "Train RMSE  75087.176602\n",
              "Test RMSE   74771.492188\n",
              "R-sq_Train      0.995781\n",
              "R-sq_Test       0.995921"
            ],
            "text/html": [
              "\n",
              "  <div id=\"df-ba9c4a89-e63d-4f20-8bb4-03fd362ba310\">\n",
              "    <div class=\"colab-df-container\">\n",
              "      <div>\n",
              "<style scoped>\n",
              "    .dataframe tbody tr th:only-of-type {\n",
              "        vertical-align: middle;\n",
              "    }\n",
              "\n",
              "    .dataframe tbody tr th {\n",
              "        vertical-align: top;\n",
              "    }\n",
              "\n",
              "    .dataframe thead th {\n",
              "        text-align: right;\n",
              "    }\n",
              "</style>\n",
              "<table border=\"1\" class=\"dataframe\">\n",
              "  <thead>\n",
              "    <tr style=\"text-align: right;\">\n",
              "      <th></th>\n",
              "      <th>LR:all feat.</th>\n",
              "    </tr>\n",
              "  </thead>\n",
              "  <tbody>\n",
              "    <tr>\n",
              "      <th>Train RMSE</th>\n",
              "      <td>75087.176602</td>\n",
              "    </tr>\n",
              "    <tr>\n",
              "      <th>Test RMSE</th>\n",
              "      <td>74771.492188</td>\n",
              "    </tr>\n",
              "    <tr>\n",
              "      <th>R-sq_Train</th>\n",
              "      <td>0.995781</td>\n",
              "    </tr>\n",
              "    <tr>\n",
              "      <th>R-sq_Test</th>\n",
              "      <td>0.995921</td>\n",
              "    </tr>\n",
              "  </tbody>\n",
              "</table>\n",
              "</div>\n",
              "      <button class=\"colab-df-convert\" onclick=\"convertToInteractive('df-ba9c4a89-e63d-4f20-8bb4-03fd362ba310')\"\n",
              "              title=\"Convert this dataframe to an interactive table.\"\n",
              "              style=\"display:none;\">\n",
              "        \n",
              "  <svg xmlns=\"http://www.w3.org/2000/svg\" height=\"24px\"viewBox=\"0 0 24 24\"\n",
              "       width=\"24px\">\n",
              "    <path d=\"M0 0h24v24H0V0z\" fill=\"none\"/>\n",
              "    <path d=\"M18.56 5.44l.94 2.06.94-2.06 2.06-.94-2.06-.94-.94-2.06-.94 2.06-2.06.94zm-11 1L8.5 8.5l.94-2.06 2.06-.94-2.06-.94L8.5 2.5l-.94 2.06-2.06.94zm10 10l.94 2.06.94-2.06 2.06-.94-2.06-.94-.94-2.06-.94 2.06-2.06.94z\"/><path d=\"M17.41 7.96l-1.37-1.37c-.4-.4-.92-.59-1.43-.59-.52 0-1.04.2-1.43.59L10.3 9.45l-7.72 7.72c-.78.78-.78 2.05 0 2.83L4 21.41c.39.39.9.59 1.41.59.51 0 1.02-.2 1.41-.59l7.78-7.78 2.81-2.81c.8-.78.8-2.07 0-2.86zM5.41 20L4 18.59l7.72-7.72 1.47 1.35L5.41 20z\"/>\n",
              "  </svg>\n",
              "      </button>\n",
              "      \n",
              "  <style>\n",
              "    .colab-df-container {\n",
              "      display:flex;\n",
              "      flex-wrap:wrap;\n",
              "      gap: 12px;\n",
              "    }\n",
              "\n",
              "    .colab-df-convert {\n",
              "      background-color: #E8F0FE;\n",
              "      border: none;\n",
              "      border-radius: 50%;\n",
              "      cursor: pointer;\n",
              "      display: none;\n",
              "      fill: #1967D2;\n",
              "      height: 32px;\n",
              "      padding: 0 0 0 0;\n",
              "      width: 32px;\n",
              "    }\n",
              "\n",
              "    .colab-df-convert:hover {\n",
              "      background-color: #E2EBFA;\n",
              "      box-shadow: 0px 1px 2px rgba(60, 64, 67, 0.3), 0px 1px 3px 1px rgba(60, 64, 67, 0.15);\n",
              "      fill: #174EA6;\n",
              "    }\n",
              "\n",
              "    [theme=dark] .colab-df-convert {\n",
              "      background-color: #3B4455;\n",
              "      fill: #D2E3FC;\n",
              "    }\n",
              "\n",
              "    [theme=dark] .colab-df-convert:hover {\n",
              "      background-color: #434B5C;\n",
              "      box-shadow: 0px 1px 3px 1px rgba(0, 0, 0, 0.15);\n",
              "      filter: drop-shadow(0px 1px 2px rgba(0, 0, 0, 0.3));\n",
              "      fill: #FFFFFF;\n",
              "    }\n",
              "  </style>\n",
              "\n",
              "      <script>\n",
              "        const buttonEl =\n",
              "          document.querySelector('#df-ba9c4a89-e63d-4f20-8bb4-03fd362ba310 button.colab-df-convert');\n",
              "        buttonEl.style.display =\n",
              "          google.colab.kernel.accessAllowed ? 'block' : 'none';\n",
              "\n",
              "        async function convertToInteractive(key) {\n",
              "          const element = document.querySelector('#df-ba9c4a89-e63d-4f20-8bb4-03fd362ba310');\n",
              "          const dataTable =\n",
              "            await google.colab.kernel.invokeFunction('convertToInteractive',\n",
              "                                                     [key], {});\n",
              "          if (!dataTable) return;\n",
              "\n",
              "          const docLinkHtml = 'Like what you see? Visit the ' +\n",
              "            '<a target=\"_blank\" href=https://colab.research.google.com/notebooks/data_table.ipynb>data table notebook</a>'\n",
              "            + ' to learn more about interactive tables.';\n",
              "          element.innerHTML = '';\n",
              "          dataTable['output_type'] = 'display_data';\n",
              "          await google.colab.output.renderOutput(dataTable, element);\n",
              "          const docLink = document.createElement('div');\n",
              "          docLink.innerHTML = docLinkHtml;\n",
              "          element.appendChild(docLink);\n",
              "        }\n",
              "      </script>\n",
              "    </div>\n",
              "  </div>\n",
              "  "
            ]
          },
          "metadata": {},
          "execution_count": 28
        }
      ]
    },
    {
      "cell_type": "code",
      "source": [
        "data1,cols = ohe(df)"
      ],
      "metadata": {
        "id": "3KwpUWk8hzuk"
      },
      "execution_count": null,
      "outputs": []
    },
    {
      "cell_type": "code",
      "source": [
        "Metricsb=Linear_Regression_Sklearn(data1,'LR:all feat.CV')"
      ],
      "metadata": {
        "id": "-5Bm5iizhX-2"
      },
      "execution_count": null,
      "outputs": []
    },
    {
      "cell_type": "code",
      "source": [
        "Metrics = pd.concat([Metrics,Metricsb],axis=1)"
      ],
      "metadata": {
        "id": "1rf5jIALh4nb"
      },
      "execution_count": null,
      "outputs": []
    },
    {
      "cell_type": "code",
      "source": [
        "Metrics"
      ],
      "metadata": {
        "colab": {
          "base_uri": "https://localhost:8080/",
          "height": 175
        },
        "id": "D-JfGkvfh_jR",
        "outputId": "b1617d5b-113f-4f19-8f03-e007a619c004"
      },
      "execution_count": null,
      "outputs": [
        {
          "output_type": "execute_result",
          "data": {
            "text/plain": [
              "            LR:all feat.  LR:Uni_grad removed  DT:all feat.  DT:all feat.CV  \\\n",
              "Train RMSE  75087.176602         75112.626875  21517.908983    28375.614949   \n",
              "Test RMSE   74771.492188         74744.165164  48401.099242    47371.287205   \n",
              "R-sq_Train      0.995781             0.995778      0.999654        0.999397   \n",
              "R-sq_Test       0.995921             0.995924      0.998291        0.998363   \n",
              "\n",
              "            LR:all feat.CV  \n",
              "Train RMSE    75133.049779  \n",
              "Test RMSE     74878.510588  \n",
              "R-sq_Train        0.995776  \n",
              "R-sq_Test         0.995909  "
            ],
            "text/html": [
              "\n",
              "  <div id=\"df-1b22b8bc-4162-46f1-9e6d-c8623dbdb0b8\">\n",
              "    <div class=\"colab-df-container\">\n",
              "      <div>\n",
              "<style scoped>\n",
              "    .dataframe tbody tr th:only-of-type {\n",
              "        vertical-align: middle;\n",
              "    }\n",
              "\n",
              "    .dataframe tbody tr th {\n",
              "        vertical-align: top;\n",
              "    }\n",
              "\n",
              "    .dataframe thead th {\n",
              "        text-align: right;\n",
              "    }\n",
              "</style>\n",
              "<table border=\"1\" class=\"dataframe\">\n",
              "  <thead>\n",
              "    <tr style=\"text-align: right;\">\n",
              "      <th></th>\n",
              "      <th>LR:all feat.</th>\n",
              "      <th>LR:Uni_grad removed</th>\n",
              "      <th>DT:all feat.</th>\n",
              "      <th>DT:all feat.CV</th>\n",
              "      <th>LR:all feat.CV</th>\n",
              "    </tr>\n",
              "  </thead>\n",
              "  <tbody>\n",
              "    <tr>\n",
              "      <th>Train RMSE</th>\n",
              "      <td>75087.176602</td>\n",
              "      <td>75112.626875</td>\n",
              "      <td>21517.908983</td>\n",
              "      <td>28375.614949</td>\n",
              "      <td>75133.049779</td>\n",
              "    </tr>\n",
              "    <tr>\n",
              "      <th>Test RMSE</th>\n",
              "      <td>74771.492188</td>\n",
              "      <td>74744.165164</td>\n",
              "      <td>48401.099242</td>\n",
              "      <td>47371.287205</td>\n",
              "      <td>74878.510588</td>\n",
              "    </tr>\n",
              "    <tr>\n",
              "      <th>R-sq_Train</th>\n",
              "      <td>0.995781</td>\n",
              "      <td>0.995778</td>\n",
              "      <td>0.999654</td>\n",
              "      <td>0.999397</td>\n",
              "      <td>0.995776</td>\n",
              "    </tr>\n",
              "    <tr>\n",
              "      <th>R-sq_Test</th>\n",
              "      <td>0.995921</td>\n",
              "      <td>0.995924</td>\n",
              "      <td>0.998291</td>\n",
              "      <td>0.998363</td>\n",
              "      <td>0.995909</td>\n",
              "    </tr>\n",
              "  </tbody>\n",
              "</table>\n",
              "</div>\n",
              "      <button class=\"colab-df-convert\" onclick=\"convertToInteractive('df-1b22b8bc-4162-46f1-9e6d-c8623dbdb0b8')\"\n",
              "              title=\"Convert this dataframe to an interactive table.\"\n",
              "              style=\"display:none;\">\n",
              "        \n",
              "  <svg xmlns=\"http://www.w3.org/2000/svg\" height=\"24px\"viewBox=\"0 0 24 24\"\n",
              "       width=\"24px\">\n",
              "    <path d=\"M0 0h24v24H0V0z\" fill=\"none\"/>\n",
              "    <path d=\"M18.56 5.44l.94 2.06.94-2.06 2.06-.94-2.06-.94-.94-2.06-.94 2.06-2.06.94zm-11 1L8.5 8.5l.94-2.06 2.06-.94-2.06-.94L8.5 2.5l-.94 2.06-2.06.94zm10 10l.94 2.06.94-2.06 2.06-.94-2.06-.94-.94-2.06-.94 2.06-2.06.94z\"/><path d=\"M17.41 7.96l-1.37-1.37c-.4-.4-.92-.59-1.43-.59-.52 0-1.04.2-1.43.59L10.3 9.45l-7.72 7.72c-.78.78-.78 2.05 0 2.83L4 21.41c.39.39.9.59 1.41.59.51 0 1.02-.2 1.41-.59l7.78-7.78 2.81-2.81c.8-.78.8-2.07 0-2.86zM5.41 20L4 18.59l7.72-7.72 1.47 1.35L5.41 20z\"/>\n",
              "  </svg>\n",
              "      </button>\n",
              "      \n",
              "  <style>\n",
              "    .colab-df-container {\n",
              "      display:flex;\n",
              "      flex-wrap:wrap;\n",
              "      gap: 12px;\n",
              "    }\n",
              "\n",
              "    .colab-df-convert {\n",
              "      background-color: #E8F0FE;\n",
              "      border: none;\n",
              "      border-radius: 50%;\n",
              "      cursor: pointer;\n",
              "      display: none;\n",
              "      fill: #1967D2;\n",
              "      height: 32px;\n",
              "      padding: 0 0 0 0;\n",
              "      width: 32px;\n",
              "    }\n",
              "\n",
              "    .colab-df-convert:hover {\n",
              "      background-color: #E2EBFA;\n",
              "      box-shadow: 0px 1px 2px rgba(60, 64, 67, 0.3), 0px 1px 3px 1px rgba(60, 64, 67, 0.15);\n",
              "      fill: #174EA6;\n",
              "    }\n",
              "\n",
              "    [theme=dark] .colab-df-convert {\n",
              "      background-color: #3B4455;\n",
              "      fill: #D2E3FC;\n",
              "    }\n",
              "\n",
              "    [theme=dark] .colab-df-convert:hover {\n",
              "      background-color: #434B5C;\n",
              "      box-shadow: 0px 1px 3px 1px rgba(0, 0, 0, 0.15);\n",
              "      filter: drop-shadow(0px 1px 2px rgba(0, 0, 0, 0.3));\n",
              "      fill: #FFFFFF;\n",
              "    }\n",
              "  </style>\n",
              "\n",
              "      <script>\n",
              "        const buttonEl =\n",
              "          document.querySelector('#df-1b22b8bc-4162-46f1-9e6d-c8623dbdb0b8 button.colab-df-convert');\n",
              "        buttonEl.style.display =\n",
              "          google.colab.kernel.accessAllowed ? 'block' : 'none';\n",
              "\n",
              "        async function convertToInteractive(key) {\n",
              "          const element = document.querySelector('#df-1b22b8bc-4162-46f1-9e6d-c8623dbdb0b8');\n",
              "          const dataTable =\n",
              "            await google.colab.kernel.invokeFunction('convertToInteractive',\n",
              "                                                     [key], {});\n",
              "          if (!dataTable) return;\n",
              "\n",
              "          const docLinkHtml = 'Like what you see? Visit the ' +\n",
              "            '<a target=\"_blank\" href=https://colab.research.google.com/notebooks/data_table.ipynb>data table notebook</a>'\n",
              "            + ' to learn more about interactive tables.';\n",
              "          element.innerHTML = '';\n",
              "          dataTable['output_type'] = 'display_data';\n",
              "          await google.colab.output.renderOutput(dataTable, element);\n",
              "          const docLink = document.createElement('div');\n",
              "          docLink.innerHTML = docLinkHtml;\n",
              "          element.appendChild(docLink);\n",
              "        }\n",
              "      </script>\n",
              "    </div>\n",
              "  </div>\n",
              "  "
            ]
          },
          "metadata": {},
          "execution_count": 52
        }
      ]
    },
    {
      "cell_type": "code",
      "source": [
        "# Dropping University_Grad\n",
        "data = df.copy()"
      ],
      "metadata": {
        "id": "6k7-UHN8epMS"
      },
      "execution_count": null,
      "outputs": []
    },
    {
      "cell_type": "code",
      "source": [
        "data.drop(\"University_Grad\",axis=1,inplace=True)"
      ],
      "metadata": {
        "id": "KQjBkLQCfbO_"
      },
      "execution_count": null,
      "outputs": []
    },
    {
      "cell_type": "code",
      "source": [
        "data,cols=ohe(data)"
      ],
      "metadata": {
        "id": "wJ1zliE9feUY"
      },
      "execution_count": null,
      "outputs": []
    },
    {
      "cell_type": "code",
      "source": [
        "#Metricsd = Linear_Regression_Sklearn(data,'LR:Uni_grad removed.CV')\n",
        "#Metricse = Random_Forest(data,'RF:Uni_grad removed.CV')\n",
        "Metricsf = Random_Forest(data,'RF:all feat.CV')\n",
        "Metrics = pd.concat([Metrics,Metricsf],axis=1)"
      ],
      "metadata": {
        "id": "2LNTrMNWfiyN"
      },
      "execution_count": null,
      "outputs": []
    },
    {
      "cell_type": "code",
      "source": [
        "#Metrics = pd.concat([Metrics,Metricsd],axis=1)\n",
        "Metrics"
      ],
      "metadata": {
        "colab": {
          "base_uri": "https://localhost:8080/",
          "height": 175
        },
        "id": "Ijr6Qkdgf70E",
        "outputId": "1d5544dc-8f2c-4ab0-e7a3-5afe887729e8"
      },
      "execution_count": null,
      "outputs": [
        {
          "output_type": "execute_result",
          "data": {
            "text/plain": [
              "            LR:all feat.  LR:Uni_grad removed  DT:all feat.  DT:all feat.CV  \\\n",
              "Train RMSE  75087.176602         75112.626875  21517.908983    28375.614949   \n",
              "Test RMSE   74771.492188         74744.165164  48401.099242    47371.287205   \n",
              "R-sq_Train      0.995781             0.995778      0.999654        0.999397   \n",
              "R-sq_Test       0.995921             0.995924      0.998291        0.998363   \n",
              "\n",
              "            DT:Org,Uni_grad removed CV  RF:Uni_grad removed.CV  RF:all feat.CV  \n",
              "Train RMSE                34671.368681            34468.025649    28545.979162  \n",
              "Test RMSE                 40748.951729            38142.625990    40412.775023  \n",
              "R-sq_Train                    0.999100                0.999111        0.999390  \n",
              "R-sq_Test                     0.998789                0.998939        0.998808  "
            ],
            "text/html": [
              "\n",
              "  <div id=\"df-5814bffe-1e3c-407b-b04b-33933df2b26a\">\n",
              "    <div class=\"colab-df-container\">\n",
              "      <div>\n",
              "<style scoped>\n",
              "    .dataframe tbody tr th:only-of-type {\n",
              "        vertical-align: middle;\n",
              "    }\n",
              "\n",
              "    .dataframe tbody tr th {\n",
              "        vertical-align: top;\n",
              "    }\n",
              "\n",
              "    .dataframe thead th {\n",
              "        text-align: right;\n",
              "    }\n",
              "</style>\n",
              "<table border=\"1\" class=\"dataframe\">\n",
              "  <thead>\n",
              "    <tr style=\"text-align: right;\">\n",
              "      <th></th>\n",
              "      <th>LR:all feat.</th>\n",
              "      <th>LR:Uni_grad removed</th>\n",
              "      <th>DT:all feat.</th>\n",
              "      <th>DT:all feat.CV</th>\n",
              "      <th>DT:Org,Uni_grad removed CV</th>\n",
              "      <th>RF:Uni_grad removed.CV</th>\n",
              "      <th>RF:all feat.CV</th>\n",
              "    </tr>\n",
              "  </thead>\n",
              "  <tbody>\n",
              "    <tr>\n",
              "      <th>Train RMSE</th>\n",
              "      <td>75087.176602</td>\n",
              "      <td>75112.626875</td>\n",
              "      <td>21517.908983</td>\n",
              "      <td>28375.614949</td>\n",
              "      <td>34671.368681</td>\n",
              "      <td>34468.025649</td>\n",
              "      <td>28545.979162</td>\n",
              "    </tr>\n",
              "    <tr>\n",
              "      <th>Test RMSE</th>\n",
              "      <td>74771.492188</td>\n",
              "      <td>74744.165164</td>\n",
              "      <td>48401.099242</td>\n",
              "      <td>47371.287205</td>\n",
              "      <td>40748.951729</td>\n",
              "      <td>38142.625990</td>\n",
              "      <td>40412.775023</td>\n",
              "    </tr>\n",
              "    <tr>\n",
              "      <th>R-sq_Train</th>\n",
              "      <td>0.995781</td>\n",
              "      <td>0.995778</td>\n",
              "      <td>0.999654</td>\n",
              "      <td>0.999397</td>\n",
              "      <td>0.999100</td>\n",
              "      <td>0.999111</td>\n",
              "      <td>0.999390</td>\n",
              "    </tr>\n",
              "    <tr>\n",
              "      <th>R-sq_Test</th>\n",
              "      <td>0.995921</td>\n",
              "      <td>0.995924</td>\n",
              "      <td>0.998291</td>\n",
              "      <td>0.998363</td>\n",
              "      <td>0.998789</td>\n",
              "      <td>0.998939</td>\n",
              "      <td>0.998808</td>\n",
              "    </tr>\n",
              "  </tbody>\n",
              "</table>\n",
              "</div>\n",
              "      <button class=\"colab-df-convert\" onclick=\"convertToInteractive('df-5814bffe-1e3c-407b-b04b-33933df2b26a')\"\n",
              "              title=\"Convert this dataframe to an interactive table.\"\n",
              "              style=\"display:none;\">\n",
              "        \n",
              "  <svg xmlns=\"http://www.w3.org/2000/svg\" height=\"24px\"viewBox=\"0 0 24 24\"\n",
              "       width=\"24px\">\n",
              "    <path d=\"M0 0h24v24H0V0z\" fill=\"none\"/>\n",
              "    <path d=\"M18.56 5.44l.94 2.06.94-2.06 2.06-.94-2.06-.94-.94-2.06-.94 2.06-2.06.94zm-11 1L8.5 8.5l.94-2.06 2.06-.94-2.06-.94L8.5 2.5l-.94 2.06-2.06.94zm10 10l.94 2.06.94-2.06 2.06-.94-2.06-.94-.94-2.06-.94 2.06-2.06.94z\"/><path d=\"M17.41 7.96l-1.37-1.37c-.4-.4-.92-.59-1.43-.59-.52 0-1.04.2-1.43.59L10.3 9.45l-7.72 7.72c-.78.78-.78 2.05 0 2.83L4 21.41c.39.39.9.59 1.41.59.51 0 1.02-.2 1.41-.59l7.78-7.78 2.81-2.81c.8-.78.8-2.07 0-2.86zM5.41 20L4 18.59l7.72-7.72 1.47 1.35L5.41 20z\"/>\n",
              "  </svg>\n",
              "      </button>\n",
              "      \n",
              "  <style>\n",
              "    .colab-df-container {\n",
              "      display:flex;\n",
              "      flex-wrap:wrap;\n",
              "      gap: 12px;\n",
              "    }\n",
              "\n",
              "    .colab-df-convert {\n",
              "      background-color: #E8F0FE;\n",
              "      border: none;\n",
              "      border-radius: 50%;\n",
              "      cursor: pointer;\n",
              "      display: none;\n",
              "      fill: #1967D2;\n",
              "      height: 32px;\n",
              "      padding: 0 0 0 0;\n",
              "      width: 32px;\n",
              "    }\n",
              "\n",
              "    .colab-df-convert:hover {\n",
              "      background-color: #E2EBFA;\n",
              "      box-shadow: 0px 1px 2px rgba(60, 64, 67, 0.3), 0px 1px 3px 1px rgba(60, 64, 67, 0.15);\n",
              "      fill: #174EA6;\n",
              "    }\n",
              "\n",
              "    [theme=dark] .colab-df-convert {\n",
              "      background-color: #3B4455;\n",
              "      fill: #D2E3FC;\n",
              "    }\n",
              "\n",
              "    [theme=dark] .colab-df-convert:hover {\n",
              "      background-color: #434B5C;\n",
              "      box-shadow: 0px 1px 3px 1px rgba(0, 0, 0, 0.15);\n",
              "      filter: drop-shadow(0px 1px 2px rgba(0, 0, 0, 0.3));\n",
              "      fill: #FFFFFF;\n",
              "    }\n",
              "  </style>\n",
              "\n",
              "      <script>\n",
              "        const buttonEl =\n",
              "          document.querySelector('#df-5814bffe-1e3c-407b-b04b-33933df2b26a button.colab-df-convert');\n",
              "        buttonEl.style.display =\n",
              "          google.colab.kernel.accessAllowed ? 'block' : 'none';\n",
              "\n",
              "        async function convertToInteractive(key) {\n",
              "          const element = document.querySelector('#df-5814bffe-1e3c-407b-b04b-33933df2b26a');\n",
              "          const dataTable =\n",
              "            await google.colab.kernel.invokeFunction('convertToInteractive',\n",
              "                                                     [key], {});\n",
              "          if (!dataTable) return;\n",
              "\n",
              "          const docLinkHtml = 'Like what you see? Visit the ' +\n",
              "            '<a target=\"_blank\" href=https://colab.research.google.com/notebooks/data_table.ipynb>data table notebook</a>'\n",
              "            + ' to learn more about interactive tables.';\n",
              "          element.innerHTML = '';\n",
              "          dataTable['output_type'] = 'display_data';\n",
              "          await google.colab.output.renderOutput(dataTable, element);\n",
              "          const docLink = document.createElement('div');\n",
              "          docLink.innerHTML = docLinkHtml;\n",
              "          element.appendChild(docLink);\n",
              "        }\n",
              "      </script>\n",
              "    </div>\n",
              "  </div>\n",
              "  "
            ]
          },
          "metadata": {},
          "execution_count": 87
        }
      ]
    },
    {
      "cell_type": "code",
      "source": [
        "#Cross validation didn't bring much impact onto Linear Regression but it did lower down the overfitting in Decision Trees\n",
        "Metrics.drop(columns=[\"LR:all feat.CV\",\"LR:Uni_grad removed.CV\"],axis=1,inplace=True)"
      ],
      "metadata": {
        "id": "4icTHPA-kPBE"
      },
      "execution_count": null,
      "outputs": []
    },
    {
      "cell_type": "code",
      "source": [
        "#Dropping Organization\n",
        "data = df.copy()"
      ],
      "metadata": {
        "id": "AueMkFmfgA_T"
      },
      "execution_count": null,
      "outputs": []
    },
    {
      "cell_type": "code",
      "source": [
        "data = cols_to_be_dropped(data,[\"University_Grad\",\"Organization\"])"
      ],
      "metadata": {
        "id": "P5G2om65kqaL"
      },
      "execution_count": null,
      "outputs": []
    },
    {
      "cell_type": "code",
      "source": [
        "data,cols = ohe(data)"
      ],
      "metadata": {
        "id": "aE010-2dlVQ9"
      },
      "execution_count": null,
      "outputs": []
    },
    {
      "cell_type": "code",
      "source": [
        "Metricsd=Linear_Regression_Sklearn(data,\"LR:Org,Uni_grad removed CV\")\n",
        "Metrics=pd.concat([Metrics,Metricsd],axis=1)\n",
        "Metrics"
      ],
      "metadata": {
        "colab": {
          "base_uri": "https://localhost:8080/",
          "height": 175
        },
        "id": "2cF94J1_kz_3",
        "outputId": "ec88bcbf-e1ae-4855-fe4c-349fb5dfef45"
      },
      "execution_count": null,
      "outputs": [
        {
          "output_type": "execute_result",
          "data": {
            "text/plain": [
              "            LR:all feat.  LR:Uni_grad removed  DT:all feat.  DT:all feat.CV  \\\n",
              "Train RMSE  75087.176602         75112.626875  21517.908983    28375.614949   \n",
              "Test RMSE   74771.492188         74744.165164  48401.099242    47371.287205   \n",
              "R-sq_Train      0.995781             0.995778      0.999654        0.999397   \n",
              "R-sq_Test       0.995921             0.995924      0.998291        0.998363   \n",
              "\n",
              "            LR:Org,Uni_grad removed CV  \n",
              "Train RMSE                75167.861595  \n",
              "Test RMSE                 74763.649834  \n",
              "R-sq_Train                    0.995772  \n",
              "R-sq_Test                     0.995922  "
            ],
            "text/html": [
              "\n",
              "  <div id=\"df-97154842-82c6-493d-ad59-202c5460f57e\">\n",
              "    <div class=\"colab-df-container\">\n",
              "      <div>\n",
              "<style scoped>\n",
              "    .dataframe tbody tr th:only-of-type {\n",
              "        vertical-align: middle;\n",
              "    }\n",
              "\n",
              "    .dataframe tbody tr th {\n",
              "        vertical-align: top;\n",
              "    }\n",
              "\n",
              "    .dataframe thead th {\n",
              "        text-align: right;\n",
              "    }\n",
              "</style>\n",
              "<table border=\"1\" class=\"dataframe\">\n",
              "  <thead>\n",
              "    <tr style=\"text-align: right;\">\n",
              "      <th></th>\n",
              "      <th>LR:all feat.</th>\n",
              "      <th>LR:Uni_grad removed</th>\n",
              "      <th>DT:all feat.</th>\n",
              "      <th>DT:all feat.CV</th>\n",
              "      <th>LR:Org,Uni_grad removed CV</th>\n",
              "    </tr>\n",
              "  </thead>\n",
              "  <tbody>\n",
              "    <tr>\n",
              "      <th>Train RMSE</th>\n",
              "      <td>75087.176602</td>\n",
              "      <td>75112.626875</td>\n",
              "      <td>21517.908983</td>\n",
              "      <td>28375.614949</td>\n",
              "      <td>75167.861595</td>\n",
              "    </tr>\n",
              "    <tr>\n",
              "      <th>Test RMSE</th>\n",
              "      <td>74771.492188</td>\n",
              "      <td>74744.165164</td>\n",
              "      <td>48401.099242</td>\n",
              "      <td>47371.287205</td>\n",
              "      <td>74763.649834</td>\n",
              "    </tr>\n",
              "    <tr>\n",
              "      <th>R-sq_Train</th>\n",
              "      <td>0.995781</td>\n",
              "      <td>0.995778</td>\n",
              "      <td>0.999654</td>\n",
              "      <td>0.999397</td>\n",
              "      <td>0.995772</td>\n",
              "    </tr>\n",
              "    <tr>\n",
              "      <th>R-sq_Test</th>\n",
              "      <td>0.995921</td>\n",
              "      <td>0.995924</td>\n",
              "      <td>0.998291</td>\n",
              "      <td>0.998363</td>\n",
              "      <td>0.995922</td>\n",
              "    </tr>\n",
              "  </tbody>\n",
              "</table>\n",
              "</div>\n",
              "      <button class=\"colab-df-convert\" onclick=\"convertToInteractive('df-97154842-82c6-493d-ad59-202c5460f57e')\"\n",
              "              title=\"Convert this dataframe to an interactive table.\"\n",
              "              style=\"display:none;\">\n",
              "        \n",
              "  <svg xmlns=\"http://www.w3.org/2000/svg\" height=\"24px\"viewBox=\"0 0 24 24\"\n",
              "       width=\"24px\">\n",
              "    <path d=\"M0 0h24v24H0V0z\" fill=\"none\"/>\n",
              "    <path d=\"M18.56 5.44l.94 2.06.94-2.06 2.06-.94-2.06-.94-.94-2.06-.94 2.06-2.06.94zm-11 1L8.5 8.5l.94-2.06 2.06-.94-2.06-.94L8.5 2.5l-.94 2.06-2.06.94zm10 10l.94 2.06.94-2.06 2.06-.94-2.06-.94-.94-2.06-.94 2.06-2.06.94z\"/><path d=\"M17.41 7.96l-1.37-1.37c-.4-.4-.92-.59-1.43-.59-.52 0-1.04.2-1.43.59L10.3 9.45l-7.72 7.72c-.78.78-.78 2.05 0 2.83L4 21.41c.39.39.9.59 1.41.59.51 0 1.02-.2 1.41-.59l7.78-7.78 2.81-2.81c.8-.78.8-2.07 0-2.86zM5.41 20L4 18.59l7.72-7.72 1.47 1.35L5.41 20z\"/>\n",
              "  </svg>\n",
              "      </button>\n",
              "      \n",
              "  <style>\n",
              "    .colab-df-container {\n",
              "      display:flex;\n",
              "      flex-wrap:wrap;\n",
              "      gap: 12px;\n",
              "    }\n",
              "\n",
              "    .colab-df-convert {\n",
              "      background-color: #E8F0FE;\n",
              "      border: none;\n",
              "      border-radius: 50%;\n",
              "      cursor: pointer;\n",
              "      display: none;\n",
              "      fill: #1967D2;\n",
              "      height: 32px;\n",
              "      padding: 0 0 0 0;\n",
              "      width: 32px;\n",
              "    }\n",
              "\n",
              "    .colab-df-convert:hover {\n",
              "      background-color: #E2EBFA;\n",
              "      box-shadow: 0px 1px 2px rgba(60, 64, 67, 0.3), 0px 1px 3px 1px rgba(60, 64, 67, 0.15);\n",
              "      fill: #174EA6;\n",
              "    }\n",
              "\n",
              "    [theme=dark] .colab-df-convert {\n",
              "      background-color: #3B4455;\n",
              "      fill: #D2E3FC;\n",
              "    }\n",
              "\n",
              "    [theme=dark] .colab-df-convert:hover {\n",
              "      background-color: #434B5C;\n",
              "      box-shadow: 0px 1px 3px 1px rgba(0, 0, 0, 0.15);\n",
              "      filter: drop-shadow(0px 1px 2px rgba(0, 0, 0, 0.3));\n",
              "      fill: #FFFFFF;\n",
              "    }\n",
              "  </style>\n",
              "\n",
              "      <script>\n",
              "        const buttonEl =\n",
              "          document.querySelector('#df-97154842-82c6-493d-ad59-202c5460f57e button.colab-df-convert');\n",
              "        buttonEl.style.display =\n",
              "          google.colab.kernel.accessAllowed ? 'block' : 'none';\n",
              "\n",
              "        async function convertToInteractive(key) {\n",
              "          const element = document.querySelector('#df-97154842-82c6-493d-ad59-202c5460f57e');\n",
              "          const dataTable =\n",
              "            await google.colab.kernel.invokeFunction('convertToInteractive',\n",
              "                                                     [key], {});\n",
              "          if (!dataTable) return;\n",
              "\n",
              "          const docLinkHtml = 'Like what you see? Visit the ' +\n",
              "            '<a target=\"_blank\" href=https://colab.research.google.com/notebooks/data_table.ipynb>data table notebook</a>'\n",
              "            + ' to learn more about interactive tables.';\n",
              "          element.innerHTML = '';\n",
              "          dataTable['output_type'] = 'display_data';\n",
              "          await google.colab.output.renderOutput(dataTable, element);\n",
              "          const docLink = document.createElement('div');\n",
              "          docLink.innerHTML = docLinkHtml;\n",
              "          element.appendChild(docLink);\n",
              "        }\n",
              "      </script>\n",
              "    </div>\n",
              "  </div>\n",
              "  "
            ]
          },
          "metadata": {},
          "execution_count": 71
        }
      ]
    },
    {
      "cell_type": "code",
      "source": [
        "Metricse=Decision_Tree(data,\"DT:Org,Uni_grad removed CV\")\n",
        "Metrics=pd.concat([Metrics,Metricse],axis=1)\n",
        "Metrics"
      ],
      "metadata": {
        "colab": {
          "base_uri": "https://localhost:8080/",
          "height": 253
        },
        "id": "9d4UeWoPlTGB",
        "outputId": "a01f955e-2233-457f-854e-815378b1f995"
      },
      "execution_count": null,
      "outputs": [
        {
          "output_type": "execute_result",
          "data": {
            "text/plain": [
              "            LR:all feat.  LR:Uni_grad removed  DT:all feat.  DT:all feat.CV  \\\n",
              "Train RMSE  75087.176602         75112.626875  21517.908983    28375.614949   \n",
              "Test RMSE   74771.492188         74744.165164  48401.099242    47371.287205   \n",
              "R-sq_Train      0.995781             0.995778      0.999654        0.999397   \n",
              "R-sq_Test       0.995921             0.995924      0.998291        0.998363   \n",
              "\n",
              "            LR:Org,Uni_grad removed CV  LR:Org,Uni_grad removed CV  \\\n",
              "Train RMSE                75167.861595                34684.531170   \n",
              "Test RMSE                 74763.649834                41339.660309   \n",
              "R-sq_Train                    0.995772                    0.999100   \n",
              "R-sq_Test                     0.995922                    0.998753   \n",
              "\n",
              "            DT:Org,Uni_grad removed CV  \n",
              "Train RMSE                34671.368681  \n",
              "Test RMSE                 40748.951729  \n",
              "R-sq_Train                    0.999100  \n",
              "R-sq_Test                     0.998789  "
            ],
            "text/html": [
              "\n",
              "  <div id=\"df-53ec6bb5-23f3-47b3-9d94-612b69d85529\">\n",
              "    <div class=\"colab-df-container\">\n",
              "      <div>\n",
              "<style scoped>\n",
              "    .dataframe tbody tr th:only-of-type {\n",
              "        vertical-align: middle;\n",
              "    }\n",
              "\n",
              "    .dataframe tbody tr th {\n",
              "        vertical-align: top;\n",
              "    }\n",
              "\n",
              "    .dataframe thead th {\n",
              "        text-align: right;\n",
              "    }\n",
              "</style>\n",
              "<table border=\"1\" class=\"dataframe\">\n",
              "  <thead>\n",
              "    <tr style=\"text-align: right;\">\n",
              "      <th></th>\n",
              "      <th>LR:all feat.</th>\n",
              "      <th>LR:Uni_grad removed</th>\n",
              "      <th>DT:all feat.</th>\n",
              "      <th>DT:all feat.CV</th>\n",
              "      <th>LR:Org,Uni_grad removed CV</th>\n",
              "      <th>LR:Org,Uni_grad removed CV</th>\n",
              "      <th>DT:Org,Uni_grad removed CV</th>\n",
              "    </tr>\n",
              "  </thead>\n",
              "  <tbody>\n",
              "    <tr>\n",
              "      <th>Train RMSE</th>\n",
              "      <td>75087.176602</td>\n",
              "      <td>75112.626875</td>\n",
              "      <td>21517.908983</td>\n",
              "      <td>28375.614949</td>\n",
              "      <td>75167.861595</td>\n",
              "      <td>34684.531170</td>\n",
              "      <td>34671.368681</td>\n",
              "    </tr>\n",
              "    <tr>\n",
              "      <th>Test RMSE</th>\n",
              "      <td>74771.492188</td>\n",
              "      <td>74744.165164</td>\n",
              "      <td>48401.099242</td>\n",
              "      <td>47371.287205</td>\n",
              "      <td>74763.649834</td>\n",
              "      <td>41339.660309</td>\n",
              "      <td>40748.951729</td>\n",
              "    </tr>\n",
              "    <tr>\n",
              "      <th>R-sq_Train</th>\n",
              "      <td>0.995781</td>\n",
              "      <td>0.995778</td>\n",
              "      <td>0.999654</td>\n",
              "      <td>0.999397</td>\n",
              "      <td>0.995772</td>\n",
              "      <td>0.999100</td>\n",
              "      <td>0.999100</td>\n",
              "    </tr>\n",
              "    <tr>\n",
              "      <th>R-sq_Test</th>\n",
              "      <td>0.995921</td>\n",
              "      <td>0.995924</td>\n",
              "      <td>0.998291</td>\n",
              "      <td>0.998363</td>\n",
              "      <td>0.995922</td>\n",
              "      <td>0.998753</td>\n",
              "      <td>0.998789</td>\n",
              "    </tr>\n",
              "  </tbody>\n",
              "</table>\n",
              "</div>\n",
              "      <button class=\"colab-df-convert\" onclick=\"convertToInteractive('df-53ec6bb5-23f3-47b3-9d94-612b69d85529')\"\n",
              "              title=\"Convert this dataframe to an interactive table.\"\n",
              "              style=\"display:none;\">\n",
              "        \n",
              "  <svg xmlns=\"http://www.w3.org/2000/svg\" height=\"24px\"viewBox=\"0 0 24 24\"\n",
              "       width=\"24px\">\n",
              "    <path d=\"M0 0h24v24H0V0z\" fill=\"none\"/>\n",
              "    <path d=\"M18.56 5.44l.94 2.06.94-2.06 2.06-.94-2.06-.94-.94-2.06-.94 2.06-2.06.94zm-11 1L8.5 8.5l.94-2.06 2.06-.94-2.06-.94L8.5 2.5l-.94 2.06-2.06.94zm10 10l.94 2.06.94-2.06 2.06-.94-2.06-.94-.94-2.06-.94 2.06-2.06.94z\"/><path d=\"M17.41 7.96l-1.37-1.37c-.4-.4-.92-.59-1.43-.59-.52 0-1.04.2-1.43.59L10.3 9.45l-7.72 7.72c-.78.78-.78 2.05 0 2.83L4 21.41c.39.39.9.59 1.41.59.51 0 1.02-.2 1.41-.59l7.78-7.78 2.81-2.81c.8-.78.8-2.07 0-2.86zM5.41 20L4 18.59l7.72-7.72 1.47 1.35L5.41 20z\"/>\n",
              "  </svg>\n",
              "      </button>\n",
              "      \n",
              "  <style>\n",
              "    .colab-df-container {\n",
              "      display:flex;\n",
              "      flex-wrap:wrap;\n",
              "      gap: 12px;\n",
              "    }\n",
              "\n",
              "    .colab-df-convert {\n",
              "      background-color: #E8F0FE;\n",
              "      border: none;\n",
              "      border-radius: 50%;\n",
              "      cursor: pointer;\n",
              "      display: none;\n",
              "      fill: #1967D2;\n",
              "      height: 32px;\n",
              "      padding: 0 0 0 0;\n",
              "      width: 32px;\n",
              "    }\n",
              "\n",
              "    .colab-df-convert:hover {\n",
              "      background-color: #E2EBFA;\n",
              "      box-shadow: 0px 1px 2px rgba(60, 64, 67, 0.3), 0px 1px 3px 1px rgba(60, 64, 67, 0.15);\n",
              "      fill: #174EA6;\n",
              "    }\n",
              "\n",
              "    [theme=dark] .colab-df-convert {\n",
              "      background-color: #3B4455;\n",
              "      fill: #D2E3FC;\n",
              "    }\n",
              "\n",
              "    [theme=dark] .colab-df-convert:hover {\n",
              "      background-color: #434B5C;\n",
              "      box-shadow: 0px 1px 3px 1px rgba(0, 0, 0, 0.15);\n",
              "      filter: drop-shadow(0px 1px 2px rgba(0, 0, 0, 0.3));\n",
              "      fill: #FFFFFF;\n",
              "    }\n",
              "  </style>\n",
              "\n",
              "      <script>\n",
              "        const buttonEl =\n",
              "          document.querySelector('#df-53ec6bb5-23f3-47b3-9d94-612b69d85529 button.colab-df-convert');\n",
              "        buttonEl.style.display =\n",
              "          google.colab.kernel.accessAllowed ? 'block' : 'none';\n",
              "\n",
              "        async function convertToInteractive(key) {\n",
              "          const element = document.querySelector('#df-53ec6bb5-23f3-47b3-9d94-612b69d85529');\n",
              "          const dataTable =\n",
              "            await google.colab.kernel.invokeFunction('convertToInteractive',\n",
              "                                                     [key], {});\n",
              "          if (!dataTable) return;\n",
              "\n",
              "          const docLinkHtml = 'Like what you see? Visit the ' +\n",
              "            '<a target=\"_blank\" href=https://colab.research.google.com/notebooks/data_table.ipynb>data table notebook</a>'\n",
              "            + ' to learn more about interactive tables.';\n",
              "          element.innerHTML = '';\n",
              "          dataTable['output_type'] = 'display_data';\n",
              "          await google.colab.output.renderOutput(dataTable, element);\n",
              "          const docLink = document.createElement('div');\n",
              "          docLink.innerHTML = docLinkHtml;\n",
              "          element.appendChild(docLink);\n",
              "        }\n",
              "      </script>\n",
              "    </div>\n",
              "  </div>\n",
              "  "
            ]
          },
          "metadata": {},
          "execution_count": 73
        }
      ]
    },
    {
      "cell_type": "code",
      "source": [
        "Metricsg=XGBoost(data,\"XGB:all feat.\")\n",
        "Metrics=pd.concat([Metrics,Metricsg],axis=1)\n",
        "Metrics"
      ],
      "metadata": {
        "colab": {
          "base_uri": "https://localhost:8080/",
          "height": 340
        },
        "id": "B4GYY5CfqXDR",
        "outputId": "94e7123c-4e80-4712-c68e-3a0f989f8e78"
      },
      "execution_count": null,
      "outputs": [
        {
          "output_type": "stream",
          "name": "stdout",
          "text": [
            "[13:59:40] WARNING: /workspace/src/objective/regression_obj.cu:152: reg:linear is now deprecated in favor of reg:squarederror.\n",
            "[13:59:44] WARNING: /workspace/src/objective/regression_obj.cu:152: reg:linear is now deprecated in favor of reg:squarederror.\n",
            "[13:59:48] WARNING: /workspace/src/objective/regression_obj.cu:152: reg:linear is now deprecated in favor of reg:squarederror.\n",
            "[13:59:52] WARNING: /workspace/src/objective/regression_obj.cu:152: reg:linear is now deprecated in favor of reg:squarederror.\n",
            "[13:59:56] WARNING: /workspace/src/objective/regression_obj.cu:152: reg:linear is now deprecated in favor of reg:squarederror.\n"
          ]
        },
        {
          "output_type": "execute_result",
          "data": {
            "text/plain": [
              "            LR:all feat.  LR:Uni_grad removed  DT:all feat.  DT:all feat.CV  \\\n",
              "Train RMSE  75087.176602         75112.626875  21517.908983    28375.614949   \n",
              "Test RMSE   74771.492188         74744.165164  48401.099242    47371.287205   \n",
              "R-sq_Train      0.995781             0.995778      0.999654        0.999397   \n",
              "R-sq_Test       0.995921             0.995924      0.998291        0.998363   \n",
              "\n",
              "            DT:Org,Uni_grad removed CV  RF:Uni_grad removed.CV  \\\n",
              "Train RMSE                34671.368681            34468.025649   \n",
              "Test RMSE                 40748.951729            38142.625990   \n",
              "R-sq_Train                    0.999100                0.999111   \n",
              "R-sq_Test                     0.998789                0.998939   \n",
              "\n",
              "            RF:all feat.CV  XGB:all feat.  \n",
              "Train RMSE    28545.979162   45097.185116  \n",
              "Test RMSE     40412.775023   44577.982164  \n",
              "R-sq_Train        0.999390       0.998478  \n",
              "R-sq_Test         0.998808       0.998550  "
            ],
            "text/html": [
              "\n",
              "  <div id=\"df-26fad28e-6912-40a1-8b56-c006a77fa790\">\n",
              "    <div class=\"colab-df-container\">\n",
              "      <div>\n",
              "<style scoped>\n",
              "    .dataframe tbody tr th:only-of-type {\n",
              "        vertical-align: middle;\n",
              "    }\n",
              "\n",
              "    .dataframe tbody tr th {\n",
              "        vertical-align: top;\n",
              "    }\n",
              "\n",
              "    .dataframe thead th {\n",
              "        text-align: right;\n",
              "    }\n",
              "</style>\n",
              "<table border=\"1\" class=\"dataframe\">\n",
              "  <thead>\n",
              "    <tr style=\"text-align: right;\">\n",
              "      <th></th>\n",
              "      <th>LR:all feat.</th>\n",
              "      <th>LR:Uni_grad removed</th>\n",
              "      <th>DT:all feat.</th>\n",
              "      <th>DT:all feat.CV</th>\n",
              "      <th>DT:Org,Uni_grad removed CV</th>\n",
              "      <th>RF:Uni_grad removed.CV</th>\n",
              "      <th>RF:all feat.CV</th>\n",
              "      <th>XGB:all feat.</th>\n",
              "    </tr>\n",
              "  </thead>\n",
              "  <tbody>\n",
              "    <tr>\n",
              "      <th>Train RMSE</th>\n",
              "      <td>75087.176602</td>\n",
              "      <td>75112.626875</td>\n",
              "      <td>21517.908983</td>\n",
              "      <td>28375.614949</td>\n",
              "      <td>34671.368681</td>\n",
              "      <td>34468.025649</td>\n",
              "      <td>28545.979162</td>\n",
              "      <td>45097.185116</td>\n",
              "    </tr>\n",
              "    <tr>\n",
              "      <th>Test RMSE</th>\n",
              "      <td>74771.492188</td>\n",
              "      <td>74744.165164</td>\n",
              "      <td>48401.099242</td>\n",
              "      <td>47371.287205</td>\n",
              "      <td>40748.951729</td>\n",
              "      <td>38142.625990</td>\n",
              "      <td>40412.775023</td>\n",
              "      <td>44577.982164</td>\n",
              "    </tr>\n",
              "    <tr>\n",
              "      <th>R-sq_Train</th>\n",
              "      <td>0.995781</td>\n",
              "      <td>0.995778</td>\n",
              "      <td>0.999654</td>\n",
              "      <td>0.999397</td>\n",
              "      <td>0.999100</td>\n",
              "      <td>0.999111</td>\n",
              "      <td>0.999390</td>\n",
              "      <td>0.998478</td>\n",
              "    </tr>\n",
              "    <tr>\n",
              "      <th>R-sq_Test</th>\n",
              "      <td>0.995921</td>\n",
              "      <td>0.995924</td>\n",
              "      <td>0.998291</td>\n",
              "      <td>0.998363</td>\n",
              "      <td>0.998789</td>\n",
              "      <td>0.998939</td>\n",
              "      <td>0.998808</td>\n",
              "      <td>0.998550</td>\n",
              "    </tr>\n",
              "  </tbody>\n",
              "</table>\n",
              "</div>\n",
              "      <button class=\"colab-df-convert\" onclick=\"convertToInteractive('df-26fad28e-6912-40a1-8b56-c006a77fa790')\"\n",
              "              title=\"Convert this dataframe to an interactive table.\"\n",
              "              style=\"display:none;\">\n",
              "        \n",
              "  <svg xmlns=\"http://www.w3.org/2000/svg\" height=\"24px\"viewBox=\"0 0 24 24\"\n",
              "       width=\"24px\">\n",
              "    <path d=\"M0 0h24v24H0V0z\" fill=\"none\"/>\n",
              "    <path d=\"M18.56 5.44l.94 2.06.94-2.06 2.06-.94-2.06-.94-.94-2.06-.94 2.06-2.06.94zm-11 1L8.5 8.5l.94-2.06 2.06-.94-2.06-.94L8.5 2.5l-.94 2.06-2.06.94zm10 10l.94 2.06.94-2.06 2.06-.94-2.06-.94-.94-2.06-.94 2.06-2.06.94z\"/><path d=\"M17.41 7.96l-1.37-1.37c-.4-.4-.92-.59-1.43-.59-.52 0-1.04.2-1.43.59L10.3 9.45l-7.72 7.72c-.78.78-.78 2.05 0 2.83L4 21.41c.39.39.9.59 1.41.59.51 0 1.02-.2 1.41-.59l7.78-7.78 2.81-2.81c.8-.78.8-2.07 0-2.86zM5.41 20L4 18.59l7.72-7.72 1.47 1.35L5.41 20z\"/>\n",
              "  </svg>\n",
              "      </button>\n",
              "      \n",
              "  <style>\n",
              "    .colab-df-container {\n",
              "      display:flex;\n",
              "      flex-wrap:wrap;\n",
              "      gap: 12px;\n",
              "    }\n",
              "\n",
              "    .colab-df-convert {\n",
              "      background-color: #E8F0FE;\n",
              "      border: none;\n",
              "      border-radius: 50%;\n",
              "      cursor: pointer;\n",
              "      display: none;\n",
              "      fill: #1967D2;\n",
              "      height: 32px;\n",
              "      padding: 0 0 0 0;\n",
              "      width: 32px;\n",
              "    }\n",
              "\n",
              "    .colab-df-convert:hover {\n",
              "      background-color: #E2EBFA;\n",
              "      box-shadow: 0px 1px 2px rgba(60, 64, 67, 0.3), 0px 1px 3px 1px rgba(60, 64, 67, 0.15);\n",
              "      fill: #174EA6;\n",
              "    }\n",
              "\n",
              "    [theme=dark] .colab-df-convert {\n",
              "      background-color: #3B4455;\n",
              "      fill: #D2E3FC;\n",
              "    }\n",
              "\n",
              "    [theme=dark] .colab-df-convert:hover {\n",
              "      background-color: #434B5C;\n",
              "      box-shadow: 0px 1px 3px 1px rgba(0, 0, 0, 0.15);\n",
              "      filter: drop-shadow(0px 1px 2px rgba(0, 0, 0, 0.3));\n",
              "      fill: #FFFFFF;\n",
              "    }\n",
              "  </style>\n",
              "\n",
              "      <script>\n",
              "        const buttonEl =\n",
              "          document.querySelector('#df-26fad28e-6912-40a1-8b56-c006a77fa790 button.colab-df-convert');\n",
              "        buttonEl.style.display =\n",
              "          google.colab.kernel.accessAllowed ? 'block' : 'none';\n",
              "\n",
              "        async function convertToInteractive(key) {\n",
              "          const element = document.querySelector('#df-26fad28e-6912-40a1-8b56-c006a77fa790');\n",
              "          const dataTable =\n",
              "            await google.colab.kernel.invokeFunction('convertToInteractive',\n",
              "                                                     [key], {});\n",
              "          if (!dataTable) return;\n",
              "\n",
              "          const docLinkHtml = 'Like what you see? Visit the ' +\n",
              "            '<a target=\"_blank\" href=https://colab.research.google.com/notebooks/data_table.ipynb>data table notebook</a>'\n",
              "            + ' to learn more about interactive tables.';\n",
              "          element.innerHTML = '';\n",
              "          dataTable['output_type'] = 'display_data';\n",
              "          await google.colab.output.renderOutput(dataTable, element);\n",
              "          const docLink = document.createElement('div');\n",
              "          docLink.innerHTML = docLinkHtml;\n",
              "          element.appendChild(docLink);\n",
              "        }\n",
              "      </script>\n",
              "    </div>\n",
              "  </div>\n",
              "  "
            ]
          },
          "metadata": {},
          "execution_count": 91
        }
      ]
    },
    {
      "cell_type": "code",
      "source": [
        "Metricsh=XGBoost(data,\"XGB:uni and org removed\")\n",
        "Metrics=pd.concat([Metrics,Metricsh],axis=1)\n",
        "Metrics"
      ],
      "metadata": {
        "colab": {
          "base_uri": "https://localhost:8080/",
          "height": 392
        },
        "id": "QKmrabHPsqnm",
        "outputId": "b1878f10-10ec-4343-8cef-0e9a6b5bf4de"
      },
      "execution_count": null,
      "outputs": [
        {
          "output_type": "stream",
          "name": "stdout",
          "text": [
            "[14:01:45] WARNING: /workspace/src/objective/regression_obj.cu:152: reg:linear is now deprecated in favor of reg:squarederror.\n",
            "[14:01:49] WARNING: /workspace/src/objective/regression_obj.cu:152: reg:linear is now deprecated in favor of reg:squarederror.\n",
            "[14:01:52] WARNING: /workspace/src/objective/regression_obj.cu:152: reg:linear is now deprecated in favor of reg:squarederror.\n",
            "[14:01:55] WARNING: /workspace/src/objective/regression_obj.cu:152: reg:linear is now deprecated in favor of reg:squarederror.\n",
            "[14:01:58] WARNING: /workspace/src/objective/regression_obj.cu:152: reg:linear is now deprecated in favor of reg:squarederror.\n"
          ]
        },
        {
          "output_type": "execute_result",
          "data": {
            "text/plain": [
              "            LR:all feat.  LR:Uni_grad removed  DT:all feat.  DT:all feat.CV  \\\n",
              "Train RMSE  75087.176602         75112.626875  21517.908983    28375.614949   \n",
              "Test RMSE   74771.492188         74744.165164  48401.099242    47371.287205   \n",
              "R-sq_Train      0.995781             0.995778      0.999654        0.999397   \n",
              "R-sq_Test       0.995921             0.995924      0.998291        0.998363   \n",
              "\n",
              "            DT:Org,Uni_grad removed CV  RF:Uni_grad removed.CV  \\\n",
              "Train RMSE                34671.368681            34468.025649   \n",
              "Test RMSE                 40748.951729            38142.625990   \n",
              "R-sq_Train                    0.999100                0.999111   \n",
              "R-sq_Test                     0.998789                0.998939   \n",
              "\n",
              "            RF:all feat.CV  XGB:all feat.  XGB:uni and org removed  \n",
              "Train RMSE    28545.979162   45097.185116             45282.310724  \n",
              "Test RMSE     40412.775023   44577.982164             44583.367187  \n",
              "R-sq_Train        0.999390       0.998478                 0.998466  \n",
              "R-sq_Test         0.998808       0.998550                 0.998550  "
            ],
            "text/html": [
              "\n",
              "  <div id=\"df-92e19f62-8895-4ac3-ba41-e14c14eabb95\">\n",
              "    <div class=\"colab-df-container\">\n",
              "      <div>\n",
              "<style scoped>\n",
              "    .dataframe tbody tr th:only-of-type {\n",
              "        vertical-align: middle;\n",
              "    }\n",
              "\n",
              "    .dataframe tbody tr th {\n",
              "        vertical-align: top;\n",
              "    }\n",
              "\n",
              "    .dataframe thead th {\n",
              "        text-align: right;\n",
              "    }\n",
              "</style>\n",
              "<table border=\"1\" class=\"dataframe\">\n",
              "  <thead>\n",
              "    <tr style=\"text-align: right;\">\n",
              "      <th></th>\n",
              "      <th>LR:all feat.</th>\n",
              "      <th>LR:Uni_grad removed</th>\n",
              "      <th>DT:all feat.</th>\n",
              "      <th>DT:all feat.CV</th>\n",
              "      <th>DT:Org,Uni_grad removed CV</th>\n",
              "      <th>RF:Uni_grad removed.CV</th>\n",
              "      <th>RF:all feat.CV</th>\n",
              "      <th>XGB:all feat.</th>\n",
              "      <th>XGB:uni and org removed</th>\n",
              "    </tr>\n",
              "  </thead>\n",
              "  <tbody>\n",
              "    <tr>\n",
              "      <th>Train RMSE</th>\n",
              "      <td>75087.176602</td>\n",
              "      <td>75112.626875</td>\n",
              "      <td>21517.908983</td>\n",
              "      <td>28375.614949</td>\n",
              "      <td>34671.368681</td>\n",
              "      <td>34468.025649</td>\n",
              "      <td>28545.979162</td>\n",
              "      <td>45097.185116</td>\n",
              "      <td>45282.310724</td>\n",
              "    </tr>\n",
              "    <tr>\n",
              "      <th>Test RMSE</th>\n",
              "      <td>74771.492188</td>\n",
              "      <td>74744.165164</td>\n",
              "      <td>48401.099242</td>\n",
              "      <td>47371.287205</td>\n",
              "      <td>40748.951729</td>\n",
              "      <td>38142.625990</td>\n",
              "      <td>40412.775023</td>\n",
              "      <td>44577.982164</td>\n",
              "      <td>44583.367187</td>\n",
              "    </tr>\n",
              "    <tr>\n",
              "      <th>R-sq_Train</th>\n",
              "      <td>0.995781</td>\n",
              "      <td>0.995778</td>\n",
              "      <td>0.999654</td>\n",
              "      <td>0.999397</td>\n",
              "      <td>0.999100</td>\n",
              "      <td>0.999111</td>\n",
              "      <td>0.999390</td>\n",
              "      <td>0.998478</td>\n",
              "      <td>0.998466</td>\n",
              "    </tr>\n",
              "    <tr>\n",
              "      <th>R-sq_Test</th>\n",
              "      <td>0.995921</td>\n",
              "      <td>0.995924</td>\n",
              "      <td>0.998291</td>\n",
              "      <td>0.998363</td>\n",
              "      <td>0.998789</td>\n",
              "      <td>0.998939</td>\n",
              "      <td>0.998808</td>\n",
              "      <td>0.998550</td>\n",
              "      <td>0.998550</td>\n",
              "    </tr>\n",
              "  </tbody>\n",
              "</table>\n",
              "</div>\n",
              "      <button class=\"colab-df-convert\" onclick=\"convertToInteractive('df-92e19f62-8895-4ac3-ba41-e14c14eabb95')\"\n",
              "              title=\"Convert this dataframe to an interactive table.\"\n",
              "              style=\"display:none;\">\n",
              "        \n",
              "  <svg xmlns=\"http://www.w3.org/2000/svg\" height=\"24px\"viewBox=\"0 0 24 24\"\n",
              "       width=\"24px\">\n",
              "    <path d=\"M0 0h24v24H0V0z\" fill=\"none\"/>\n",
              "    <path d=\"M18.56 5.44l.94 2.06.94-2.06 2.06-.94-2.06-.94-.94-2.06-.94 2.06-2.06.94zm-11 1L8.5 8.5l.94-2.06 2.06-.94-2.06-.94L8.5 2.5l-.94 2.06-2.06.94zm10 10l.94 2.06.94-2.06 2.06-.94-2.06-.94-.94-2.06-.94 2.06-2.06.94z\"/><path d=\"M17.41 7.96l-1.37-1.37c-.4-.4-.92-.59-1.43-.59-.52 0-1.04.2-1.43.59L10.3 9.45l-7.72 7.72c-.78.78-.78 2.05 0 2.83L4 21.41c.39.39.9.59 1.41.59.51 0 1.02-.2 1.41-.59l7.78-7.78 2.81-2.81c.8-.78.8-2.07 0-2.86zM5.41 20L4 18.59l7.72-7.72 1.47 1.35L5.41 20z\"/>\n",
              "  </svg>\n",
              "      </button>\n",
              "      \n",
              "  <style>\n",
              "    .colab-df-container {\n",
              "      display:flex;\n",
              "      flex-wrap:wrap;\n",
              "      gap: 12px;\n",
              "    }\n",
              "\n",
              "    .colab-df-convert {\n",
              "      background-color: #E8F0FE;\n",
              "      border: none;\n",
              "      border-radius: 50%;\n",
              "      cursor: pointer;\n",
              "      display: none;\n",
              "      fill: #1967D2;\n",
              "      height: 32px;\n",
              "      padding: 0 0 0 0;\n",
              "      width: 32px;\n",
              "    }\n",
              "\n",
              "    .colab-df-convert:hover {\n",
              "      background-color: #E2EBFA;\n",
              "      box-shadow: 0px 1px 2px rgba(60, 64, 67, 0.3), 0px 1px 3px 1px rgba(60, 64, 67, 0.15);\n",
              "      fill: #174EA6;\n",
              "    }\n",
              "\n",
              "    [theme=dark] .colab-df-convert {\n",
              "      background-color: #3B4455;\n",
              "      fill: #D2E3FC;\n",
              "    }\n",
              "\n",
              "    [theme=dark] .colab-df-convert:hover {\n",
              "      background-color: #434B5C;\n",
              "      box-shadow: 0px 1px 3px 1px rgba(0, 0, 0, 0.15);\n",
              "      filter: drop-shadow(0px 1px 2px rgba(0, 0, 0, 0.3));\n",
              "      fill: #FFFFFF;\n",
              "    }\n",
              "  </style>\n",
              "\n",
              "      <script>\n",
              "        const buttonEl =\n",
              "          document.querySelector('#df-92e19f62-8895-4ac3-ba41-e14c14eabb95 button.colab-df-convert');\n",
              "        buttonEl.style.display =\n",
              "          google.colab.kernel.accessAllowed ? 'block' : 'none';\n",
              "\n",
              "        async function convertToInteractive(key) {\n",
              "          const element = document.querySelector('#df-92e19f62-8895-4ac3-ba41-e14c14eabb95');\n",
              "          const dataTable =\n",
              "            await google.colab.kernel.invokeFunction('convertToInteractive',\n",
              "                                                     [key], {});\n",
              "          if (!dataTable) return;\n",
              "\n",
              "          const docLinkHtml = 'Like what you see? Visit the ' +\n",
              "            '<a target=\"_blank\" href=https://colab.research.google.com/notebooks/data_table.ipynb>data table notebook</a>'\n",
              "            + ' to learn more about interactive tables.';\n",
              "          element.innerHTML = '';\n",
              "          dataTable['output_type'] = 'display_data';\n",
              "          await google.colab.output.renderOutput(dataTable, element);\n",
              "          const docLink = document.createElement('div');\n",
              "          docLink.innerHTML = docLinkHtml;\n",
              "          element.appendChild(docLink);\n",
              "        }\n",
              "      </script>\n",
              "    </div>\n",
              "  </div>\n",
              "  "
            ]
          },
          "metadata": {},
          "execution_count": 95
        }
      ]
    },
    {
      "cell_type": "code",
      "source": [
        "def objective(trial):\n",
        "    max_depth=trial.suggest_int(\"max_depth\",3,15,step=1)\n",
        "    min_samples_leaf=trial.suggest_int(\"min_samples_leaf\",170,750,step=10)\n",
        "    min_samples_split=trial.suggest_int(\"min_samples_split\",340,1500,step=10)\n",
        "    n_estimators=trial.suggest_int(\"n_estimators\",100,1000,step=1)\n",
        "    max_features=trial.suggest_categorical(\"max_features\",choices=[\"auto\",\"sqrt\",\"log2\"])\n",
        "    cv = KFold(n_splits=10,random_state=1,shuffle=True)\n",
        "    cv_scores = []\n",
        "    for (train_idx,test_idx) in (cv.split(X,Y)):\n",
        "      X_train,Y_train = X.iloc[train_idx],Y.iloc[train_idx]\n",
        "      X_test,Y_test = X.iloc[test_idx],Y.iloc[test_idx]\n",
        "      rfr = RandomForestRegressor(max_depth=max_depth,min_samples_leaf=min_samples_leaf,min_samples_split=min_samples_split,max_features=max_features,n_estimators=n_estimators,n_jobs=-1)\n",
        "      rfr.fit(X_train,Y_train)\n",
        "      preds = rfr.predict(X_test)\n",
        "      rmse = mean_squared_error(Y_test,preds,squared=False)\n",
        "      cv_scores.append(rmse)\n",
        "    return np.mean(cv_scores)"
      ],
      "metadata": {
        "id": "kcZN8LOctJRf"
      },
      "execution_count": null,
      "outputs": []
    },
    {
      "cell_type": "code",
      "source": [
        "study=optuna.create_study(direction='minimize',study_name='RF-RMSE-min')"
      ],
      "metadata": {
        "colab": {
          "base_uri": "https://localhost:8080/"
        },
        "id": "SVKv2-8Cw0xt",
        "outputId": "0c36dd11-fdc6-46f7-dd83-30b2ef42acfd"
      },
      "execution_count": null,
      "outputs": [
        {
          "output_type": "stream",
          "name": "stderr",
          "text": [
            "\u001b[32m[I 2022-09-10 14:28:12,193]\u001b[0m A new study created in memory with name: RF-RMSE-min\u001b[0m\n"
          ]
        }
      ]
    },
    {
      "cell_type": "code",
      "source": [
        "data = df.copy()"
      ],
      "metadata": {
        "id": "E-vmJQTRysUA"
      },
      "execution_count": null,
      "outputs": []
    },
    {
      "cell_type": "code",
      "source": [
        "data,cols = ohe(data)"
      ],
      "metadata": {
        "id": "5gnu9rwJyugB"
      },
      "execution_count": null,
      "outputs": []
    },
    {
      "cell_type": "code",
      "source": [
        "data.columns.tolist().index('Expected_CTC')"
      ],
      "metadata": {
        "colab": {
          "base_uri": "https://localhost:8080/"
        },
        "id": "NTw3lRLwy6_T",
        "outputId": "ed2b00c0-83ff-4cb0-e151-284230b46eb6"
      },
      "execution_count": null,
      "outputs": [
        {
          "output_type": "execute_result",
          "data": {
            "text/plain": [
              "7"
            ]
          },
          "metadata": {},
          "execution_count": 125
        }
      ]
    },
    {
      "cell_type": "code",
      "source": [
        "X = data.drop(\"Expected_CTC\",axis=1)\n",
        "Y = data[\"Expected_CTC\"]"
      ],
      "metadata": {
        "id": "rZ2AH4LfyPgp"
      },
      "execution_count": null,
      "outputs": []
    },
    {
      "cell_type": "code",
      "source": [
        "study.optimize(objective,n_trials=20)"
      ],
      "metadata": {
        "colab": {
          "base_uri": "https://localhost:8080/"
        },
        "id": "sccxlXDAw_m0",
        "outputId": "b1d78718-385c-4f3a-e2b3-972e1f8ba246"
      },
      "execution_count": null,
      "outputs": [
        {
          "output_type": "stream",
          "name": "stderr",
          "text": [
            "\u001b[32m[I 2022-09-10 14:28:52,806]\u001b[0m Trial 0 finished with value: 649590.1664937574 and parameters: {'max_depth': 10, 'min_samples_leaf': 380, 'min_samples_split': 790, 'n_estimators': 395, 'max_features': 'log2'}. Best is trial 0 with value: 649590.1664937574.\u001b[0m\n",
            "\u001b[32m[I 2022-09-10 14:29:02,878]\u001b[0m Trial 1 finished with value: 648079.6982076846 and parameters: {'max_depth': 10, 'min_samples_leaf': 680, 'min_samples_split': 440, 'n_estimators': 120, 'max_features': 'sqrt'}. Best is trial 1 with value: 648079.6982076846.\u001b[0m\n",
            "\u001b[32m[I 2022-09-10 14:33:05,155]\u001b[0m Trial 2 finished with value: 176127.2719956846 and parameters: {'max_depth': 5, 'min_samples_leaf': 750, 'min_samples_split': 1190, 'n_estimators': 373, 'max_features': 'auto'}. Best is trial 2 with value: 176127.2719956846.\u001b[0m\n",
            "\u001b[32m[I 2022-09-10 14:36:02,427]\u001b[0m Trial 3 finished with value: 165638.19931782217 and parameters: {'max_depth': 15, 'min_samples_leaf': 290, 'min_samples_split': 1170, 'n_estimators': 278, 'max_features': 'auto'}. Best is trial 3 with value: 165638.19931782217.\u001b[0m\n",
            "\u001b[32m[I 2022-09-10 14:36:34,596]\u001b[0m Trial 4 finished with value: 877240.0957959648 and parameters: {'max_depth': 3, 'min_samples_leaf': 690, 'min_samples_split': 1470, 'n_estimators': 654, 'max_features': 'log2'}. Best is trial 3 with value: 165638.19931782217.\u001b[0m\n",
            "\u001b[32m[I 2022-09-10 14:37:21,291]\u001b[0m Trial 5 finished with value: 552051.0748843033 and parameters: {'max_depth': 9, 'min_samples_leaf': 430, 'min_samples_split': 1330, 'n_estimators': 543, 'max_features': 'sqrt'}. Best is trial 3 with value: 165638.19931782217.\u001b[0m\n",
            "\u001b[32m[I 2022-09-10 14:38:56,851]\u001b[0m Trial 6 finished with value: 479794.0864367074 and parameters: {'max_depth': 15, 'min_samples_leaf': 170, 'min_samples_split': 1470, 'n_estimators': 907, 'max_features': 'sqrt'}. Best is trial 3 with value: 165638.19931782217.\u001b[0m\n",
            "\u001b[32m[I 2022-09-10 14:44:08,485]\u001b[0m Trial 7 finished with value: 166059.6170087457 and parameters: {'max_depth': 12, 'min_samples_leaf': 470, 'min_samples_split': 1140, 'n_estimators': 521, 'max_features': 'auto'}. Best is trial 3 with value: 165638.19931782217.\u001b[0m\n",
            "\u001b[32m[I 2022-09-10 14:46:56,331]\u001b[0m Trial 8 finished with value: 171877.39264576422 and parameters: {'max_depth': 10, 'min_samples_leaf': 370, 'min_samples_split': 1500, 'n_estimators': 289, 'max_features': 'auto'}. Best is trial 3 with value: 165638.19931782217.\u001b[0m\n",
            "\u001b[32m[I 2022-09-10 14:47:19,359]\u001b[0m Trial 9 finished with value: 705174.266709517 and parameters: {'max_depth': 7, 'min_samples_leaf': 440, 'min_samples_split': 830, 'n_estimators': 325, 'max_features': 'log2'}. Best is trial 3 with value: 165638.19931782217.\u001b[0m\n",
            "\u001b[32m[I 2022-09-10 14:48:58,399]\u001b[0m Trial 10 finished with value: 129176.16610678639 and parameters: {'max_depth': 15, 'min_samples_leaf': 190, 'min_samples_split': 560, 'n_estimators': 118, 'max_features': 'auto'}. Best is trial 10 with value: 129176.16610678639.\u001b[0m\n",
            "\u001b[32m[I 2022-09-10 14:50:24,741]\u001b[0m Trial 11 finished with value: 127366.16725665874 and parameters: {'max_depth': 15, 'min_samples_leaf': 190, 'min_samples_split': 510, 'n_estimators': 103, 'max_features': 'auto'}. Best is trial 11 with value: 127366.16725665874.\u001b[0m\n",
            "\u001b[32m[I 2022-09-10 14:52:11,739]\u001b[0m Trial 12 finished with value: 121615.00995685386 and parameters: {'max_depth': 13, 'min_samples_leaf': 170, 'min_samples_split': 430, 'n_estimators': 125, 'max_features': 'auto'}. Best is trial 12 with value: 121615.00995685386.\u001b[0m\n",
            "\u001b[32m[I 2022-09-10 14:53:31,557]\u001b[0m Trial 13 finished with value: 136388.70153370596 and parameters: {'max_depth': 13, 'min_samples_leaf': 270, 'min_samples_split': 380, 'n_estimators': 107, 'max_features': 'auto'}. Best is trial 12 with value: 121615.00995685386.\u001b[0m\n",
            "\u001b[32m[I 2022-09-10 14:59:56,702]\u001b[0m Trial 14 finished with value: 162576.5271177615 and parameters: {'max_depth': 13, 'min_samples_leaf': 550, 'min_samples_split': 650, 'n_estimators': 753, 'max_features': 'auto'}. Best is trial 12 with value: 121615.00995685386.\u001b[0m\n",
            "\u001b[32m[I 2022-09-10 15:02:13,210]\u001b[0m Trial 15 finished with value: 141332.9460067721 and parameters: {'max_depth': 12, 'min_samples_leaf': 270, 'min_samples_split': 600, 'n_estimators': 213, 'max_features': 'auto'}. Best is trial 12 with value: 121615.00995685386.\u001b[0m\n",
            "\u001b[32m[I 2022-09-10 15:07:08,373]\u001b[0m Trial 16 finished with value: 129810.5770328769 and parameters: {'max_depth': 13, 'min_samples_leaf': 220, 'min_samples_split': 360, 'n_estimators': 469, 'max_features': 'auto'}. Best is trial 12 with value: 121615.00995685386.\u001b[0m\n",
            "\u001b[32m[I 2022-09-10 15:09:06,445]\u001b[0m Trial 17 finished with value: 145597.06175641296 and parameters: {'max_depth': 14, 'min_samples_leaf': 310, 'min_samples_split': 510, 'n_estimators': 205, 'max_features': 'auto'}. Best is trial 12 with value: 121615.00995685386.\u001b[0m\n",
            "\u001b[32m[I 2022-09-10 15:09:58,746]\u001b[0m Trial 18 finished with value: 744998.2553525714 and parameters: {'max_depth': 7, 'min_samples_leaf': 550, 'min_samples_split': 710, 'n_estimators': 957, 'max_features': 'log2'}. Best is trial 12 with value: 121615.00995685386.\u001b[0m\n",
            "\u001b[32m[I 2022-09-10 15:11:00,721]\u001b[0m Trial 19 finished with value: 484798.67432112823 and parameters: {'max_depth': 11, 'min_samples_leaf': 230, 'min_samples_split': 1010, 'n_estimators': 674, 'max_features': 'sqrt'}. Best is trial 12 with value: 121615.00995685386.\u001b[0m\n"
          ]
        }
      ]
    },
    {
      "cell_type": "code",
      "source": [
        "Metrics_rf_grid = Random_Forest(data,'RF:Tuned',True,params=study.best_params)\n",
        "Metrics = pd.concat([Metrics,Metrics_rf_grid],axis=1)\n",
        "Metrics"
      ],
      "metadata": {
        "colab": {
          "base_uri": "https://localhost:8080/",
          "height": 201
        },
        "id": "zqVwEl1KzcMu",
        "outputId": "4a017165-15dc-47b6-89e2-bc44822a8234"
      },
      "execution_count": null,
      "outputs": [
        {
          "output_type": "error",
          "ename": "NameError",
          "evalue": "ignored",
          "traceback": [
            "\u001b[0;31m---------------------------------------------------------------------------\u001b[0m",
            "\u001b[0;31mNameError\u001b[0m                                 Traceback (most recent call last)",
            "\u001b[0;32m<ipython-input-1-2e9d3ff88b21>\u001b[0m in \u001b[0;36m<module>\u001b[0;34m\u001b[0m\n\u001b[0;32m----> 1\u001b[0;31m \u001b[0mMetrics_rf_grid\u001b[0m \u001b[0;34m=\u001b[0m \u001b[0mRandom_Forest\u001b[0m\u001b[0;34m(\u001b[0m\u001b[0mdata\u001b[0m\u001b[0;34m,\u001b[0m\u001b[0;34m'RF:Tuned'\u001b[0m\u001b[0;34m,\u001b[0m\u001b[0;32mTrue\u001b[0m\u001b[0;34m,\u001b[0m\u001b[0mparams\u001b[0m\u001b[0;34m=\u001b[0m\u001b[0mstudy\u001b[0m\u001b[0;34m.\u001b[0m\u001b[0mbest_params\u001b[0m\u001b[0;34m)\u001b[0m\u001b[0;34m\u001b[0m\u001b[0;34m\u001b[0m\u001b[0m\n\u001b[0m\u001b[1;32m      2\u001b[0m \u001b[0mMetrics\u001b[0m \u001b[0;34m=\u001b[0m \u001b[0mpd\u001b[0m\u001b[0;34m.\u001b[0m\u001b[0mconcat\u001b[0m\u001b[0;34m(\u001b[0m\u001b[0;34m[\u001b[0m\u001b[0mMetrics\u001b[0m\u001b[0;34m,\u001b[0m\u001b[0mMetrics_rf_grid\u001b[0m\u001b[0;34m]\u001b[0m\u001b[0;34m,\u001b[0m\u001b[0maxis\u001b[0m\u001b[0;34m=\u001b[0m\u001b[0;36m1\u001b[0m\u001b[0;34m)\u001b[0m\u001b[0;34m\u001b[0m\u001b[0;34m\u001b[0m\u001b[0m\n\u001b[1;32m      3\u001b[0m \u001b[0mMetrics\u001b[0m\u001b[0;34m\u001b[0m\u001b[0;34m\u001b[0m\u001b[0m\n",
            "\u001b[0;31mNameError\u001b[0m: name 'Random_Forest' is not defined"
          ]
        }
      ]
    },
    {
      "cell_type": "code",
      "source": [],
      "metadata": {
        "id": "c2adlHxdxG9Q"
      },
      "execution_count": null,
      "outputs": []
    }
  ]
}