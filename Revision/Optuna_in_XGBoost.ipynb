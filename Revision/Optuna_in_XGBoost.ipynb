{
 "cells": [
  {
   "cell_type": "code",
   "execution_count": null,
   "metadata": {
    "id": "iQaqhTDD-lA2"
   },
   "outputs": [],
   "source": [
    "import optuna"
   ]
  },
  {
   "cell_type": "code",
   "execution_count": null,
   "metadata": {
    "id": "CGm5h3VG-nuG"
   },
   "outputs": [],
   "source": [
    "import pandas as pd\n",
    "import numpy as np\n",
    "import seaborn as sns\n",
    "import matplotlib.pyplot as plt\n",
    "import warnings\n",
    "warnings.filterwarnings(\"ignore\")\n",
    "from sklearn.model_selection import train_test_split\n",
    "from sklearn.tree import DecisionTreeClassifier\n",
    "from sklearn.ensemble import RandomForestClassifier\n",
    "from sklearn.linear_model import LogisticRegression\n",
    "from sklearn.model_selection import StratifiedKFold,cross_val_score\n",
    "from sklearn.preprocessing import LabelEncoder\n",
    "from sklearn.model_selection import GridSearchCV\n",
    "from sklearn.metrics import confusion_matrix,classification_report,roc_auc_score,roc_curve,precision_recall_curve\n",
    "import statsmodels.formula.api as sm\n",
    "from xgboost import XGBClassifier\n",
    "import datetime\n",
    "from datetime import *"
   ]
  },
  {
   "cell_type": "code",
   "execution_count": null,
   "metadata": {
    "id": "rrLcPBBu_2qb"
   },
   "outputs": [],
   "source": [
    "train = pd.read_csv('/content/Train.csv')\n",
    "test = pd.read_csv('/content/Test.csv')"
   ]
  },
  {
   "cell_type": "code",
   "execution_count": null,
   "metadata": {
    "id": "LoA5A0eXADvH"
   },
   "outputs": [],
   "source": [
    "X=train.drop(\"Disbursed\",axis=1)\n",
    "Y=train[\"Disbursed\"]"
   ]
  },
  {
   "cell_type": "code",
   "execution_count": null,
   "metadata": {
    "id": "lJBu2vvOAHV6"
   },
   "outputs": [],
   "source": [
    "X_train,X_test,Y_train,Y_test=train_test_split(X,Y,test_size=0.3,random_state=100)"
   ]
  },
  {
   "cell_type": "code",
   "execution_count": null,
   "metadata": {
    "id": "qqppN00sAJgG"
   },
   "outputs": [],
   "source": [
    "import xgboost as xgb"
   ]
  },
  {
   "cell_type": "code",
   "execution_count": null,
   "metadata": {
    "id": "eR4AkImrALTm"
   },
   "outputs": [],
   "source": [
    "clf = xgb.XGBClassifier()"
   ]
  },
  {
   "cell_type": "code",
   "execution_count": null,
   "metadata": {
    "id": "iyxuRhXpAMks"
   },
   "outputs": [],
   "source": [
    "skf = StratifiedKFold(n_splits=10,random_state=1,shuffle=True)"
   ]
  },
  {
   "cell_type": "code",
   "execution_count": null,
   "metadata": {
    "colab": {
     "base_uri": "https://localhost:8080/"
    },
    "id": "Ki4HKTiHAN2P",
    "outputId": "11a02033-d2b8-4ebb-cada-5d823f213b2d"
   },
   "outputs": [
    {
     "data": {
      "text/plain": [
       "array([0.49632459, 0.49632459, 0.49632459, 0.49632459, 0.49632459,\n",
       "       0.49632459, 0.49632459, 0.49629544, 0.49629544, 0.49629544])"
      ]
     },
     "execution_count": 14,
     "metadata": {},
     "output_type": "execute_result"
    }
   ],
   "source": [
    "scores = cross_val_score(clf,X,Y,scoring=\"f1_macro\",cv=skf,n_jobs=-1)\n",
    "scores"
   ]
  },
  {
   "cell_type": "code",
   "execution_count": null,
   "metadata": {
    "colab": {
     "base_uri": "https://localhost:8080/"
    },
    "id": "Vxdk1FXdAPKY",
    "outputId": "3ae634e1-9974-4ed8-d583-9be1af36ea8c"
   },
   "outputs": [
    {
     "data": {
      "text/plain": [
       "0.49631584700073095"
      ]
     },
     "execution_count": 15,
     "metadata": {},
     "output_type": "execute_result"
    }
   ],
   "source": [
    "avg_f1_score = scores.mean()\n",
    "avg_f1_score"
   ]
  },
  {
   "cell_type": "code",
   "execution_count": null,
   "metadata": {
    "id": "pjL8MjmpASEn"
   },
   "outputs": [],
   "source": [
    "def objective(trial):\n",
    "    n_estimators=trial.suggest_int(\"n_estimators\",100,250,step=10)\n",
    "    learning_rate=trial.suggest_float(\"learning_rate\",1e-7,0.3,log=True)\n",
    "    scale_pos_weight=trial.suggest_int(\"scale_pos_weight\",1,80,step=1)\n",
    "    max_depth=trial.suggest_int(\"max_depth\",3,12,step=1)\n",
    "    min_child_weight=trial.suggest_int(\"min_child_weight\",1,15,step=1)\n",
    "    gamma=trial.suggest_float(\"gamma\",1e-5,0.5,log=True)\n",
    "    subsample=trial.suggest_float(\"subsample\",0.5,1,log=True)\n",
    "    colsample_bytree=trial.suggest_float(\"colsample_bytree\",0.5,1,log=True)\n",
    "    reg_lambda=trial.suggest_int(\"reg_lambda\",0,50,step=1)\n",
    "    reg_alpha=trial.suggest_int(\"reg_alpha\",0,50,step=1)\n",
    "    clf = xgb.XGBClassifier(n_estimators=n_estimators,learning_rate=learning_rate,scale_pos_weight=scale_pos_weight,\n",
    "                            max_depth=max_depth,min_child_weight=min_child_weight,gamma=gamma,\n",
    "                            subsample=subsample,colsample_bytree=colsample_bytree,reg_lambda=reg_lambda,\n",
    "                            reg_alpha=reg_alpha)\n",
    "    skf = StratifiedKFold(n_splits=10,random_state=1,shuffle=True)\n",
    "    scores = cross_val_score(clf,X,Y,scoring='f1_macro',cv=skf,n_jobs=-1)\n",
    "    f1_score = scores.mean()\n",
    "    return f1_score"
   ]
  },
  {
   "cell_type": "code",
   "execution_count": null,
   "metadata": {
    "colab": {
     "base_uri": "https://localhost:8080/"
    },
    "id": "e61CNs-SAVWf",
    "outputId": "0d746d7e-793c-4648-f6d1-0ad836c65625"
   },
   "outputs": [
    {
     "name": "stderr",
     "output_type": "stream",
     "text": [
      "\u001b[32m[I 2022-08-05 22:12:26,976]\u001b[0m A new study created in memory with name: f1-score-max\u001b[0m\n"
     ]
    }
   ],
   "source": [
    "study = optuna.create_study(direction=\"maximize\",study_name=\"f1-score-max\")"
   ]
  },
  {
   "cell_type": "code",
   "execution_count": null,
   "metadata": {
    "colab": {
     "base_uri": "https://localhost:8080/"
    },
    "id": "xV8OQMqhAXx4",
    "outputId": "03f358b0-9b4a-476c-8aaa-d6de1ad2e2ff"
   },
   "outputs": [
    {
     "name": "stderr",
     "output_type": "stream",
     "text": [
      "\u001b[32m[I 2022-08-05 22:17:15,913]\u001b[0m Trial 0 finished with value: 0.437122439566249 and parameters: {'n_estimators': 190, 'learning_rate': 0.0005210540319295563, 'scale_pos_weight': 80, 'max_depth': 6, 'min_child_weight': 8, 'gamma': 1.0094549595196925e-05, 'subsample': 0.5988699371033575, 'colsample_bytree': 0.827358544709625, 'reg_lambda': 5, 'reg_alpha': 37}. Best is trial 0 with value: 0.437122439566249.\u001b[0m\n",
      "\u001b[32m[I 2022-08-05 22:20:57,712]\u001b[0m Trial 1 finished with value: 0.45176775662350277 and parameters: {'n_estimators': 250, 'learning_rate': 0.005826313814341369, 'scale_pos_weight': 61, 'max_depth': 4, 'min_child_weight': 14, 'gamma': 0.005039012038617675, 'subsample': 0.8507070037843115, 'colsample_bytree': 0.7898879576692381, 'reg_lambda': 16, 'reg_alpha': 37}. Best is trial 1 with value: 0.45176775662350277.\u001b[0m\n",
      "\u001b[32m[I 2022-08-05 22:24:25,819]\u001b[0m Trial 2 finished with value: 0.5117498681030433 and parameters: {'n_estimators': 120, 'learning_rate': 0.02476964613729218, 'scale_pos_weight': 43, 'max_depth': 8, 'min_child_weight': 11, 'gamma': 0.07333597618128412, 'subsample': 0.6972910597346871, 'colsample_bytree': 0.6943147236702204, 'reg_lambda': 5, 'reg_alpha': 1}. Best is trial 2 with value: 0.5117498681030433.\u001b[0m\n",
      "\u001b[32m[I 2022-08-05 22:27:15,396]\u001b[0m Trial 3 finished with value: 0.5040827695893233 and parameters: {'n_estimators': 190, 'learning_rate': 5.551443328691867e-07, 'scale_pos_weight': 10, 'max_depth': 5, 'min_child_weight': 5, 'gamma': 1.67802395907987e-05, 'subsample': 0.6848678176275843, 'colsample_bytree': 0.5369715205460265, 'reg_lambda': 20, 'reg_alpha': 9}. Best is trial 2 with value: 0.5117498681030433.\u001b[0m\n",
      "\u001b[32m[I 2022-08-05 22:31:24,887]\u001b[0m Trial 4 finished with value: 0.5274471487666984 and parameters: {'n_estimators': 110, 'learning_rate': 0.16906292328651779, 'scale_pos_weight': 52, 'max_depth': 10, 'min_child_weight': 14, 'gamma': 0.0005500347472638825, 'subsample': 0.6868036968646825, 'colsample_bytree': 0.7553785836172607, 'reg_lambda': 45, 'reg_alpha': 50}. Best is trial 4 with value: 0.5274471487666984.\u001b[0m\n",
      "\u001b[32m[I 2022-08-05 22:35:59,391]\u001b[0m Trial 5 finished with value: 0.5318039591806482 and parameters: {'n_estimators': 190, 'learning_rate': 2.0564181190368595e-05, 'scale_pos_weight': 33, 'max_depth': 8, 'min_child_weight': 2, 'gamma': 0.0002803900533204046, 'subsample': 0.6265686839294373, 'colsample_bytree': 0.5134248856875729, 'reg_lambda': 47, 'reg_alpha': 13}. Best is trial 5 with value: 0.5318039591806482.\u001b[0m\n",
      "\u001b[32m[I 2022-08-05 22:46:28,607]\u001b[0m Trial 6 finished with value: 0.5343904376182129 and parameters: {'n_estimators': 250, 'learning_rate': 0.08346350813860294, 'scale_pos_weight': 10, 'max_depth': 11, 'min_child_weight': 1, 'gamma': 0.0015298262975746723, 'subsample': 0.5274011452364881, 'colsample_bytree': 0.7533702125494864, 'reg_lambda': 19, 'reg_alpha': 9}. Best is trial 6 with value: 0.5343904376182129.\u001b[0m\n",
      "\u001b[32m[I 2022-08-05 22:52:52,086]\u001b[0m Trial 7 finished with value: 0.47536603460948246 and parameters: {'n_estimators': 190, 'learning_rate': 8.342944960314728e-05, 'scale_pos_weight': 66, 'max_depth': 9, 'min_child_weight': 8, 'gamma': 0.002486585721883119, 'subsample': 0.5325699018669854, 'colsample_bytree': 0.7276643554598221, 'reg_lambda': 17, 'reg_alpha': 10}. Best is trial 6 with value: 0.5343904376182129.\u001b[0m\n",
      "\u001b[32m[I 2022-08-05 22:58:05,460]\u001b[0m Trial 8 finished with value: 0.4588072877178093 and parameters: {'n_estimators': 180, 'learning_rate': 1.0124175572470807e-06, 'scale_pos_weight': 73, 'max_depth': 10, 'min_child_weight': 4, 'gamma': 4.311204384751925e-05, 'subsample': 0.6108823146899183, 'colsample_bytree': 0.5068442786759202, 'reg_lambda': 24, 'reg_alpha': 26}. Best is trial 6 with value: 0.5343904376182129.\u001b[0m\n",
      "\u001b[32m[I 2022-08-05 23:01:19,716]\u001b[0m Trial 9 finished with value: 0.5246181662370554 and parameters: {'n_estimators': 170, 'learning_rate': 8.092955619262516e-07, 'scale_pos_weight': 9, 'max_depth': 7, 'min_child_weight': 7, 'gamma': 0.0003145267823593417, 'subsample': 0.940402659867049, 'colsample_bytree': 0.7483929068304066, 'reg_lambda': 35, 'reg_alpha': 47}. Best is trial 6 with value: 0.5343904376182129.\u001b[0m\n"
     ]
    }
   ],
   "source": [
    "study.optimize(objective,n_trials=10)"
   ]
  },
  {
   "cell_type": "code",
   "execution_count": null,
   "metadata": {
    "colab": {
     "base_uri": "https://localhost:8080/"
    },
    "id": "U4kAro4cA1kS",
    "outputId": "a6f1dfe5-a7cd-40c6-fa0c-dae274c9054a"
   },
   "outputs": [
    {
     "data": {
      "text/plain": [
       "{'colsample_bytree': 0.7533702125494864,\n",
       " 'gamma': 0.0015298262975746723,\n",
       " 'learning_rate': 0.08346350813860294,\n",
       " 'max_depth': 11,\n",
       " 'min_child_weight': 1,\n",
       " 'n_estimators': 250,\n",
       " 'reg_alpha': 9,\n",
       " 'reg_lambda': 19,\n",
       " 'scale_pos_weight': 10,\n",
       " 'subsample': 0.5274011452364881}"
      ]
     },
     "execution_count": 22,
     "metadata": {},
     "output_type": "execute_result"
    }
   ],
   "source": [
    "study.best_params"
   ]
  },
  {
   "cell_type": "code",
   "execution_count": null,
   "metadata": {
    "colab": {
     "base_uri": "https://localhost:8080/"
    },
    "id": "HhKQAzSTPUT8",
    "outputId": "a0ef8a38-31e2-4067-f157-b2b584b6ffe4"
   },
   "outputs": [
    {
     "data": {
      "text/plain": [
       "0.5343904376182129"
      ]
     },
     "execution_count": 23,
     "metadata": {},
     "output_type": "execute_result"
    }
   ],
   "source": [
    "study.best_value"
   ]
  },
  {
   "cell_type": "code",
   "execution_count": null,
   "metadata": {
    "id": "BZ6RH_pvPX1U"
   },
   "outputs": [],
   "source": []
  }
 ],
 "metadata": {
  "colab": {
   "name": "Optuna in XGBoost.ipynb",
   "provenance": []
  },
  "kernelspec": {
   "display_name": "Python 3",
   "language": "python",
   "name": "python3"
  },
  "language_info": {
   "codemirror_mode": {
    "name": "ipython",
    "version": 3
   },
   "file_extension": ".py",
   "mimetype": "text/x-python",
   "name": "python",
   "nbconvert_exporter": "python",
   "pygments_lexer": "ipython3",
   "version": "3.8.3"
  }
 },
 "nbformat": 4,
 "nbformat_minor": 1
}
