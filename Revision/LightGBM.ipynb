{
 "cells": [
  {
   "cell_type": "code",
   "execution_count": 132,
   "metadata": {},
   "outputs": [],
   "source": [
    "import pandas as pd\n",
    "import numpy as np\n",
    "import seaborn as sns\n",
    "import matplotlib.pyplot as plt\n",
    "import warnings\n",
    "warnings.filterwarnings(\"ignore\")\n",
    "from sklearn.model_selection import train_test_split\n",
    "from sklearn.tree import DecisionTreeClassifier\n",
    "from sklearn.ensemble import RandomForestClassifier\n",
    "from sklearn.linear_model import LogisticRegression\n",
    "from sklearn.model_selection import StratifiedKFold,cross_val_score\n",
    "from sklearn.preprocessing import LabelEncoder\n",
    "from sklearn.model_selection import GridSearchCV\n",
    "from sklearn.metrics import confusion_matrix,classification_report,roc_auc_score,roc_curve,precision_recall_curve\n",
    "import statsmodels.formula.api as sm\n",
    "from xgboost import XGBClassifier\n",
    "import datetime\n",
    "from datetime import *\n",
    "import lightgbm as lgbm\n",
    "from sklearn.metrics import log_loss\n",
    "import optuna"
   ]
  },
  {
   "cell_type": "code",
   "execution_count": 133,
   "metadata": {},
   "outputs": [],
   "source": [
    "df = pd.read_csv(\"C:\\\\Users\\\\yashs\\\\OneDrive\\\\Desktop\\\\Kaggle\\\\LightGBM\\\\train.csv\")"
   ]
  },
  {
   "cell_type": "code",
   "execution_count": 134,
   "metadata": {},
   "outputs": [],
   "source": [
    "clf = lgbm.LGBMClassifier(objective='binary')"
   ]
  },
  {
   "cell_type": "code",
   "execution_count": 135,
   "metadata": {},
   "outputs": [
    {
     "data": {
      "text/plain": [
       "(300000, 32)"
      ]
     },
     "execution_count": 135,
     "metadata": {},
     "output_type": "execute_result"
    }
   ],
   "source": [
    "df.shape"
   ]
  },
  {
   "cell_type": "code",
   "execution_count": 136,
   "metadata": {},
   "outputs": [],
   "source": [
    "X=df.drop(\"target\",axis=1)\n",
    "Y=df[\"target\"]"
   ]
  },
  {
   "cell_type": "code",
   "execution_count": 137,
   "metadata": {},
   "outputs": [],
   "source": [
    "cat_col = list(X.select_dtypes(include=[\"O\"]).columns)"
   ]
  },
  {
   "cell_type": "code",
   "execution_count": 138,
   "metadata": {},
   "outputs": [],
   "source": [
    "X_enc = pd.get_dummies(data=X,columns=cat_col,drop_first=True)"
   ]
  },
  {
   "cell_type": "code",
   "execution_count": 139,
   "metadata": {},
   "outputs": [
    {
     "data": {
      "text/plain": [
       "0    0.73513\n",
       "1    0.26487\n",
       "Name: target, dtype: float64"
      ]
     },
     "execution_count": 139,
     "metadata": {},
     "output_type": "execute_result"
    }
   ],
   "source": [
    "Y.value_counts(1)"
   ]
  },
  {
   "cell_type": "code",
   "execution_count": 140,
   "metadata": {},
   "outputs": [],
   "source": [
    "X_train,X_test,Y_train,Y_test=train_test_split(X_enc,Y,test_size=0.3,random_state=1,stratify=Y)"
   ]
  },
  {
   "cell_type": "code",
   "execution_count": 141,
   "metadata": {},
   "outputs": [
    {
     "data": {
      "text/html": [
       "<style>#sk-container-id-4 {color: black;background-color: white;}#sk-container-id-4 pre{padding: 0;}#sk-container-id-4 div.sk-toggleable {background-color: white;}#sk-container-id-4 label.sk-toggleable__label {cursor: pointer;display: block;width: 100%;margin-bottom: 0;padding: 0.3em;box-sizing: border-box;text-align: center;}#sk-container-id-4 label.sk-toggleable__label-arrow:before {content: \"▸\";float: left;margin-right: 0.25em;color: #696969;}#sk-container-id-4 label.sk-toggleable__label-arrow:hover:before {color: black;}#sk-container-id-4 div.sk-estimator:hover label.sk-toggleable__label-arrow:before {color: black;}#sk-container-id-4 div.sk-toggleable__content {max-height: 0;max-width: 0;overflow: hidden;text-align: left;background-color: #f0f8ff;}#sk-container-id-4 div.sk-toggleable__content pre {margin: 0.2em;color: black;border-radius: 0.25em;background-color: #f0f8ff;}#sk-container-id-4 input.sk-toggleable__control:checked~div.sk-toggleable__content {max-height: 200px;max-width: 100%;overflow: auto;}#sk-container-id-4 input.sk-toggleable__control:checked~label.sk-toggleable__label-arrow:before {content: \"▾\";}#sk-container-id-4 div.sk-estimator input.sk-toggleable__control:checked~label.sk-toggleable__label {background-color: #d4ebff;}#sk-container-id-4 div.sk-label input.sk-toggleable__control:checked~label.sk-toggleable__label {background-color: #d4ebff;}#sk-container-id-4 input.sk-hidden--visually {border: 0;clip: rect(1px 1px 1px 1px);clip: rect(1px, 1px, 1px, 1px);height: 1px;margin: -1px;overflow: hidden;padding: 0;position: absolute;width: 1px;}#sk-container-id-4 div.sk-estimator {font-family: monospace;background-color: #f0f8ff;border: 1px dotted black;border-radius: 0.25em;box-sizing: border-box;margin-bottom: 0.5em;}#sk-container-id-4 div.sk-estimator:hover {background-color: #d4ebff;}#sk-container-id-4 div.sk-parallel-item::after {content: \"\";width: 100%;border-bottom: 1px solid gray;flex-grow: 1;}#sk-container-id-4 div.sk-label:hover label.sk-toggleable__label {background-color: #d4ebff;}#sk-container-id-4 div.sk-serial::before {content: \"\";position: absolute;border-left: 1px solid gray;box-sizing: border-box;top: 0;bottom: 0;left: 50%;z-index: 0;}#sk-container-id-4 div.sk-serial {display: flex;flex-direction: column;align-items: center;background-color: white;padding-right: 0.2em;padding-left: 0.2em;position: relative;}#sk-container-id-4 div.sk-item {position: relative;z-index: 1;}#sk-container-id-4 div.sk-parallel {display: flex;align-items: stretch;justify-content: center;background-color: white;position: relative;}#sk-container-id-4 div.sk-item::before, #sk-container-id-4 div.sk-parallel-item::before {content: \"\";position: absolute;border-left: 1px solid gray;box-sizing: border-box;top: 0;bottom: 0;left: 50%;z-index: -1;}#sk-container-id-4 div.sk-parallel-item {display: flex;flex-direction: column;z-index: 1;position: relative;background-color: white;}#sk-container-id-4 div.sk-parallel-item:first-child::after {align-self: flex-end;width: 50%;}#sk-container-id-4 div.sk-parallel-item:last-child::after {align-self: flex-start;width: 50%;}#sk-container-id-4 div.sk-parallel-item:only-child::after {width: 0;}#sk-container-id-4 div.sk-dashed-wrapped {border: 1px dashed gray;margin: 0 0.4em 0.5em 0.4em;box-sizing: border-box;padding-bottom: 0.4em;background-color: white;}#sk-container-id-4 div.sk-label label {font-family: monospace;font-weight: bold;display: inline-block;line-height: 1.2em;}#sk-container-id-4 div.sk-label-container {text-align: center;}#sk-container-id-4 div.sk-container {/* jupyter's `normalize.less` sets `[hidden] { display: none; }` but bootstrap.min.css set `[hidden] { display: none !important; }` so we also need the `!important` here to be able to override the default hidden behavior on the sphinx rendered scikit-learn.org. See: https://github.com/scikit-learn/scikit-learn/issues/21755 */display: inline-block !important;position: relative;}#sk-container-id-4 div.sk-text-repr-fallback {display: none;}</style><div id=\"sk-container-id-4\" class=\"sk-top-container\"><div class=\"sk-text-repr-fallback\"><pre>LGBMClassifier(objective=&#x27;binary&#x27;)</pre><b>In a Jupyter environment, please rerun this cell to show the HTML representation or trust the notebook. <br />On GitHub, the HTML representation is unable to render, please try loading this page with nbviewer.org.</b></div><div class=\"sk-container\" hidden><div class=\"sk-item\"><div class=\"sk-estimator sk-toggleable\"><input class=\"sk-toggleable__control sk-hidden--visually\" id=\"sk-estimator-id-4\" type=\"checkbox\" checked><label for=\"sk-estimator-id-4\" class=\"sk-toggleable__label sk-toggleable__label-arrow\">LGBMClassifier</label><div class=\"sk-toggleable__content\"><pre>LGBMClassifier(objective=&#x27;binary&#x27;)</pre></div></div></div></div></div>"
      ],
      "text/plain": [
       "LGBMClassifier(objective='binary')"
      ]
     },
     "execution_count": 141,
     "metadata": {},
     "output_type": "execute_result"
    }
   ],
   "source": [
    "clf.fit(X_train,Y_train)"
   ]
  },
  {
   "cell_type": "code",
   "execution_count": 142,
   "metadata": {},
   "outputs": [],
   "source": [
    "def out_pred(X_train,X_test,model):\n",
    "    train_pred = model.predict(X_train)\n",
    "    test_pred = model.predict(X_test)\n",
    "    return train_pred,test_pred"
   ]
  },
  {
   "cell_type": "code",
   "execution_count": 143,
   "metadata": {},
   "outputs": [],
   "source": [
    "train_pred,test_pred=out_pred(X_train,X_test,clf)"
   ]
  },
  {
   "cell_type": "code",
   "execution_count": 144,
   "metadata": {},
   "outputs": [],
   "source": [
    "def out_pred_proba(X_train,X_test,model):\n",
    "    train_pred_proba = model.predict_proba(X_train)\n",
    "    test_pred_proba = model.predict_proba(X_test)\n",
    "    return train_pred_proba,test_pred_proba"
   ]
  },
  {
   "cell_type": "code",
   "execution_count": 145,
   "metadata": {},
   "outputs": [],
   "source": [
    "train_pred_proba,test_pred_proba = out_pred_proba(X_train,X_test,clf)"
   ]
  },
  {
   "cell_type": "code",
   "execution_count": 146,
   "metadata": {},
   "outputs": [],
   "source": [
    "def plot_confusion_matrix(y_true,y_pred,Train,Test):\n",
    "    if Train=='Yes':\n",
    "        sns.heatmap(confusion_matrix(y_true,y_pred),annot=True,fmt=\"d\",cbar=False,cmap=\"YlGnBu\")\n",
    "        plt.ylabel(\"Actual\")\n",
    "        plt.xlabel(\"Predicted\")\n",
    "        plt.title(\"Training data confusion matrix\")\n",
    "        df_cm = pd.DataFrame(data=confusion_matrix(y_true,y_pred),columns = [\"Predicted : 0\",\"Predicted : 1\"],index=[\"Actual : 0\",\"Actual : 1\"])\n",
    "        return df_cm\n",
    "    else:\n",
    "        sns.heatmap(confusion_matrix(y_true,y_pred),annot=True,fmt=\"d\",cbar=False,cmap=\"YlGnBu\")\n",
    "        plt.ylabel(\"Actual\")\n",
    "        plt.xlabel(\"Predicted\")\n",
    "        plt.title(\"Testing data confusion matrix\")\n",
    "        df_cm = pd.DataFrame(data=confusion_matrix(y_true,y_pred),columns = [\"Predicted : 0\",\"Predicted : 1\"],index=[\"Actual : 0\",\"Actual : 1\"])\n",
    "        return df_cm"
   ]
  },
  {
   "cell_type": "code",
   "execution_count": 147,
   "metadata": {},
   "outputs": [
    {
     "data": {
      "text/html": [
       "<div>\n",
       "<style scoped>\n",
       "    .dataframe tbody tr th:only-of-type {\n",
       "        vertical-align: middle;\n",
       "    }\n",
       "\n",
       "    .dataframe tbody tr th {\n",
       "        vertical-align: top;\n",
       "    }\n",
       "\n",
       "    .dataframe thead th {\n",
       "        text-align: right;\n",
       "    }\n",
       "</style>\n",
       "<table border=\"1\" class=\"dataframe\">\n",
       "  <thead>\n",
       "    <tr style=\"text-align: right;\">\n",
       "      <th></th>\n",
       "      <th>Predicted : 0</th>\n",
       "      <th>Predicted : 1</th>\n",
       "    </tr>\n",
       "  </thead>\n",
       "  <tbody>\n",
       "    <tr>\n",
       "      <th>Actual : 0</th>\n",
       "      <td>144068</td>\n",
       "      <td>10309</td>\n",
       "    </tr>\n",
       "    <tr>\n",
       "      <th>Actual : 1</th>\n",
       "      <td>20731</td>\n",
       "      <td>34892</td>\n",
       "    </tr>\n",
       "  </tbody>\n",
       "</table>\n",
       "</div>"
      ],
      "text/plain": [
       "            Predicted : 0  Predicted : 1\n",
       "Actual : 0         144068          10309\n",
       "Actual : 1          20731          34892"
      ]
     },
     "execution_count": 147,
     "metadata": {},
     "output_type": "execute_result"
    },
    {
     "data": {
      "image/png": "[encoded data removed]",
      "text/plain": [
       "<Figure size 432x288 with 1 Axes>"
      ]
     },
     "metadata": {
      "needs_background": "light"
     },
     "output_type": "display_data"
    }
   ],
   "source": [
    "plot_confusion_matrix(Y_train,train_pred,'Yes',None)"
   ]
  },
  {
   "cell_type": "code",
   "execution_count": 148,
   "metadata": {},
   "outputs": [
    {
     "name": "stdout",
     "output_type": "stream",
     "text": [
      "              precision    recall  f1-score   support\n",
      "\n",
      "           0       0.87      0.93      0.90    154377\n",
      "           1       0.77      0.63      0.69     55623\n",
      "\n",
      "    accuracy                           0.85    210000\n",
      "   macro avg       0.82      0.78      0.80    210000\n",
      "weighted avg       0.85      0.85      0.85    210000\n",
      "\n"
     ]
    }
   ],
   "source": [
    "print(classification_report(Y_train,train_pred))"
   ]
  },
  {
   "cell_type": "code",
   "execution_count": 149,
   "metadata": {},
   "outputs": [
    {
     "data": {
      "text/html": [
       "<div>\n",
       "<style scoped>\n",
       "    .dataframe tbody tr th:only-of-type {\n",
       "        vertical-align: middle;\n",
       "    }\n",
       "\n",
       "    .dataframe tbody tr th {\n",
       "        vertical-align: top;\n",
       "    }\n",
       "\n",
       "    .dataframe thead th {\n",
       "        text-align: right;\n",
       "    }\n",
       "</style>\n",
       "<table border=\"1\" class=\"dataframe\">\n",
       "  <thead>\n",
       "    <tr style=\"text-align: right;\">\n",
       "      <th></th>\n",
       "      <th>Predicted : 0</th>\n",
       "      <th>Predicted : 1</th>\n",
       "    </tr>\n",
       "  </thead>\n",
       "  <tbody>\n",
       "    <tr>\n",
       "      <th>Actual : 0</th>\n",
       "      <td>61584</td>\n",
       "      <td>4578</td>\n",
       "    </tr>\n",
       "    <tr>\n",
       "      <th>Actual : 1</th>\n",
       "      <td>9108</td>\n",
       "      <td>14730</td>\n",
       "    </tr>\n",
       "  </tbody>\n",
       "</table>\n",
       "</div>"
      ],
      "text/plain": [
       "            Predicted : 0  Predicted : 1\n",
       "Actual : 0          61584           4578\n",
       "Actual : 1           9108          14730"
      ]
     },
     "execution_count": 149,
     "metadata": {},
     "output_type": "execute_result"
    },
    {
     "data": {
      "image/png": "[encoded data removed]",
      "text/plain": [
       "<Figure size 432x288 with 1 Axes>"
      ]
     },
     "metadata": {
      "needs_background": "light"
     },
     "output_type": "display_data"
    }
   ],
   "source": [
    "plot_confusion_matrix(Y_test,test_pred,None,'Yes')"
   ]
  },
  {
   "cell_type": "code",
   "execution_count": 150,
   "metadata": {},
   "outputs": [
    {
     "name": "stdout",
     "output_type": "stream",
     "text": [
      "              precision    recall  f1-score   support\n",
      "\n",
      "           0       0.87      0.93      0.90     66162\n",
      "           1       0.76      0.62      0.68     23838\n",
      "\n",
      "    accuracy                           0.85     90000\n",
      "   macro avg       0.82      0.77      0.79     90000\n",
      "weighted avg       0.84      0.85      0.84     90000\n",
      "\n"
     ]
    }
   ],
   "source": [
    "print(classification_report(Y_test,test_pred))"
   ]
  },
  {
   "cell_type": "markdown",
   "metadata": {},
   "source": [
    "### Handling categorical variables with LightGBM. Here I will not be encoding the variables"
   ]
  },
  {
   "cell_type": "code",
   "execution_count": 151,
   "metadata": {},
   "outputs": [],
   "source": [
    "cat_features = X.select_dtypes(exclude=np.number).columns.to_list()\n",
    "cat_idx = [X.columns.get_loc(col) for col in cat_features]"
   ]
  },
  {
   "cell_type": "code",
   "execution_count": 152,
   "metadata": {},
   "outputs": [
    {
     "data": {
      "text/plain": [
       "[1, 2, 3, 4, 5, 6, 7, 8, 9, 10, 11, 12, 13, 14, 15, 16, 17, 18, 19]"
      ]
     },
     "execution_count": 152,
     "metadata": {},
     "output_type": "execute_result"
    }
   ],
   "source": [
    "cat_idx"
   ]
  },
  {
   "cell_type": "code",
   "execution_count": 153,
   "metadata": {},
   "outputs": [],
   "source": [
    "for col in cat_features:\n",
    "    X[col]=pd.Categorical(X[col])"
   ]
  },
  {
   "cell_type": "code",
   "execution_count": 154,
   "metadata": {},
   "outputs": [],
   "source": [
    "X_train,X_test,Y_train,Y_test=train_test_split(X,Y,test_size=0.3,random_state=1,stratify=Y)"
   ]
  },
  {
   "cell_type": "code",
   "execution_count": 155,
   "metadata": {},
   "outputs": [],
   "source": [
    "clf = lgbm.LGBMClassifier()"
   ]
  },
  {
   "cell_type": "code",
   "execution_count": 156,
   "metadata": {},
   "outputs": [],
   "source": [
    "a=clf.fit(X_train,Y_train,categorical_feature=cat_idx)"
   ]
  },
  {
   "cell_type": "code",
   "execution_count": 157,
   "metadata": {},
   "outputs": [],
   "source": [
    "train_pred,test_pred=out_pred(X_train,X_test,clf)"
   ]
  },
  {
   "cell_type": "code",
   "execution_count": 158,
   "metadata": {},
   "outputs": [],
   "source": [
    "train_prob,test_prob=out_pred_proba(X_train,X_test,clf)"
   ]
  },
  {
   "cell_type": "code",
   "execution_count": 159,
   "metadata": {},
   "outputs": [
    {
     "data": {
      "text/html": [
       "<div>\n",
       "<style scoped>\n",
       "    .dataframe tbody tr th:only-of-type {\n",
       "        vertical-align: middle;\n",
       "    }\n",
       "\n",
       "    .dataframe tbody tr th {\n",
       "        vertical-align: top;\n",
       "    }\n",
       "\n",
       "    .dataframe thead th {\n",
       "        text-align: right;\n",
       "    }\n",
       "</style>\n",
       "<table border=\"1\" class=\"dataframe\">\n",
       "  <thead>\n",
       "    <tr style=\"text-align: right;\">\n",
       "      <th></th>\n",
       "      <th>Predicted : 0</th>\n",
       "      <th>Predicted : 1</th>\n",
       "    </tr>\n",
       "  </thead>\n",
       "  <tbody>\n",
       "    <tr>\n",
       "      <th>Actual : 0</th>\n",
       "      <td>61560</td>\n",
       "      <td>9092</td>\n",
       "    </tr>\n",
       "    <tr>\n",
       "      <th>Actual : 1</th>\n",
       "      <td>4602</td>\n",
       "      <td>14746</td>\n",
       "    </tr>\n",
       "  </tbody>\n",
       "</table>\n",
       "</div>"
      ],
      "text/plain": [
       "            Predicted : 0  Predicted : 1\n",
       "Actual : 0          61560           9092\n",
       "Actual : 1           4602          14746"
      ]
     },
     "execution_count": 159,
     "metadata": {},
     "output_type": "execute_result"
    },
    {
     "data": {
      "image/png": "[encoded data removed]",
      "text/plain": [
       "<Figure size 432x288 with 1 Axes>"
      ]
     },
     "metadata": {
      "needs_background": "light"
     },
     "output_type": "display_data"
    }
   ],
   "source": [
    "plot_confusion_matrix(test_pred,Y_test,None,'Yes')"
   ]
  },
  {
   "cell_type": "code",
   "execution_count": 160,
   "metadata": {},
   "outputs": [
    {
     "name": "stdout",
     "output_type": "stream",
     "text": [
      "              precision    recall  f1-score   support\n",
      "\n",
      "           0       0.87      0.93      0.90     66162\n",
      "           1       0.76      0.62      0.68     23838\n",
      "\n",
      "    accuracy                           0.85     90000\n",
      "   macro avg       0.82      0.77      0.79     90000\n",
      "weighted avg       0.84      0.85      0.84     90000\n",
      "\n"
     ]
    }
   ],
   "source": [
    "print(classification_report(Y_test,test_pred))"
   ]
  },
  {
   "cell_type": "code",
   "execution_count": 161,
   "metadata": {},
   "outputs": [],
   "source": [
    "from sklearn.metrics import recall_score"
   ]
  },
  {
   "cell_type": "code",
   "execution_count": 162,
   "metadata": {},
   "outputs": [
    {
     "data": {
      "text/plain": [
       "0.6185921637721286"
      ]
     },
     "execution_count": 162,
     "metadata": {},
     "output_type": "execute_result"
    }
   ],
   "source": [
    "recall_score(Y_test,test_pred)"
   ]
  },
  {
   "cell_type": "markdown",
   "metadata": {},
   "source": [
    "### CV in LightGBM"
   ]
  },
  {
   "cell_type": "code",
   "execution_count": 163,
   "metadata": {},
   "outputs": [],
   "source": [
    "X=df.drop(\"target\",axis=1)\n",
    "Y=df[\"target\"]"
   ]
  },
  {
   "cell_type": "code",
   "execution_count": 164,
   "metadata": {},
   "outputs": [],
   "source": [
    "for col in cat_features:\n",
    "    X[col]=pd.Categorical(X[col])"
   ]
  },
  {
   "cell_type": "code",
   "execution_count": 165,
   "metadata": {},
   "outputs": [],
   "source": [
    "from sklearn.model_selection import StratifiedKFold"
   ]
  },
  {
   "cell_type": "code",
   "execution_count": 166,
   "metadata": {},
   "outputs": [],
   "source": [
    "skf = StratifiedKFold(n_splits=10)"
   ]
  },
  {
   "cell_type": "code",
   "execution_count": 167,
   "metadata": {},
   "outputs": [],
   "source": [
    "import time"
   ]
  },
  {
   "cell_type": "code",
   "execution_count": 168,
   "metadata": {},
   "outputs": [
    {
     "name": "stdout",
     "output_type": "stream",
     "text": [
      "============Training fold 0============\n",
      "Fold 0 finished with score: 0.3481 in 3.51 seconds.\n",
      "\n",
      "============Training fold 1============\n",
      "Fold 1 finished with score: 0.34762 in 3.68 seconds.\n",
      "\n",
      "============Training fold 2============\n",
      "Fold 2 finished with score: 0.34815 in 3.32 seconds.\n",
      "\n",
      "============Training fold 3============\n",
      "Fold 3 finished with score: 0.3494 in 3.28 seconds.\n",
      "\n",
      "============Training fold 4============\n",
      "Fold 4 finished with score: 0.34703 in 3.26 seconds.\n",
      "\n",
      "============Training fold 5============\n",
      "Fold 5 finished with score: 0.34979 in 3.59 seconds.\n",
      "\n",
      "============Training fold 6============\n",
      "Fold 6 finished with score: 0.35376 in 3.32 seconds.\n",
      "\n",
      "============Training fold 7============\n",
      "Fold 7 finished with score: 0.35041 in 3.18 seconds.\n",
      "\n",
      "============Training fold 8============\n",
      "Fold 8 finished with score: 0.34665 in 3.82 seconds.\n",
      "\n",
      "============Training fold 9============\n",
      "Fold 9 finished with score: 0.35193 in 5.2 seconds.\n",
      "\n"
     ]
    }
   ],
   "source": [
    "scores=[]\n",
    "for idx,(train_idx,test_idx) in enumerate(skf.split(X,Y)):\n",
    "    print(\"=\"*12+\"Training fold {}\".format(idx)+\"=\"*12)\n",
    "    X_train,X_test = X.iloc[train_idx],X.iloc[test_idx]\n",
    "    Y_train,Y_test = Y[train_idx],Y[test_idx]\n",
    "    start = datetime.now()\n",
    "    clf = lgbm.LGBMClassifier()\n",
    "    clf.fit(X_train,Y_train,categorical_feature=cat_features,eval_set=[(X_test,Y_test)],eval_metric=\"binary_logloss\",\n",
    "            early_stopping_rounds=200,verbose=False)\n",
    "    preds = clf.predict_proba(X_test)\n",
    "    loss = log_loss(Y_test, preds)\n",
    "    #scores[idx] = loss\n",
    "    runtime = datetime.now() - start\n",
    "    print(\"Fold {} finished with score: {} in {} seconds.\\n\".format(idx,np.round(loss,5),np.round(runtime.total_seconds(),2)))"
   ]
  },
  {
   "cell_type": "markdown",
   "metadata": {},
   "source": [
    "### Hyperparameter tuning"
   ]
  },
  {
   "cell_type": "code",
   "execution_count": 169,
   "metadata": {},
   "outputs": [],
   "source": [
    "from sklearn.metrics import recall_score"
   ]
  },
  {
   "cell_type": "code",
   "execution_count": 170,
   "metadata": {},
   "outputs": [],
   "source": [
    "from optuna.integration import LightGBMPruningCallback"
   ]
  },
  {
   "cell_type": "code",
   "execution_count": 171,
   "metadata": {},
   "outputs": [],
   "source": [
    "clf=lgbm.LGBMClassifier()"
   ]
  },
  {
   "cell_type": "code",
   "execution_count": 197,
   "metadata": {},
   "outputs": [],
   "source": [
    "def objective(trial):\n",
    "    n_estimators=trial.suggest_int(\"n_estimators\",100,5000,step=1)\n",
    "    learning_rate=trial.suggest_float(\"learning_rate\",1e-7,0.3,log=True)\n",
    "    max_depth=trial.suggest_int(\"max_depth\",3,12,step=1)\n",
    "    num_leaves=trial.suggest_int(\"num_leaves\",20,4000,log=True)\n",
    "    min_child_weight=trial.suggest_int(\"min_child_weight\",20,10000,step=100)\n",
    "    min_split_gain=trial.suggest_float(\"min_split_gain\",0,15)\n",
    "    subsample=trial.suggest_float(\"subsample\",0.2,0.95,step=0.1)\n",
    "    colsample_bytree=trial.suggest_float(\"colsample_bytree\",0.2,0.95,step=0.1)\n",
    "    reg_alpha=trial.suggest_int(\"reg_alpha\",0,100,step=1)\n",
    "    reg_lambda=trial.suggest_int(\"reg_lambda\",0,100,step=1)\n",
    "    cv = StratifiedKFold(n_splits=10, shuffle=True, random_state=1121218)\n",
    "    cv_scores=np.empty(10)\n",
    "    def calculate_recall(y_true, p_pred_1):\n",
    "        y_pred=[]\n",
    "        if p_pred_1>=0.5:\n",
    "            y_pred.append(1)\n",
    "        else:\n",
    "            y_pred.append(0)\n",
    "        c_matrix = sklearn.metrics.confusion_matrix(y_true, y_pred)\n",
    "        TN = c_matrix[0,0]\n",
    "        FN = c_matrix[1,0]\n",
    "        FP = c_matrix[0,1]\n",
    "        TP = c_matrix[1,1]\n",
    "        recall = TP / (TP + FN)\n",
    "        return ('recall', recall, True)\n",
    "    for idx,(train_idx,test_idx) in enumerate(cv.split(X,Y)):\n",
    "        X_train,X_test=X.iloc[train_idx],X.iloc[test_idx]\n",
    "        Y_train,Y_test=Y.iloc[train_idx],Y.iloc[test_idx]\n",
    "        clf=lgbm.LGBMClassifier(objective='binary',n_estimators=n_estimators,learning_rate=learning_rate,max_depth=max_depth,\n",
    "                               num_leaves=num_leaves,min_child_weight=min_child_weight,min_split_gain=min_split_gain,\n",
    "                               subsample=subsample,colsample_bytree=colsample_bytree,reg_alpha=reg_alpha,\n",
    "                               reg_lambda=reg_lambda,is_unbalance=True)\n",
    "        clf.fit(X_train,Y_train,eval_set=[(X_test,Y_test)],early_stopping_rounds=100,eval_metric=\"auc\",\n",
    "               callbacks=[LightGBMPruningCallback(trial,\"auc\")],categorical_feature=cat_idx,verbose=False)\n",
    "        #clf.fit(X_train,Y_train,eval_set=[(X_test,Y_test)],early_stopping_rounds=100,eval_metric='recall_score',verbose=False)\n",
    "        preds=clf.predict(X_test)\n",
    "        cv_scores[idx]=recall_score(Y_test,preds)\n",
    "    return np.mean(cv_scores)"
   ]
  },
  {
   "cell_type": "code",
   "execution_count": 198,
   "metadata": {},
   "outputs": [
    {
     "name": "stderr",
     "output_type": "stream",
     "text": [
      "\u001b[32m[I 2022-08-07 02:04:00,692]\u001b[0m A new study created in memory with name: Recall-maximium\u001b[0m\n"
     ]
    }
   ],
   "source": [
    "study = optuna.create_study(direction='maximize',study_name='Recall-maximium')"
   ]
  },
  {
   "cell_type": "code",
   "execution_count": 199,
   "metadata": {},
   "outputs": [
    {
     "name": "stderr",
     "output_type": "stream",
     "text": [
      "\u001b[32m[I 2022-08-07 02:09:06,740]\u001b[0m Trial 0 finished with value: 0.14783869228529517 and parameters: {'n_estimators': 4285, 'learning_rate': 0.00047234047889840484, 'max_depth': 11, 'num_leaves': 170, 'min_child_weight': 4320, 'min_split_gain': 7.556165827562945, 'subsample': 0.6000000000000001, 'colsample_bytree': 0.8, 'reg_alpha': 99, 'reg_lambda': 57}. Best is trial 0 with value: 0.14783869228529517.\u001b[0m\n",
      "\u001b[32m[I 2022-08-07 02:19:36,411]\u001b[0m Trial 1 finished with value: 0.7585356941410644 and parameters: {'n_estimators': 2414, 'learning_rate': 0.001295369448057127, 'max_depth': 5, 'num_leaves': 3954, 'min_child_weight': 8120, 'min_split_gain': 7.012692048889495, 'subsample': 0.30000000000000004, 'colsample_bytree': 0.5, 'reg_alpha': 86, 'reg_lambda': 97}. Best is trial 1 with value: 0.7585356941410644.\u001b[0m\n",
      "\u001b[32m[I 2022-08-07 02:20:30,575]\u001b[0m Trial 2 finished with value: 0.0 and parameters: {'n_estimators': 3271, 'learning_rate': 0.0002203852826521712, 'max_depth': 4, 'num_leaves': 3567, 'min_child_weight': 9820, 'min_split_gain': 11.596707971041887, 'subsample': 0.7, 'colsample_bytree': 0.6000000000000001, 'reg_alpha': 16, 'reg_lambda': 18}. Best is trial 1 with value: 0.7585356941410644.\u001b[0m\n",
      "\u001b[32m[I 2022-08-07 02:21:20,772]\u001b[0m Trial 3 finished with value: 0.0 and parameters: {'n_estimators': 4430, 'learning_rate': 3.7158870169672275e-06, 'max_depth': 11, 'num_leaves': 30, 'min_child_weight': 7120, 'min_split_gain': 8.751212245205954, 'subsample': 0.7, 'colsample_bytree': 0.6000000000000001, 'reg_alpha': 44, 'reg_lambda': 53}. Best is trial 1 with value: 0.7585356941410644.\u001b[0m\n",
      "\u001b[32m[I 2022-08-07 02:26:02,869]\u001b[0m Trial 4 finished with value: 0.7905766037906998 and parameters: {'n_estimators': 3392, 'learning_rate': 0.014253215200687994, 'max_depth': 4, 'num_leaves': 432, 'min_child_weight': 2620, 'min_split_gain': 3.061748272447077, 'subsample': 0.4, 'colsample_bytree': 0.9, 'reg_alpha': 29, 'reg_lambda': 0}. Best is trial 4 with value: 0.7905766037906998.\u001b[0m\n",
      "\u001b[32m[I 2022-08-07 02:26:03,689]\u001b[0m Trial 5 pruned. Trial was pruned at iteration 0.\u001b[0m\n",
      "\u001b[32m[I 2022-08-07 02:26:04,390]\u001b[0m Trial 6 pruned. Trial was pruned at iteration 0.\u001b[0m\n",
      "\u001b[32m[I 2022-08-07 02:26:05,144]\u001b[0m Trial 7 pruned. Trial was pruned at iteration 0.\u001b[0m\n",
      "\u001b[32m[I 2022-08-07 02:26:05,899]\u001b[0m Trial 8 pruned. Trial was pruned at iteration 1.\u001b[0m\n",
      "\u001b[32m[I 2022-08-07 02:27:08,688]\u001b[0m Trial 9 finished with value: 0.7916966721165022 and parameters: {'n_estimators': 3725, 'learning_rate': 0.2003762082440767, 'max_depth': 4, 'num_leaves': 1356, 'min_child_weight': 1020, 'min_split_gain': 1.2483991306054454, 'subsample': 0.9, 'colsample_bytree': 0.6000000000000001, 'reg_alpha': 22, 'reg_lambda': 31}. Best is trial 9 with value: 0.7916966721165022.\u001b[0m\n"
     ]
    }
   ],
   "source": [
    "study.optimize(objective,n_trials=10)"
   ]
  },
  {
   "cell_type": "code",
   "execution_count": 200,
   "metadata": {},
   "outputs": [
    {
     "data": {
      "text/plain": [
       "0.7916966721165022"
      ]
     },
     "execution_count": 200,
     "metadata": {},
     "output_type": "execute_result"
    }
   ],
   "source": [
    "study.best_value"
   ]
  },
  {
   "cell_type": "markdown",
   "metadata": {},
   "source": [
    "### Plotting importance"
   ]
  },
  {
   "cell_type": "code",
   "execution_count": 201,
   "metadata": {},
   "outputs": [
    {
     "data": {
      "image/png": "[encoded data removed]",
      "text/plain": [
       "<Figure size 432x288 with 1 Axes>"
      ]
     },
     "metadata": {},
     "output_type": "display_data"
    }
   ],
   "source": [
    "from optuna.visualization.matplotlib import plot_param_importances\n",
    "\n",
    "plot_param_importances(study);"
   ]
  },
  {
   "cell_type": "code",
   "execution_count": null,
   "metadata": {},
   "outputs": [],
   "source": []
  }
 ],
 "metadata": {
  "kernelspec": {
   "display_name": "Python 3",
   "language": "python",
   "name": "python3"
  },
  "language_info": {
   "codemirror_mode": {
    "name": "ipython",
    "version": 3
   },
   "file_extension": ".py",
   "mimetype": "text/x-python",
   "name": "python",
   "nbconvert_exporter": "python",
   "pygments_lexer": "ipython3",
   "version": "3.8.3"
  }
 },
 "nbformat": 4,
 "nbformat_minor": 4
}
