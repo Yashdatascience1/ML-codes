{
 "cells": [
  {
   "cell_type": "code",
   "execution_count": 1,
   "metadata": {},
   "outputs": [],
   "source": [
    "import pandas as pd\n",
    "import numpy as np\n",
    "from sklearn.model_selection import StratifiedKFold\n",
    "import datetime\n",
    "from datetime import *\n",
    "import optuna\n",
    "from sklearn import metrics\n",
    "import matplotlib.pyplot as plt\n",
    "import seaborn as sns\n",
    "from sklearn.metrics import confusion_matrix,classification_report"
   ]
  },
  {
   "cell_type": "code",
   "execution_count": 2,
   "metadata": {},
   "outputs": [],
   "source": [
    "df = pd.read_csv('C:\\\\Users\\\\yashs\\\\OneDrive\\\\Desktop\\\\Machine Learning\\\\Social Media Tourism project\\\\With_missing_values_imputed.csv')"
   ]
  },
  {
   "cell_type": "code",
   "execution_count": 3,
   "metadata": {},
   "outputs": [
    {
     "data": {
      "text/html": [
       "<div>\n",
       "<style scoped>\n",
       "    .dataframe tbody tr th:only-of-type {\n",
       "        vertical-align: middle;\n",
       "    }\n",
       "\n",
       "    .dataframe tbody tr th {\n",
       "        vertical-align: top;\n",
       "    }\n",
       "\n",
       "    .dataframe thead th {\n",
       "        text-align: right;\n",
       "    }\n",
       "</style>\n",
       "<table border=\"1\" class=\"dataframe\">\n",
       "  <thead>\n",
       "    <tr style=\"text-align: right;\">\n",
       "      <th></th>\n",
       "      <th>buy</th>\n",
       "      <th>following_company_page</th>\n",
       "      <th>Yearly_avg_comment_on_travel_page</th>\n",
       "      <th>preferred_location_type</th>\n",
       "      <th>yearly_avg_Outstation_checkins</th>\n",
       "      <th>total_likes_on_outstation_checkin_given</th>\n",
       "      <th>Yearly_avg_view_on_travel_page</th>\n",
       "      <th>member_in_family</th>\n",
       "      <th>total_likes_on_outofstation_checkin_received</th>\n",
       "      <th>week_since_last_outstation_checkin</th>\n",
       "      <th>montly_avg_comment_on_company_page</th>\n",
       "      <th>working_flag</th>\n",
       "      <th>travelling_network_rating</th>\n",
       "      <th>Adult_flag</th>\n",
       "      <th>Daily_Avg_mins_spend_on_traveling_page</th>\n",
       "    </tr>\n",
       "  </thead>\n",
       "  <tbody>\n",
       "    <tr>\n",
       "      <th>0</th>\n",
       "      <td>1</td>\n",
       "      <td>1.0</td>\n",
       "      <td>94.0</td>\n",
       "      <td>Financial</td>\n",
       "      <td>1.0</td>\n",
       "      <td>38570.0</td>\n",
       "      <td>307.0</td>\n",
       "      <td>2</td>\n",
       "      <td>5993</td>\n",
       "      <td>8</td>\n",
       "      <td>11</td>\n",
       "      <td>0</td>\n",
       "      <td>4</td>\n",
       "      <td>0</td>\n",
       "      <td>8</td>\n",
       "    </tr>\n",
       "    <tr>\n",
       "      <th>1</th>\n",
       "      <td>0</td>\n",
       "      <td>0.0</td>\n",
       "      <td>61.0</td>\n",
       "      <td>Financial</td>\n",
       "      <td>1.0</td>\n",
       "      <td>9765.0</td>\n",
       "      <td>367.0</td>\n",
       "      <td>1</td>\n",
       "      <td>5130</td>\n",
       "      <td>1</td>\n",
       "      <td>23</td>\n",
       "      <td>1</td>\n",
       "      <td>1</td>\n",
       "      <td>1</td>\n",
       "      <td>10</td>\n",
       "    </tr>\n",
       "    <tr>\n",
       "      <th>2</th>\n",
       "      <td>1</td>\n",
       "      <td>1.0</td>\n",
       "      <td>92.0</td>\n",
       "      <td>Other</td>\n",
       "      <td>1.0</td>\n",
       "      <td>48055.0</td>\n",
       "      <td>277.0</td>\n",
       "      <td>2</td>\n",
       "      <td>2090</td>\n",
       "      <td>6</td>\n",
       "      <td>15</td>\n",
       "      <td>0</td>\n",
       "      <td>3</td>\n",
       "      <td>0</td>\n",
       "      <td>7</td>\n",
       "    </tr>\n",
       "    <tr>\n",
       "      <th>3</th>\n",
       "      <td>0</td>\n",
       "      <td>1.0</td>\n",
       "      <td>56.0</td>\n",
       "      <td>Financial</td>\n",
       "      <td>1.0</td>\n",
       "      <td>48720.0</td>\n",
       "      <td>247.0</td>\n",
       "      <td>4</td>\n",
       "      <td>2909</td>\n",
       "      <td>1</td>\n",
       "      <td>11</td>\n",
       "      <td>0</td>\n",
       "      <td>2</td>\n",
       "      <td>0</td>\n",
       "      <td>8</td>\n",
       "    </tr>\n",
       "    <tr>\n",
       "      <th>4</th>\n",
       "      <td>0</td>\n",
       "      <td>0.0</td>\n",
       "      <td>40.0</td>\n",
       "      <td>Medical</td>\n",
       "      <td>1.0</td>\n",
       "      <td>20685.0</td>\n",
       "      <td>202.0</td>\n",
       "      <td>1</td>\n",
       "      <td>3468</td>\n",
       "      <td>9</td>\n",
       "      <td>12</td>\n",
       "      <td>0</td>\n",
       "      <td>1</td>\n",
       "      <td>1</td>\n",
       "      <td>6</td>\n",
       "    </tr>\n",
       "  </tbody>\n",
       "</table>\n",
       "</div>"
      ],
      "text/plain": [
       "   buy  following_company_page  Yearly_avg_comment_on_travel_page  \\\n",
       "0    1                     1.0                               94.0   \n",
       "1    0                     0.0                               61.0   \n",
       "2    1                     1.0                               92.0   \n",
       "3    0                     1.0                               56.0   \n",
       "4    0                     0.0                               40.0   \n",
       "\n",
       "  preferred_location_type  yearly_avg_Outstation_checkins  \\\n",
       "0               Financial                             1.0   \n",
       "1               Financial                             1.0   \n",
       "2                   Other                             1.0   \n",
       "3               Financial                             1.0   \n",
       "4                 Medical                             1.0   \n",
       "\n",
       "   total_likes_on_outstation_checkin_given  Yearly_avg_view_on_travel_page  \\\n",
       "0                                  38570.0                           307.0   \n",
       "1                                   9765.0                           367.0   \n",
       "2                                  48055.0                           277.0   \n",
       "3                                  48720.0                           247.0   \n",
       "4                                  20685.0                           202.0   \n",
       "\n",
       "   member_in_family  total_likes_on_outofstation_checkin_received  \\\n",
       "0                 2                                          5993   \n",
       "1                 1                                          5130   \n",
       "2                 2                                          2090   \n",
       "3                 4                                          2909   \n",
       "4                 1                                          3468   \n",
       "\n",
       "   week_since_last_outstation_checkin  montly_avg_comment_on_company_page  \\\n",
       "0                                   8                                  11   \n",
       "1                                   1                                  23   \n",
       "2                                   6                                  15   \n",
       "3                                   1                                  11   \n",
       "4                                   9                                  12   \n",
       "\n",
       "   working_flag  travelling_network_rating  Adult_flag  \\\n",
       "0             0                          4           0   \n",
       "1             1                          1           1   \n",
       "2             0                          3           0   \n",
       "3             0                          2           0   \n",
       "4             0                          1           1   \n",
       "\n",
       "   Daily_Avg_mins_spend_on_traveling_page  \n",
       "0                                       8  \n",
       "1                                      10  \n",
       "2                                       7  \n",
       "3                                       8  \n",
       "4                                       6  "
      ]
     },
     "execution_count": 3,
     "metadata": {},
     "output_type": "execute_result"
    }
   ],
   "source": [
    "df.head()"
   ]
  },
  {
   "cell_type": "code",
   "execution_count": 4,
   "metadata": {},
   "outputs": [],
   "source": [
    "df['preferred_location_type'] = np.where(df['preferred_location_type']=='Tour  Travel','Tour and Travel',df['preferred_location_type'])"
   ]
  },
  {
   "cell_type": "markdown",
   "metadata": {},
   "source": [
    "### pd.get_dummies"
   ]
  },
  {
   "cell_type": "code",
   "execution_count": 5,
   "metadata": {},
   "outputs": [],
   "source": [
    "cat_col = df.select_dtypes(exclude=[np.number]).columns.tolist()"
   ]
  },
  {
   "cell_type": "code",
   "execution_count": 6,
   "metadata": {},
   "outputs": [],
   "source": [
    "df = pd.get_dummies(df,columns=cat_col,drop_first=True)"
   ]
  },
  {
   "cell_type": "code",
   "execution_count": 7,
   "metadata": {},
   "outputs": [],
   "source": [
    "from sklearn.model_selection import train_test_split"
   ]
  },
  {
   "cell_type": "code",
   "execution_count": 8,
   "metadata": {},
   "outputs": [],
   "source": [
    "X = df.drop('buy',axis=1)\n",
    "Y = df['buy']"
   ]
  },
  {
   "cell_type": "code",
   "execution_count": 9,
   "metadata": {},
   "outputs": [],
   "source": [
    "X1,valid_X,Y1,valid_Y = train_test_split(X,Y,test_size=0.1,stratify=Y)"
   ]
  },
  {
   "cell_type": "code",
   "execution_count": 10,
   "metadata": {},
   "outputs": [
    {
     "name": "stdout",
     "output_type": "stream",
     "text": [
      "(9585, 26)\n",
      "(9585,)\n",
      "(1066, 26)\n",
      "(1066,)\n"
     ]
    }
   ],
   "source": [
    "print(X1.shape)\n",
    "print(Y1.shape)\n",
    "print(valid_X.shape)\n",
    "print(valid_Y.shape)"
   ]
  },
  {
   "cell_type": "markdown",
   "metadata": {},
   "source": [
    "### Modeling with Random Forest"
   ]
  },
  {
   "cell_type": "code",
   "execution_count": 11,
   "metadata": {},
   "outputs": [],
   "source": [
    "from sklearn.ensemble import RandomForestClassifier"
   ]
  },
  {
   "cell_type": "code",
   "execution_count": 12,
   "metadata": {},
   "outputs": [],
   "source": [
    "skf = StratifiedKFold(n_splits=10)"
   ]
  },
  {
   "cell_type": "code",
   "execution_count": 13,
   "metadata": {},
   "outputs": [],
   "source": [
    "X_train,X_test,Y_train,Y_test = train_test_split(X1,Y1,test_size=0.3,stratify=Y1)"
   ]
  },
  {
   "cell_type": "code",
   "execution_count": 14,
   "metadata": {},
   "outputs": [
    {
     "name": "stdout",
     "output_type": "stream",
     "text": [
      "(6709, 26)\n",
      "(6709,)\n",
      "(2876, 26)\n",
      "(2876,)\n"
     ]
    }
   ],
   "source": [
    "print(X_train.shape)\n",
    "print(Y_train.shape)\n",
    "print(X_test.shape)\n",
    "print(Y_test.shape)"
   ]
  },
  {
   "cell_type": "code",
   "execution_count": 15,
   "metadata": {},
   "outputs": [
    {
     "data": {
      "text/plain": [
       "67.09"
      ]
     },
     "execution_count": 15,
     "metadata": {},
     "output_type": "execute_result"
    }
   ],
   "source": [
    "0.01*6709"
   ]
  },
  {
   "cell_type": "markdown",
   "metadata": {},
   "source": [
    "### Hyperparameter tuning"
   ]
  },
  {
   "cell_type": "code",
   "execution_count": 1,
   "metadata": {},
   "outputs": [],
   "source": [
    "import numpy as np"
   ]
  },
  {
   "cell_type": "code",
   "execution_count": 2,
   "metadata": {},
   "outputs": [],
   "source": [
    "a1 = np.array([130,150,170,190,210,250])"
   ]
  },
  {
   "cell_type": "code",
   "execution_count": 3,
   "metadata": {},
   "outputs": [],
   "source": [
    "a2 = 2*np.array([130,150,170,190,210,250])"
   ]
  },
  {
   "cell_type": "code",
   "execution_count": 16,
   "metadata": {},
   "outputs": [],
   "source": [
    "# params = {'n_estimators':500,'criterion':['gini','entropy'],'max_features':[0.3,0.4,0.5,0.7,0.8],'max_depth':list(range(3,10)),\n",
    "#          'min_samples_leaf':np.array([130,150,170,190,210,250]),'min_samples_split':2*np.array([130,150,170,190,210,250]),\n",
    "#          'bootstrap':[True,False]}"
   ]
  },
  {
   "cell_type": "code",
   "execution_count": 17,
   "metadata": {},
   "outputs": [],
   "source": [
    "# def objective(trial):\n",
    "#     n_estimators=trial.suggest_int(\"n_estimators\",100,1000,step=1)\n",
    "#     max_depth=trial.suggest_int(\"max_depth\",3,10,step=1)\n",
    "#     min_samples_leaf=trial.suggest_int(\"min_samples_leaf\",low=130,high=250,step=20)\n",
    "#     min_samples_split=trial.suggest_int(\"min_samples_split\",low=260,high=500,step=40)\n",
    "#     max_features=trial.suggest_float(\"max_features\",low=0.3,high=0.8,step=0.1)\n",
    "#     bootstrap = trial.suggest_categorical('bootstrap',[True,False])                                            \n",
    "#     skf = StratifiedKFold(n_splits=10,random_state=1,shuffle=True)\n",
    "#     cv_scores = []\n",
    "#     for (train_idx,test_idx) in (skf.split(X1,Y1)):\n",
    "#       X_train,Y_train = X1.iloc[train_idx],Y1.iloc[train_idx]\n",
    "#       X_test,Y_test = X1.iloc[test_idx],Y1.iloc[test_idx]\n",
    "#       rfc = RandomForestClassifier(max_depth=max_depth,min_samples_leaf=min_samples_leaf,min_samples_split=min_samples_split,max_features=max_features,n_estimators=n_estimators,class_weight='balanced_subsample',n_jobs=-1,bootstrap=bootstrap)\n",
    "#       rfc.fit(X_train,Y_train)\n",
    "#       preds = rfc.predict(X_test)\n",
    "#       precision=metrics.precision_score(Y_test,preds)\n",
    "#       cv_scores.append(precision)\n",
    "#     return np.mean(cv_scores)"
   ]
  },
  {
   "cell_type": "code",
   "execution_count": 18,
   "metadata": {},
   "outputs": [],
   "source": [
    "# study_rfc = optuna.create_study(direction=\"maximize\",study_name=\"max-precision\")"
   ]
  },
  {
   "cell_type": "code",
   "execution_count": 19,
   "metadata": {},
   "outputs": [],
   "source": [
    "# start = datetime.now()\n",
    "# study_rfc.optimize(objective,n_trials=100)"
   ]
  },
  {
   "cell_type": "code",
   "execution_count": 20,
   "metadata": {},
   "outputs": [
    {
     "name": "stdout",
     "output_type": "stream",
     "text": [
      "============Training fold 0============\n",
      "Fold 0 finished with score: 0.68085 in 15.17 seconds.\n",
      "\n",
      "============Training fold 1============\n",
      "Fold 1 finished with score: 0.7551 in 14.89 seconds.\n",
      "\n",
      "============Training fold 2============\n",
      "Fold 2 finished with score: 0.88889 in 14.07 seconds.\n",
      "\n",
      "============Training fold 3============\n",
      "Fold 3 finished with score: 0.64444 in 14.01 seconds.\n",
      "\n",
      "============Training fold 4============\n",
      "Fold 4 finished with score: 0.74359 in 13.93 seconds.\n",
      "\n",
      "============Training fold 5============\n",
      "Fold 5 finished with score: 0.85 in 14.18 seconds.\n",
      "\n",
      "============Training fold 6============\n",
      "Fold 6 finished with score: 0.70455 in 15.24 seconds.\n",
      "\n",
      "============Training fold 7============\n",
      "Fold 7 finished with score: 0.81395 in 15.56 seconds.\n",
      "\n",
      "============Training fold 8============\n",
      "Fold 8 finished with score: 0.84444 in 15.1 seconds.\n",
      "\n",
      "============Training fold 9============\n",
      "Fold 9 finished with score: 0.73333 in 15.26 seconds.\n",
      "\n",
      "========================\n",
      "Average precision score is 0.7659152902264517\n"
     ]
    },
    {
     "data": {
      "image/png": "[encoded data removed]",
      "text/plain": [
       "<Figure size 432x288 with 1 Axes>"
      ]
     },
     "metadata": {
      "needs_background": "light"
     },
     "output_type": "display_data"
    }
   ],
   "source": [
    "#best_params\n",
    "best_param = {'n_estimators': 926,'max_depth': 10,'min_samples_leaf': 130,'min_samples_split': 260,'max_features': 0.6000000000000001,'bootstrap': False}\n",
    "precision_score = []\n",
    "idx1 = []\n",
    "for idx,(train_idx,test_idx) in enumerate(skf.split(X1,Y1)):\n",
    "    print(\"=\"*12+\"Training fold {}\".format(idx)+\"=\"*12)\n",
    "    X2_train,X2_test = X1.iloc[train_idx,:],X1.iloc[test_idx,:]\n",
    "    Y2_train,Y2_test = Y1.iloc[train_idx],Y1.iloc[test_idx]\n",
    "    start = datetime.now()\n",
    "    rfc_cv = RandomForestClassifier(**best_param)\n",
    "    rfc_cv.fit(X2_train,Y2_train)\n",
    "    y_pred = rfc_cv.predict(X2_test)\n",
    "    precision=metrics.precision_score(Y2_test,y_pred)\n",
    "    precision_score.append(precision)\n",
    "    idx1.append(idx)\n",
    "    runtime = datetime.now() - start\n",
    "    print(\"Fold {} finished with score: {} in {} seconds.\\n\".format(idx,np.round(precision,5),np.round(runtime.total_seconds(),2)))\n",
    "Avg_precision_score = np.mean(precision_score)\n",
    "print(\"=\"*24)\n",
    "print(\"Average precision score is {}\".format(Avg_precision_score))\n",
    "plt.plot(idx1,precision_score,marker='o')\n",
    "plt.title('Precision score Vs. training fold')\n",
    "plt.xlabel('Training fold sequence')\n",
    "plt.ylabel('Precision score')\n",
    "plt.show()"
   ]
  },
  {
   "cell_type": "code",
   "execution_count": 21,
   "metadata": {},
   "outputs": [],
   "source": [
    "Metrics = pd.DataFrame(columns=[\"Random_forest_tuned_cv_0.1_test\"],index=[\"Precision\",\"Recall\",\"F1-score\",\"AUROC\",\"Avg_precision\"])"
   ]
  },
  {
   "cell_type": "code",
   "execution_count": 22,
   "metadata": {},
   "outputs": [],
   "source": [
    "def checking_performance_cv(valid_X,valid_Y,cv_model,model_name,train):\n",
    "    preds=cv_model.predict(valid_X)\n",
    "    valid_X_prob=cv_model.predict_proba(valid_X)\n",
    "    precision = metrics.precision_score(valid_Y,preds)\n",
    "    recall = metrics.recall_score(valid_Y,preds)\n",
    "    f1_score = metrics.f1_score(valid_Y,preds)\n",
    "    auroc=metrics.roc_auc_score(valid_Y,valid_X_prob[:,1])\n",
    "    auprc=metrics.average_precision_score(valid_Y,valid_X_prob[:,1])\n",
    "    if train:\n",
    "        Metrics[model_name+'_cv_updated_train'] = [precision,recall,f1_score,auroc,auprc]\n",
    "    else:\n",
    "        Metrics[model_name+'_cv_updated_test'] = [precision,recall,f1_score,auroc,auprc]\n",
    "    return sns.heatmap(confusion_matrix(valid_Y,preds),annot=True,fmt=\"d\",cbar=False,cmap=\"YlGnBu\"),print(classification_report(valid_Y,preds))"
   ]
  },
  {
   "cell_type": "code",
   "execution_count": 23,
   "metadata": {},
   "outputs": [
    {
     "name": "stdout",
     "output_type": "stream",
     "text": [
      "              precision    recall  f1-score   support\n",
      "\n",
      "           0       0.88      0.99      0.93       904\n",
      "           1       0.85      0.25      0.38       162\n",
      "\n",
      "    accuracy                           0.88      1066\n",
      "   macro avg       0.87      0.62      0.66      1066\n",
      "weighted avg       0.88      0.88      0.85      1066\n",
      "\n"
     ]
    },
    {
     "data": {
      "text/plain": [
       "(<AxesSubplot:>, None)"
      ]
     },
     "execution_count": 23,
     "metadata": {},
     "output_type": "execute_result"
    },
    {
     "data": {
      "image/png": "[encoded data removed]",
      "text/plain": [
       "<Figure size 432x288 with 1 Axes>"
      ]
     },
     "metadata": {
      "needs_background": "light"
     },
     "output_type": "display_data"
    }
   ],
   "source": [
    "checking_performance_cv(valid_X,valid_Y,rfc_cv,'0.1_tuned',True)"
   ]
  },
  {
   "cell_type": "code",
   "execution_count": 24,
   "metadata": {},
   "outputs": [],
   "source": [
    "Metrics.rename(columns={'0.1_tuned_cv_updated_train':'Random_forest_0.1_tuned_cv_updated_train'},inplace=True)"
   ]
  },
  {
   "cell_type": "code",
   "execution_count": 25,
   "metadata": {},
   "outputs": [],
   "source": [
    "Metrics.drop('Random_forest_tuned_cv_0.1_test',axis=1,inplace=True)"
   ]
  },
  {
   "cell_type": "code",
   "execution_count": 26,
   "metadata": {},
   "outputs": [
    {
     "data": {
      "text/html": [
       "<div>\n",
       "<style scoped>\n",
       "    .dataframe tbody tr th:only-of-type {\n",
       "        vertical-align: middle;\n",
       "    }\n",
       "\n",
       "    .dataframe tbody tr th {\n",
       "        vertical-align: top;\n",
       "    }\n",
       "\n",
       "    .dataframe thead th {\n",
       "        text-align: right;\n",
       "    }\n",
       "</style>\n",
       "<table border=\"1\" class=\"dataframe\">\n",
       "  <thead>\n",
       "    <tr style=\"text-align: right;\">\n",
       "      <th></th>\n",
       "      <th>Random_forest_0.1_tuned_cv_updated_train</th>\n",
       "    </tr>\n",
       "  </thead>\n",
       "  <tbody>\n",
       "    <tr>\n",
       "      <th>Precision</th>\n",
       "      <td>0.85</td>\n",
       "    </tr>\n",
       "    <tr>\n",
       "      <th>Recall</th>\n",
       "      <td>0.25</td>\n",
       "    </tr>\n",
       "    <tr>\n",
       "      <th>F1-score</th>\n",
       "      <td>0.38</td>\n",
       "    </tr>\n",
       "    <tr>\n",
       "      <th>AUROC</th>\n",
       "      <td>0.90</td>\n",
       "    </tr>\n",
       "    <tr>\n",
       "      <th>Avg_precision</th>\n",
       "      <td>0.64</td>\n",
       "    </tr>\n",
       "  </tbody>\n",
       "</table>\n",
       "</div>"
      ],
      "text/plain": [
       "               Random_forest_0.1_tuned_cv_updated_train\n",
       "Precision                                          0.85\n",
       "Recall                                             0.25\n",
       "F1-score                                           0.38\n",
       "AUROC                                              0.90\n",
       "Avg_precision                                      0.64"
      ]
     },
     "execution_count": 26,
     "metadata": {},
     "output_type": "execute_result"
    }
   ],
   "source": [
    "Metrics.apply(lambda x:np.round(x,2))"
   ]
  },
  {
   "cell_type": "code",
   "execution_count": 27,
   "metadata": {},
   "outputs": [
    {
     "name": "stdout",
     "output_type": "stream",
     "text": [
      "              precision    recall  f1-score   support\n",
      "\n",
      "           0       0.88      0.99      0.93       904\n",
      "           1       0.85      0.25      0.38       162\n",
      "\n",
      "    accuracy                           0.88      1066\n",
      "   macro avg       0.87      0.62      0.66      1066\n",
      "weighted avg       0.88      0.88      0.85      1066\n",
      "\n"
     ]
    },
    {
     "data": {
      "text/plain": [
       "(<AxesSubplot:>, None)"
      ]
     },
     "execution_count": 27,
     "metadata": {},
     "output_type": "execute_result"
    },
    {
     "data": {
      "image/png": "[encoded data removed]",
      "text/plain": [
       "<Figure size 432x288 with 1 Axes>"
      ]
     },
     "metadata": {
      "needs_background": "light"
     },
     "output_type": "display_data"
    }
   ],
   "source": [
    "checking_performance_cv(valid_X,valid_Y,rfc_cv,'0.1_tuned',False)"
   ]
  },
  {
   "cell_type": "code",
   "execution_count": 28,
   "metadata": {},
   "outputs": [],
   "source": [
    "Metrics=Metrics.apply(lambda x:np.round(x,2))"
   ]
  },
  {
   "cell_type": "code",
   "execution_count": 29,
   "metadata": {},
   "outputs": [
    {
     "data": {
      "text/html": [
       "<div>\n",
       "<style scoped>\n",
       "    .dataframe tbody tr th:only-of-type {\n",
       "        vertical-align: middle;\n",
       "    }\n",
       "\n",
       "    .dataframe tbody tr th {\n",
       "        vertical-align: top;\n",
       "    }\n",
       "\n",
       "    .dataframe thead th {\n",
       "        text-align: right;\n",
       "    }\n",
       "</style>\n",
       "<table border=\"1\" class=\"dataframe\">\n",
       "  <thead>\n",
       "    <tr style=\"text-align: right;\">\n",
       "      <th></th>\n",
       "      <th>Random_forest_0.1_tuned_cv_updated_train</th>\n",
       "      <th>0.1_tuned_cv_updated_test</th>\n",
       "    </tr>\n",
       "  </thead>\n",
       "  <tbody>\n",
       "    <tr>\n",
       "      <th>Precision</th>\n",
       "      <td>0.85</td>\n",
       "      <td>0.85</td>\n",
       "    </tr>\n",
       "    <tr>\n",
       "      <th>Recall</th>\n",
       "      <td>0.25</td>\n",
       "      <td>0.25</td>\n",
       "    </tr>\n",
       "    <tr>\n",
       "      <th>F1-score</th>\n",
       "      <td>0.38</td>\n",
       "      <td>0.38</td>\n",
       "    </tr>\n",
       "    <tr>\n",
       "      <th>AUROC</th>\n",
       "      <td>0.90</td>\n",
       "      <td>0.90</td>\n",
       "    </tr>\n",
       "    <tr>\n",
       "      <th>Avg_precision</th>\n",
       "      <td>0.64</td>\n",
       "      <td>0.64</td>\n",
       "    </tr>\n",
       "  </tbody>\n",
       "</table>\n",
       "</div>"
      ],
      "text/plain": [
       "               Random_forest_0.1_tuned_cv_updated_train  \\\n",
       "Precision                                          0.85   \n",
       "Recall                                             0.25   \n",
       "F1-score                                           0.38   \n",
       "AUROC                                              0.90   \n",
       "Avg_precision                                      0.64   \n",
       "\n",
       "               0.1_tuned_cv_updated_test  \n",
       "Precision                           0.85  \n",
       "Recall                              0.25  \n",
       "F1-score                            0.38  \n",
       "AUROC                               0.90  \n",
       "Avg_precision                       0.64  "
      ]
     },
     "execution_count": 29,
     "metadata": {},
     "output_type": "execute_result"
    }
   ],
   "source": [
    "Metrics"
   ]
  }
 ],
 "metadata": {
  "kernelspec": {
   "display_name": "Python 3",
   "language": "python",
   "name": "python3"
  },
  "language_info": {
   "codemirror_mode": {
    "name": "ipython",
    "version": 3
   },
   "file_extension": ".py",
   "mimetype": "text/x-python",
   "name": "python",
   "nbconvert_exporter": "python",
   "pygments_lexer": "ipython3",
   "version": "3.8.3"
  }
 },
 "nbformat": 4,
 "nbformat_minor": 4
}
