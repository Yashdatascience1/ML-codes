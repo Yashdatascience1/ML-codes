{
 "cells": [
  {
   "cell_type": "code",
   "execution_count": 1,
   "metadata": {},
   "outputs": [],
   "source": [
    "import pandas as pd\n",
    "import numpy as np\n",
    "from sklearn.model_selection import StratifiedKFold\n",
    "import datetime\n",
    "from datetime import *\n",
    "import optuna\n",
    "from sklearn import metrics\n",
    "import matplotlib.pyplot as plt\n",
    "import seaborn as sns\n",
    "from sklearn.metrics import confusion_matrix,classification_report"
   ]
  },
  {
   "cell_type": "code",
   "execution_count": 2,
   "metadata": {},
   "outputs": [],
   "source": [
    "df = pd.read_csv('C:\\\\Users\\\\yashs\\\\OneDrive\\\\Desktop\\\\Machine Learning\\\\Social Media Tourism project\\\\With_missing_values_imputed.csv')"
   ]
  },
  {
   "cell_type": "code",
   "execution_count": 3,
   "metadata": {},
   "outputs": [
    {
     "data": {
      "text/html": [
       "<div>\n",
       "<style scoped>\n",
       "    .dataframe tbody tr th:only-of-type {\n",
       "        vertical-align: middle;\n",
       "    }\n",
       "\n",
       "    .dataframe tbody tr th {\n",
       "        vertical-align: top;\n",
       "    }\n",
       "\n",
       "    .dataframe thead th {\n",
       "        text-align: right;\n",
       "    }\n",
       "</style>\n",
       "<table border=\"1\" class=\"dataframe\">\n",
       "  <thead>\n",
       "    <tr style=\"text-align: right;\">\n",
       "      <th></th>\n",
       "      <th>buy</th>\n",
       "      <th>following_company_page</th>\n",
       "      <th>Yearly_avg_comment_on_travel_page</th>\n",
       "      <th>preferred_location_type</th>\n",
       "      <th>yearly_avg_Outstation_checkins</th>\n",
       "      <th>total_likes_on_outstation_checkin_given</th>\n",
       "      <th>Yearly_avg_view_on_travel_page</th>\n",
       "      <th>member_in_family</th>\n",
       "      <th>total_likes_on_outofstation_checkin_received</th>\n",
       "      <th>week_since_last_outstation_checkin</th>\n",
       "      <th>montly_avg_comment_on_company_page</th>\n",
       "      <th>working_flag</th>\n",
       "      <th>travelling_network_rating</th>\n",
       "      <th>Adult_flag</th>\n",
       "      <th>Daily_Avg_mins_spend_on_traveling_page</th>\n",
       "    </tr>\n",
       "  </thead>\n",
       "  <tbody>\n",
       "    <tr>\n",
       "      <th>0</th>\n",
       "      <td>1</td>\n",
       "      <td>1.0</td>\n",
       "      <td>94.0</td>\n",
       "      <td>Financial</td>\n",
       "      <td>1.0</td>\n",
       "      <td>38570.0</td>\n",
       "      <td>307.0</td>\n",
       "      <td>2</td>\n",
       "      <td>5993</td>\n",
       "      <td>8</td>\n",
       "      <td>11</td>\n",
       "      <td>0</td>\n",
       "      <td>4</td>\n",
       "      <td>0</td>\n",
       "      <td>8</td>\n",
       "    </tr>\n",
       "    <tr>\n",
       "      <th>1</th>\n",
       "      <td>0</td>\n",
       "      <td>0.0</td>\n",
       "      <td>61.0</td>\n",
       "      <td>Financial</td>\n",
       "      <td>1.0</td>\n",
       "      <td>9765.0</td>\n",
       "      <td>367.0</td>\n",
       "      <td>1</td>\n",
       "      <td>5130</td>\n",
       "      <td>1</td>\n",
       "      <td>23</td>\n",
       "      <td>1</td>\n",
       "      <td>1</td>\n",
       "      <td>1</td>\n",
       "      <td>10</td>\n",
       "    </tr>\n",
       "    <tr>\n",
       "      <th>2</th>\n",
       "      <td>1</td>\n",
       "      <td>1.0</td>\n",
       "      <td>92.0</td>\n",
       "      <td>Other</td>\n",
       "      <td>1.0</td>\n",
       "      <td>48055.0</td>\n",
       "      <td>277.0</td>\n",
       "      <td>2</td>\n",
       "      <td>2090</td>\n",
       "      <td>6</td>\n",
       "      <td>15</td>\n",
       "      <td>0</td>\n",
       "      <td>3</td>\n",
       "      <td>0</td>\n",
       "      <td>7</td>\n",
       "    </tr>\n",
       "    <tr>\n",
       "      <th>3</th>\n",
       "      <td>0</td>\n",
       "      <td>1.0</td>\n",
       "      <td>56.0</td>\n",
       "      <td>Financial</td>\n",
       "      <td>1.0</td>\n",
       "      <td>48720.0</td>\n",
       "      <td>247.0</td>\n",
       "      <td>4</td>\n",
       "      <td>2909</td>\n",
       "      <td>1</td>\n",
       "      <td>11</td>\n",
       "      <td>0</td>\n",
       "      <td>2</td>\n",
       "      <td>0</td>\n",
       "      <td>8</td>\n",
       "    </tr>\n",
       "    <tr>\n",
       "      <th>4</th>\n",
       "      <td>0</td>\n",
       "      <td>0.0</td>\n",
       "      <td>40.0</td>\n",
       "      <td>Medical</td>\n",
       "      <td>1.0</td>\n",
       "      <td>20685.0</td>\n",
       "      <td>202.0</td>\n",
       "      <td>1</td>\n",
       "      <td>3468</td>\n",
       "      <td>9</td>\n",
       "      <td>12</td>\n",
       "      <td>0</td>\n",
       "      <td>1</td>\n",
       "      <td>1</td>\n",
       "      <td>6</td>\n",
       "    </tr>\n",
       "  </tbody>\n",
       "</table>\n",
       "</div>"
      ],
      "text/plain": [
       "   buy  following_company_page  Yearly_avg_comment_on_travel_page  \\\n",
       "0    1                     1.0                               94.0   \n",
       "1    0                     0.0                               61.0   \n",
       "2    1                     1.0                               92.0   \n",
       "3    0                     1.0                               56.0   \n",
       "4    0                     0.0                               40.0   \n",
       "\n",
       "  preferred_location_type  yearly_avg_Outstation_checkins  \\\n",
       "0               Financial                             1.0   \n",
       "1               Financial                             1.0   \n",
       "2                   Other                             1.0   \n",
       "3               Financial                             1.0   \n",
       "4                 Medical                             1.0   \n",
       "\n",
       "   total_likes_on_outstation_checkin_given  Yearly_avg_view_on_travel_page  \\\n",
       "0                                  38570.0                           307.0   \n",
       "1                                   9765.0                           367.0   \n",
       "2                                  48055.0                           277.0   \n",
       "3                                  48720.0                           247.0   \n",
       "4                                  20685.0                           202.0   \n",
       "\n",
       "   member_in_family  total_likes_on_outofstation_checkin_received  \\\n",
       "0                 2                                          5993   \n",
       "1                 1                                          5130   \n",
       "2                 2                                          2090   \n",
       "3                 4                                          2909   \n",
       "4                 1                                          3468   \n",
       "\n",
       "   week_since_last_outstation_checkin  montly_avg_comment_on_company_page  \\\n",
       "0                                   8                                  11   \n",
       "1                                   1                                  23   \n",
       "2                                   6                                  15   \n",
       "3                                   1                                  11   \n",
       "4                                   9                                  12   \n",
       "\n",
       "   working_flag  travelling_network_rating  Adult_flag  \\\n",
       "0             0                          4           0   \n",
       "1             1                          1           1   \n",
       "2             0                          3           0   \n",
       "3             0                          2           0   \n",
       "4             0                          1           1   \n",
       "\n",
       "   Daily_Avg_mins_spend_on_traveling_page  \n",
       "0                                       8  \n",
       "1                                      10  \n",
       "2                                       7  \n",
       "3                                       8  \n",
       "4                                       6  "
      ]
     },
     "execution_count": 3,
     "metadata": {},
     "output_type": "execute_result"
    }
   ],
   "source": [
    "df.head()"
   ]
  },
  {
   "cell_type": "code",
   "execution_count": 4,
   "metadata": {},
   "outputs": [],
   "source": [
    "df['preferred_location_type'] = np.where(df['preferred_location_type']=='Tour  Travel','Tour and Travel',df['preferred_location_type'])"
   ]
  },
  {
   "cell_type": "markdown",
   "metadata": {},
   "source": [
    "### pd.get_dummies"
   ]
  },
  {
   "cell_type": "code",
   "execution_count": 5,
   "metadata": {},
   "outputs": [],
   "source": [
    "cat_col = df.select_dtypes(exclude=[np.number]).columns.tolist()"
   ]
  },
  {
   "cell_type": "code",
   "execution_count": 6,
   "metadata": {},
   "outputs": [],
   "source": [
    "df = pd.get_dummies(df,columns=cat_col,drop_first=True)"
   ]
  },
  {
   "cell_type": "code",
   "execution_count": 7,
   "metadata": {},
   "outputs": [],
   "source": [
    "from sklearn.model_selection import train_test_split"
   ]
  },
  {
   "cell_type": "code",
   "execution_count": 8,
   "metadata": {},
   "outputs": [],
   "source": [
    "X = df.drop('buy',axis=1)\n",
    "Y = df['buy']"
   ]
  },
  {
   "cell_type": "code",
   "execution_count": 9,
   "metadata": {},
   "outputs": [],
   "source": [
    "X1,valid_X,Y1,valid_Y = train_test_split(X,Y,test_size=0.1,stratify=Y)"
   ]
  },
  {
   "cell_type": "code",
   "execution_count": 10,
   "metadata": {},
   "outputs": [
    {
     "name": "stdout",
     "output_type": "stream",
     "text": [
      "(9585, 26)\n",
      "(9585,)\n",
      "(1066, 26)\n",
      "(1066,)\n"
     ]
    }
   ],
   "source": [
    "print(X1.shape)\n",
    "print(Y1.shape)\n",
    "print(valid_X.shape)\n",
    "print(valid_Y.shape)"
   ]
  },
  {
   "cell_type": "markdown",
   "metadata": {},
   "source": [
    "### Modeling with Support Vector Machines"
   ]
  },
  {
   "cell_type": "code",
   "execution_count": 11,
   "metadata": {},
   "outputs": [],
   "source": [
    "#Importing the SVC class\n",
    "from sklearn.svm import SVC"
   ]
  },
  {
   "cell_type": "code",
   "execution_count": 12,
   "metadata": {},
   "outputs": [],
   "source": [
    "#C is known as cost parameter\n",
    "\n",
    "#High C would mean that the distance separating the hyperplanes is not maximum but it is not doing\n",
    "#much misclassification\n",
    "\n",
    "#Conversely low C would mean that the distance separating the hyperplanes is maximum as much as it can be but at the expense\n",
    "#of misclassification"
   ]
  },
  {
   "cell_type": "code",
   "execution_count": 13,
   "metadata": {},
   "outputs": [],
   "source": [
    "#C can be 10^(-5) to 10^3"
   ]
  },
  {
   "cell_type": "code",
   "execution_count": 14,
   "metadata": {},
   "outputs": [],
   "source": [
    "#Gamma values can be from 0.001 to 100 or above\n",
    "\n",
    "#Large gamma values will lead to overfitting\n",
    "\n",
    "#Small gamma values are preferrable"
   ]
  },
  {
   "cell_type": "code",
   "execution_count": 15,
   "metadata": {},
   "outputs": [],
   "source": [
    "#Hard margin SVM would mean large values of C and it would mean that any misclassification is not allowed\n",
    "\n",
    "#Soft margin SVM would mean small values of C and it would mean that misclassification is allowed\n",
    "\n",
    "#Usually Hard margin SVM is applied when data is linearly separable and Soft margin SVM is preferred when\n",
    "#data is not linearly separable"
   ]
  },
  {
   "cell_type": "code",
   "execution_count": 16,
   "metadata": {},
   "outputs": [],
   "source": [
    "#Kernel can be 'linear', 'rbf' , and 'poly'"
   ]
  },
  {
   "cell_type": "code",
   "execution_count": 1,
   "metadata": {},
   "outputs": [],
   "source": [
    "#Hinge loss : Hinge loss is the loss function associated with soft margin support vector machines\n",
    "#Hinge loss is proportional to the distance of the instance from its correct decision boundary. For e.g. - distance of \n",
    "#a negative instance from negative decision boundary"
   ]
  },
  {
   "cell_type": "code",
   "execution_count": 2,
   "metadata": {},
   "outputs": [],
   "source": [
    "#Hard margin SVM doesn't have a cost function\n",
    "\n",
    "#Only soft margin SVM does"
   ]
  },
  {
   "cell_type": "markdown",
   "metadata": {},
   "source": [
    "#### [Link](https://programmathically.com/understanding-hinge-loss-and-the-svm-cost-function/) to learn more"
   ]
  },
  {
   "cell_type": "code",
   "execution_count": 18,
   "metadata": {},
   "outputs": [],
   "source": [
    "svm = SVC(C=1,gamma=2.5,kernel='rbf')"
   ]
  },
  {
   "cell_type": "code",
   "execution_count": 35,
   "metadata": {},
   "outputs": [],
   "source": [
    "preset_params = {'C':1,'gamma':2.5,'kernel':'rbf'}"
   ]
  },
  {
   "cell_type": "code",
   "execution_count": 36,
   "metadata": {},
   "outputs": [],
   "source": [
    "X_train,X_test,Y_train,Y_test = train_test_split(X1,Y1,test_size=0.3,stratify=Y1)"
   ]
  },
  {
   "cell_type": "markdown",
   "metadata": {},
   "source": [
    "### Training with manually set hyperparameters using cross-validation"
   ]
  },
  {
   "cell_type": "code",
   "execution_count": 37,
   "metadata": {},
   "outputs": [
    {
     "name": "stdout",
     "output_type": "stream",
     "text": [
      "============Training fold 0============\n",
      "Fold 0 finished with score: 1.0 in 10.63 seconds.\n",
      "\n",
      "============Training fold 1============\n",
      "Fold 1 finished with score: 1.0 in 9.91 seconds.\n",
      "\n",
      "============Training fold 2============\n",
      "Fold 2 finished with score: 1.0 in 8.84 seconds.\n",
      "\n",
      "============Training fold 3============\n",
      "Fold 3 finished with score: 1.0 in 14.33 seconds.\n",
      "\n",
      "============Training fold 4============\n",
      "Fold 4 finished with score: 1.0 in 10.02 seconds.\n",
      "\n",
      "============Training fold 5============\n",
      "Fold 5 finished with score: 1.0 in 15.26 seconds.\n",
      "\n",
      "============Training fold 6============\n",
      "Fold 6 finished with score: 1.0 in 18.53 seconds.\n",
      "\n",
      "============Training fold 7============\n",
      "Fold 7 finished with score: 1.0 in 13.26 seconds.\n",
      "\n",
      "============Training fold 8============\n",
      "Fold 8 finished with score: 1.0 in 14.74 seconds.\n",
      "\n",
      "============Training fold 9============\n",
      "Fold 9 finished with score: 1.0 in 11.28 seconds.\n",
      "\n",
      "========================\n",
      "Average precision score is 1.0\n"
     ]
    },
    {
     "data": {
      "image/png": "[encoded data removed]",
      "text/plain": [
       "<Figure size 432x288 with 1 Axes>"
      ]
     },
     "metadata": {
      "needs_background": "light"
     },
     "output_type": "display_data"
    }
   ],
   "source": [
    "#preset_params\n",
    "precision_score = []\n",
    "idx1 = []\n",
    "skf = StratifiedKFold(n_splits=10)\n",
    "for idx,(train_idx,test_idx) in enumerate(skf.split(X1,Y1)):\n",
    "    print(\"=\"*12+\"Training fold {}\".format(idx)+\"=\"*12)\n",
    "    X2_train,X2_test = X1.iloc[train_idx,:],X1.iloc[test_idx,:]\n",
    "    Y2_train,Y2_test = Y1.iloc[train_idx],Y1.iloc[test_idx]\n",
    "    start = datetime.now()\n",
    "    svm = SVC(**preset_params)\n",
    "    svm.fit(X2_train,Y2_train)\n",
    "    y_pred = svm.predict(X2_test)\n",
    "    precision=metrics.precision_score(Y2_test,y_pred)\n",
    "    precision_score.append(precision)\n",
    "    idx1.append(idx)\n",
    "    runtime = datetime.now() - start\n",
    "    print(\"Fold {} finished with score: {} in {} seconds.\\n\".format(idx,np.round(precision,5),np.round(runtime.total_seconds(),2)))\n",
    "Avg_precision_score = np.mean(precision_score)\n",
    "print(\"=\"*24)\n",
    "print(\"Average precision score is {}\".format(Avg_precision_score))\n",
    "plt.plot(idx1,precision_score,marker='o')\n",
    "plt.title('Precision score Vs. training fold')\n",
    "plt.xlabel('Training fold sequence')\n",
    "plt.ylabel('Precision score')\n",
    "plt.show()"
   ]
  },
  {
   "cell_type": "markdown",
   "metadata": {},
   "source": [
    "### Hyperparameter tuning"
   ]
  },
  {
   "cell_type": "code",
   "execution_count": 22,
   "metadata": {},
   "outputs": [],
   "source": [
    "def objective(trial):\n",
    "    C=trial.suggest_float(\"C\",0.01,20,step=0.5)\n",
    "    gamma=trial.suggest_float(\"gamma\",0.01,20,log=True)\n",
    "    kernel=trial.suggest_categorical(\"kernel\",['rbf','poly','sigmoid'])                                           \n",
    "    skf = StratifiedKFold(n_splits=10,random_state=1,shuffle=True)\n",
    "    cv_scores = []\n",
    "    for (train_idx,test_idx) in (skf.split(X1,Y1)):\n",
    "      X_train,Y_train = X1.iloc[train_idx],Y1.iloc[train_idx]\n",
    "      X_test,Y_test = X1.iloc[test_idx],Y1.iloc[test_idx]\n",
    "      svm = SVC(C=C,gamma=gamma,kernel=kernel)\n",
    "      svm.fit(X_train,Y_train)\n",
    "      preds = svm.predict(X_test)\n",
    "      precision=metrics.precision_score(Y_test,preds)\n",
    "      cv_scores.append(precision)\n",
    "    return np.mean(cv_scores)"
   ]
  },
  {
   "cell_type": "code",
   "execution_count": 23,
   "metadata": {},
   "outputs": [
    {
     "name": "stderr",
     "output_type": "stream",
     "text": [
      "\u001b[32m[I 2022-12-02 03:32:51,201]\u001b[0m A new study created in memory with name: max-precision\u001b[0m\n"
     ]
    }
   ],
   "source": [
    "study_svm = optuna.create_study(direction=\"maximize\",study_name=\"max-precision\")"
   ]
  },
  {
   "cell_type": "code",
   "execution_count": null,
   "metadata": {},
   "outputs": [
    {
     "name": "stderr",
     "output_type": "stream",
     "text": [
      "C:\\Users\\yashs\\anaconda3\\New folder\\lib\\site-packages\\optuna\\distributions.py:545: UserWarning: The distribution is specified by [0.01, 20] and q=0.5, but the range is not divisible by `q`. It will be replaced by [0.01, 19.51].\n",
      "  warnings.warn(\n"
     ]
    }
   ],
   "source": [
    "start = datetime.now()\n",
    "study_svm.optimize(objective,n_trials=10)"
   ]
  },
  {
   "cell_type": "code",
   "execution_count": null,
   "metadata": {},
   "outputs": [],
   "source": [
    "time_taken = datetime.now() - start"
   ]
  },
  {
   "cell_type": "code",
   "execution_count": null,
   "metadata": {},
   "outputs": [],
   "source": []
  }
 ],
 "metadata": {
  "kernelspec": {
   "display_name": "Python 3",
   "language": "python",
   "name": "python3"
  },
  "language_info": {
   "codemirror_mode": {
    "name": "ipython",
    "version": 3
   },
   "file_extension": ".py",
   "mimetype": "text/x-python",
   "name": "python",
   "nbconvert_exporter": "python",
   "pygments_lexer": "ipython3",
   "version": "3.8.3"
  }
 },
 "nbformat": 4,
 "nbformat_minor": 4
}
