{
  "nbformat": 4,
  "nbformat_minor": 0,
  "metadata": {
    "colab": {
      "provenance": []
    },
    "kernelspec": {
      "name": "python3",
      "display_name": "Python 3"
    },
    "language_info": {
      "name": "python"
    }
  },
  "cells": [
    {
      "cell_type": "code",
      "execution_count": null,
      "metadata": {
        "id": "G8GXl9ox6FmU"
      },
      "outputs": [],
      "source": [
        "from google.colab import drive"
      ]
    },
    {
      "cell_type": "code",
      "source": [
        "drive.mount('/content/gdrive')"
      ],
      "metadata": {
        "colab": {
          "base_uri": "https://localhost:8080/"
        },
        "id": "gT1lxDFA6iSx",
        "outputId": "959fb5c9-c505-44f4-c626-ed1b5df2b3c9"
      },
      "execution_count": null,
      "outputs": [
        {
          "output_type": "stream",
          "name": "stdout",
          "text": [
            "Mounted at /content/gdrive\n"
          ]
        }
      ]
    },
    {
      "cell_type": "markdown",
      "source": [
        "#### Importing libraries"
      ],
      "metadata": {
        "id": "NAlv1p2o7Q0r"
      }
    },
    {
      "cell_type": "code",
      "source": [
        "import pandas as pd\n",
        "import numpy as np\n",
        "import matplotlib.pyplot as plt\n",
        "import seaborn as sns\n",
        "from google.colab import files\n",
        "import plotly.offline as pyo\n",
        "import plotly.graph_objs as go\n",
        "import plotly.express as px"
      ],
      "metadata": {
        "id": "Xf257o3b6zY7"
      },
      "execution_count": null,
      "outputs": []
    },
    {
      "cell_type": "markdown",
      "source": [
        "#### Reading the file"
      ],
      "metadata": {
        "id": "XEM_77bI7A_P"
      }
    },
    {
      "cell_type": "code",
      "source": [
        "df = pd.read_csv('/content/gdrive/MyDrive/Social Media_Tourism_Project/Social Media Data for DSBA.csv')"
      ],
      "metadata": {
        "id": "mU-7_7sG7LPT"
      },
      "execution_count": null,
      "outputs": []
    },
    {
      "cell_type": "markdown",
      "source": [
        "#### Visual exploration"
      ],
      "metadata": {
        "id": "2IFRaSV922FM"
      }
    },
    {
      "cell_type": "code",
      "source": [
        "df.head()"
      ],
      "metadata": {
        "id": "_9SVWHzB7NoE",
        "colab": {
          "base_uri": "https://localhost:8080/",
          "height": 270
        },
        "outputId": "22f7d987-82a4-4e3b-e3e9-08ad8f6b78c9"
      },
      "execution_count": null,
      "outputs": [
        {
          "output_type": "execute_result",
          "data": {
            "text/plain": [
              "    UserID Taken_product  Yearly_avg_view_on_travel_page preferred_device  \\\n",
              "0  1000001           Yes                           307.0  iOS and Android   \n",
              "1  1000002            No                           367.0              iOS   \n",
              "2  1000003           Yes                           277.0  iOS and Android   \n",
              "3  1000004            No                           247.0              iOS   \n",
              "4  1000005            No                           202.0  iOS and Android   \n",
              "\n",
              "   total_likes_on_outstation_checkin_given yearly_avg_Outstation_checkins  \\\n",
              "0                                  38570.0                              1   \n",
              "1                                   9765.0                              1   \n",
              "2                                  48055.0                              1   \n",
              "3                                  48720.0                              1   \n",
              "4                                  20685.0                              1   \n",
              "\n",
              "  member_in_family preferred_location_type  Yearly_avg_comment_on_travel_page  \\\n",
              "0                2               Financial                               94.0   \n",
              "1                1               Financial                               61.0   \n",
              "2                2                   Other                               92.0   \n",
              "3                4               Financial                               56.0   \n",
              "4                1                 Medical                               40.0   \n",
              "\n",
              "   total_likes_on_outofstation_checkin_received  \\\n",
              "0                                          5993   \n",
              "1                                          5130   \n",
              "2                                          2090   \n",
              "3                                          2909   \n",
              "4                                          3468   \n",
              "\n",
              "   week_since_last_outstation_checkin following_company_page  \\\n",
              "0                                   8                    Yes   \n",
              "1                                   1                     No   \n",
              "2                                   6                    Yes   \n",
              "3                                   1                    Yes   \n",
              "4                                   9                     No   \n",
              "\n",
              "   montly_avg_comment_on_company_page working_flag  travelling_network_rating  \\\n",
              "0                                  11           No                          1   \n",
              "1                                  23          Yes                          4   \n",
              "2                                  15           No                          2   \n",
              "3                                  11           No                          3   \n",
              "4                                  12           No                          4   \n",
              "\n",
              "   Adult_flag  Daily_Avg_mins_spend_on_traveling_page  \n",
              "0           0                                       8  \n",
              "1           1                                      10  \n",
              "2           0                                       7  \n",
              "3           0                                       8  \n",
              "4           1                                       6  "
            ],
            "text/html": [
              "\n",
              "  <div id=\"df-4b5f7fba-9202-4463-babf-ae6055cadbf5\">\n",
              "    <div class=\"colab-df-container\">\n",
              "      <div>\n",
              "<style scoped>\n",
              "    .dataframe tbody tr th:only-of-type {\n",
              "        vertical-align: middle;\n",
              "    }\n",
              "\n",
              "    .dataframe tbody tr th {\n",
              "        vertical-align: top;\n",
              "    }\n",
              "\n",
              "    .dataframe thead th {\n",
              "        text-align: right;\n",
              "    }\n",
              "</style>\n",
              "<table border=\"1\" class=\"dataframe\">\n",
              "  <thead>\n",
              "    <tr style=\"text-align: right;\">\n",
              "      <th></th>\n",
              "      <th>UserID</th>\n",
              "      <th>Taken_product</th>\n",
              "      <th>Yearly_avg_view_on_travel_page</th>\n",
              "      <th>preferred_device</th>\n",
              "      <th>total_likes_on_outstation_checkin_given</th>\n",
              "      <th>yearly_avg_Outstation_checkins</th>\n",
              "      <th>member_in_family</th>\n",
              "      <th>preferred_location_type</th>\n",
              "      <th>Yearly_avg_comment_on_travel_page</th>\n",
              "      <th>total_likes_on_outofstation_checkin_received</th>\n",
              "      <th>week_since_last_outstation_checkin</th>\n",
              "      <th>following_company_page</th>\n",
              "      <th>montly_avg_comment_on_company_page</th>\n",
              "      <th>working_flag</th>\n",
              "      <th>travelling_network_rating</th>\n",
              "      <th>Adult_flag</th>\n",
              "      <th>Daily_Avg_mins_spend_on_traveling_page</th>\n",
              "    </tr>\n",
              "  </thead>\n",
              "  <tbody>\n",
              "    <tr>\n",
              "      <th>0</th>\n",
              "      <td>1000001</td>\n",
              "      <td>Yes</td>\n",
              "      <td>307.0</td>\n",
              "      <td>iOS and Android</td>\n",
              "      <td>38570.0</td>\n",
              "      <td>1</td>\n",
              "      <td>2</td>\n",
              "      <td>Financial</td>\n",
              "      <td>94.0</td>\n",
              "      <td>5993</td>\n",
              "      <td>8</td>\n",
              "      <td>Yes</td>\n",
              "      <td>11</td>\n",
              "      <td>No</td>\n",
              "      <td>1</td>\n",
              "      <td>0</td>\n",
              "      <td>8</td>\n",
              "    </tr>\n",
              "    <tr>\n",
              "      <th>1</th>\n",
              "      <td>1000002</td>\n",
              "      <td>No</td>\n",
              "      <td>367.0</td>\n",
              "      <td>iOS</td>\n",
              "      <td>9765.0</td>\n",
              "      <td>1</td>\n",
              "      <td>1</td>\n",
              "      <td>Financial</td>\n",
              "      <td>61.0</td>\n",
              "      <td>5130</td>\n",
              "      <td>1</td>\n",
              "      <td>No</td>\n",
              "      <td>23</td>\n",
              "      <td>Yes</td>\n",
              "      <td>4</td>\n",
              "      <td>1</td>\n",
              "      <td>10</td>\n",
              "    </tr>\n",
              "    <tr>\n",
              "      <th>2</th>\n",
              "      <td>1000003</td>\n",
              "      <td>Yes</td>\n",
              "      <td>277.0</td>\n",
              "      <td>iOS and Android</td>\n",
              "      <td>48055.0</td>\n",
              "      <td>1</td>\n",
              "      <td>2</td>\n",
              "      <td>Other</td>\n",
              "      <td>92.0</td>\n",
              "      <td>2090</td>\n",
              "      <td>6</td>\n",
              "      <td>Yes</td>\n",
              "      <td>15</td>\n",
              "      <td>No</td>\n",
              "      <td>2</td>\n",
              "      <td>0</td>\n",
              "      <td>7</td>\n",
              "    </tr>\n",
              "    <tr>\n",
              "      <th>3</th>\n",
              "      <td>1000004</td>\n",
              "      <td>No</td>\n",
              "      <td>247.0</td>\n",
              "      <td>iOS</td>\n",
              "      <td>48720.0</td>\n",
              "      <td>1</td>\n",
              "      <td>4</td>\n",
              "      <td>Financial</td>\n",
              "      <td>56.0</td>\n",
              "      <td>2909</td>\n",
              "      <td>1</td>\n",
              "      <td>Yes</td>\n",
              "      <td>11</td>\n",
              "      <td>No</td>\n",
              "      <td>3</td>\n",
              "      <td>0</td>\n",
              "      <td>8</td>\n",
              "    </tr>\n",
              "    <tr>\n",
              "      <th>4</th>\n",
              "      <td>1000005</td>\n",
              "      <td>No</td>\n",
              "      <td>202.0</td>\n",
              "      <td>iOS and Android</td>\n",
              "      <td>20685.0</td>\n",
              "      <td>1</td>\n",
              "      <td>1</td>\n",
              "      <td>Medical</td>\n",
              "      <td>40.0</td>\n",
              "      <td>3468</td>\n",
              "      <td>9</td>\n",
              "      <td>No</td>\n",
              "      <td>12</td>\n",
              "      <td>No</td>\n",
              "      <td>4</td>\n",
              "      <td>1</td>\n",
              "      <td>6</td>\n",
              "    </tr>\n",
              "  </tbody>\n",
              "</table>\n",
              "</div>\n",
              "      <button class=\"colab-df-convert\" onclick=\"convertToInteractive('df-4b5f7fba-9202-4463-babf-ae6055cadbf5')\"\n",
              "              title=\"Convert this dataframe to an interactive table.\"\n",
              "              style=\"display:none;\">\n",
              "        \n",
              "  <svg xmlns=\"http://www.w3.org/2000/svg\" height=\"24px\"viewBox=\"0 0 24 24\"\n",
              "       width=\"24px\">\n",
              "    <path d=\"M0 0h24v24H0V0z\" fill=\"none\"/>\n",
              "    <path d=\"M18.56 5.44l.94 2.06.94-2.06 2.06-.94-2.06-.94-.94-2.06-.94 2.06-2.06.94zm-11 1L8.5 8.5l.94-2.06 2.06-.94-2.06-.94L8.5 2.5l-.94 2.06-2.06.94zm10 10l.94 2.06.94-2.06 2.06-.94-2.06-.94-.94-2.06-.94 2.06-2.06.94z\"/><path d=\"M17.41 7.96l-1.37-1.37c-.4-.4-.92-.59-1.43-.59-.52 0-1.04.2-1.43.59L10.3 9.45l-7.72 7.72c-.78.78-.78 2.05 0 2.83L4 21.41c.39.39.9.59 1.41.59.51 0 1.02-.2 1.41-.59l7.78-7.78 2.81-2.81c.8-.78.8-2.07 0-2.86zM5.41 20L4 18.59l7.72-7.72 1.47 1.35L5.41 20z\"/>\n",
              "  </svg>\n",
              "      </button>\n",
              "      \n",
              "  <style>\n",
              "    .colab-df-container {\n",
              "      display:flex;\n",
              "      flex-wrap:wrap;\n",
              "      gap: 12px;\n",
              "    }\n",
              "\n",
              "    .colab-df-convert {\n",
              "      background-color: #E8F0FE;\n",
              "      border: none;\n",
              "      border-radius: 50%;\n",
              "      cursor: pointer;\n",
              "      display: none;\n",
              "      fill: #1967D2;\n",
              "      height: 32px;\n",
              "      padding: 0 0 0 0;\n",
              "      width: 32px;\n",
              "    }\n",
              "\n",
              "    .colab-df-convert:hover {\n",
              "      background-color: #E2EBFA;\n",
              "      box-shadow: 0px 1px 2px rgba(60, 64, 67, 0.3), 0px 1px 3px 1px rgba(60, 64, 67, 0.15);\n",
              "      fill: #174EA6;\n",
              "    }\n",
              "\n",
              "    [theme=dark] .colab-df-convert {\n",
              "      background-color: #3B4455;\n",
              "      fill: #D2E3FC;\n",
              "    }\n",
              "\n",
              "    [theme=dark] .colab-df-convert:hover {\n",
              "      background-color: #434B5C;\n",
              "      box-shadow: 0px 1px 3px 1px rgba(0, 0, 0, 0.15);\n",
              "      filter: drop-shadow(0px 1px 2px rgba(0, 0, 0, 0.3));\n",
              "      fill: #FFFFFF;\n",
              "    }\n",
              "  </style>\n",
              "\n",
              "      <script>\n",
              "        const buttonEl =\n",
              "          document.querySelector('#df-4b5f7fba-9202-4463-babf-ae6055cadbf5 button.colab-df-convert');\n",
              "        buttonEl.style.display =\n",
              "          google.colab.kernel.accessAllowed ? 'block' : 'none';\n",
              "\n",
              "        async function convertToInteractive(key) {\n",
              "          const element = document.querySelector('#df-4b5f7fba-9202-4463-babf-ae6055cadbf5');\n",
              "          const dataTable =\n",
              "            await google.colab.kernel.invokeFunction('convertToInteractive',\n",
              "                                                     [key], {});\n",
              "          if (!dataTable) return;\n",
              "\n",
              "          const docLinkHtml = 'Like what you see? Visit the ' +\n",
              "            '<a target=\"_blank\" href=https://colab.research.google.com/notebooks/data_table.ipynb>data table notebook</a>'\n",
              "            + ' to learn more about interactive tables.';\n",
              "          element.innerHTML = '';\n",
              "          dataTable['output_type'] = 'display_data';\n",
              "          await google.colab.output.renderOutput(dataTable, element);\n",
              "          const docLink = document.createElement('div');\n",
              "          docLink.innerHTML = docLinkHtml;\n",
              "          element.appendChild(docLink);\n",
              "        }\n",
              "      </script>\n",
              "    </div>\n",
              "  </div>\n",
              "  "
            ]
          },
          "metadata": {},
          "execution_count": 5
        }
      ]
    },
    {
      "cell_type": "code",
      "source": [
        "df.shape"
      ],
      "metadata": {
        "id": "YM77D8mbKSpV",
        "colab": {
          "base_uri": "https://localhost:8080/"
        },
        "outputId": "b9e795eb-4522-4ccb-de93-66b9432f537c"
      },
      "execution_count": null,
      "outputs": [
        {
          "output_type": "execute_result",
          "data": {
            "text/plain": [
              "(11760, 17)"
            ]
          },
          "metadata": {},
          "execution_count": 6
        }
      ]
    },
    {
      "cell_type": "code",
      "source": [
        "df['Taken_product'].value_counts()"
      ],
      "metadata": {
        "colab": {
          "base_uri": "https://localhost:8080/"
        },
        "id": "OJY9XAbd3XHa",
        "outputId": "4142deaf-3178-4df5-8fe9-def3bffeaefc"
      },
      "execution_count": null,
      "outputs": [
        {
          "output_type": "execute_result",
          "data": {
            "text/plain": [
              "No     9864\n",
              "Yes    1896\n",
              "Name: Taken_product, dtype: int64"
            ]
          },
          "metadata": {},
          "execution_count": 7
        }
      ]
    },
    {
      "cell_type": "markdown",
      "source": [
        "#### Dropping unique identifier"
      ],
      "metadata": {
        "id": "lyIMQtupP6FT"
      }
    },
    {
      "cell_type": "code",
      "source": [
        "df.drop('UserID',axis=1,inplace=True)"
      ],
      "metadata": {
        "id": "il-KwjpbP8uT"
      },
      "execution_count": null,
      "outputs": []
    },
    {
      "cell_type": "markdown",
      "source": [
        "#### Separating mobile and laptop data"
      ],
      "metadata": {
        "id": "bgQ0216F3atp"
      }
    },
    {
      "cell_type": "code",
      "source": [
        "df['preferred_device'].unique()"
      ],
      "metadata": {
        "colab": {
          "base_uri": "https://localhost:8080/"
        },
        "id": "wAsKeIMw34bB",
        "outputId": "6da4c96b-51a3-441e-8507-78a7d0f06083"
      },
      "execution_count": null,
      "outputs": [
        {
          "output_type": "execute_result",
          "data": {
            "text/plain": [
              "array(['iOS and Android', 'iOS', 'ANDROID', nan, 'Android', 'Android OS',\n",
              "       'Other', 'Others', 'Tab', 'Laptop', 'Mobile'], dtype=object)"
            ]
          },
          "metadata": {},
          "execution_count": 9
        }
      ]
    },
    {
      "cell_type": "code",
      "source": [
        "Laptop=df.loc[df['preferred_device'].isin(['Laptop']),:]\n",
        "Mobile=df.loc[~df['preferred_device'].isin(['Laptop']),:]"
      ],
      "metadata": {
        "id": "4pGjuFDS4AeK"
      },
      "execution_count": null,
      "outputs": []
    },
    {
      "cell_type": "code",
      "source": [
        "Laptop.drop(columns=['preferred_device'],axis=1,inplace=True)"
      ],
      "metadata": {
        "colab": {
          "base_uri": "https://localhost:8080/"
        },
        "id": "QKpiw4Km-axE",
        "outputId": "b6b0340d-2889-4774-b13b-2222b07ddbbe"
      },
      "execution_count": null,
      "outputs": [
        {
          "output_type": "stream",
          "name": "stderr",
          "text": [
            "/usr/local/lib/python3.7/dist-packages/pandas/core/frame.py:4913: SettingWithCopyWarning:\n",
            "\n",
            "\n",
            "A value is trying to be set on a copy of a slice from a DataFrame\n",
            "\n",
            "See the caveats in the documentation: https://pandas.pydata.org/pandas-docs/stable/user_guide/indexing.html#returning-a-view-versus-a-copy\n",
            "\n"
          ]
        }
      ]
    },
    {
      "cell_type": "code",
      "source": [
        "Mobile.drop('preferred_device',axis=1,inplace=True)"
      ],
      "metadata": {
        "id": "yFxDKenk--ix"
      },
      "execution_count": null,
      "outputs": []
    },
    {
      "cell_type": "code",
      "source": [
        "Laptop.rename(columns={'Taken_product':'buy'},inplace=True)"
      ],
      "metadata": {
        "colab": {
          "base_uri": "https://localhost:8080/"
        },
        "id": "NwXdX_Yo9clJ",
        "outputId": "e4a37fbc-b916-4d21-8eb8-1b7f1a0c01b2"
      },
      "execution_count": null,
      "outputs": [
        {
          "output_type": "stream",
          "name": "stderr",
          "text": [
            "/usr/local/lib/python3.7/dist-packages/pandas/core/frame.py:5047: SettingWithCopyWarning:\n",
            "\n",
            "\n",
            "A value is trying to be set on a copy of a slice from a DataFrame\n",
            "\n",
            "See the caveats in the documentation: https://pandas.pydata.org/pandas-docs/stable/user_guide/indexing.html#returning-a-view-versus-a-copy\n",
            "\n"
          ]
        }
      ]
    },
    {
      "cell_type": "code",
      "source": [
        "Mobile.rename(columns={'Taken_product':'buy'},inplace=True)"
      ],
      "metadata": {
        "id": "beap7Tsg91hZ"
      },
      "execution_count": null,
      "outputs": []
    },
    {
      "cell_type": "markdown",
      "source": [
        "#### Checking for value counts in target variable"
      ],
      "metadata": {
        "id": "n2CR24qd843J"
      }
    },
    {
      "cell_type": "code",
      "source": [
        "Laptop['buy'].value_counts(1)"
      ],
      "metadata": {
        "colab": {
          "base_uri": "https://localhost:8080/"
        },
        "id": "bRGan_gi8-I5",
        "outputId": "435630cf-af4e-4885-b42e-566f0e9addf9"
      },
      "execution_count": null,
      "outputs": [
        {
          "output_type": "execute_result",
          "data": {
            "text/plain": [
              "No     0.750903\n",
              "Yes    0.249097\n",
              "Name: buy, dtype: float64"
            ]
          },
          "metadata": {},
          "execution_count": 15
        }
      ]
    },
    {
      "cell_type": "code",
      "source": [
        "Mobile['buy'].value_counts(1)"
      ],
      "metadata": {
        "colab": {
          "base_uri": "https://localhost:8080/"
        },
        "id": "Wq4EVpMb9Hx_",
        "outputId": "bebcaa92-fcbb-45c1-c7f5-dc48cc7cb5d2"
      },
      "execution_count": null,
      "outputs": [
        {
          "output_type": "execute_result",
          "data": {
            "text/plain": [
              "No     0.847916\n",
              "Yes    0.152084\n",
              "Name: buy, dtype: float64"
            ]
          },
          "metadata": {},
          "execution_count": 16
        }
      ]
    },
    {
      "cell_type": "markdown",
      "source": [
        "#### Assessing the variables"
      ],
      "metadata": {
        "id": "16iUxsNn9Sp1"
      }
    },
    {
      "cell_type": "code",
      "source": [
        "#Separate the numerical and categorical features\n",
        "\n",
        "cont_col = Laptop.select_dtypes(include=[np.number]).columns.tolist()\n",
        "cat_col = Laptop.select_dtypes(exclude=[np.number]).columns.tolist()"
      ],
      "metadata": {
        "id": "sXxpPTEZPxoT"
      },
      "execution_count": null,
      "outputs": []
    },
    {
      "cell_type": "code",
      "source": [
        "cont_col"
      ],
      "metadata": {
        "colab": {
          "base_uri": "https://localhost:8080/"
        },
        "id": "ka_mDpu3QUSF",
        "outputId": "f2213f70-f794-4bb5-f0d0-78a50011bd10"
      },
      "execution_count": null,
      "outputs": [
        {
          "output_type": "execute_result",
          "data": {
            "text/plain": [
              "['Yearly_avg_view_on_travel_page',\n",
              " 'total_likes_on_outstation_checkin_given',\n",
              " 'Yearly_avg_comment_on_travel_page',\n",
              " 'total_likes_on_outofstation_checkin_received',\n",
              " 'week_since_last_outstation_checkin',\n",
              " 'montly_avg_comment_on_company_page',\n",
              " 'travelling_network_rating',\n",
              " 'Adult_flag',\n",
              " 'Daily_Avg_mins_spend_on_traveling_page']"
            ]
          },
          "metadata": {},
          "execution_count": 18
        }
      ]
    },
    {
      "cell_type": "code",
      "source": [
        "cat_col"
      ],
      "metadata": {
        "colab": {
          "base_uri": "https://localhost:8080/"
        },
        "id": "6uo8_IuRSYMD",
        "outputId": "785753b5-af6a-4ed2-819e-f7d490752464"
      },
      "execution_count": null,
      "outputs": [
        {
          "output_type": "execute_result",
          "data": {
            "text/plain": [
              "['buy',\n",
              " 'yearly_avg_Outstation_checkins',\n",
              " 'member_in_family',\n",
              " 'preferred_location_type',\n",
              " 'following_company_page',\n",
              " 'working_flag']"
            ]
          },
          "metadata": {},
          "execution_count": 19
        }
      ]
    },
    {
      "cell_type": "markdown",
      "source": [
        "#### Replacing 'Yes' in buy column with 1 and 'No' in buy column with 0"
      ],
      "metadata": {
        "id": "DGmEHDrZV13l"
      }
    },
    {
      "cell_type": "code",
      "source": [
        "Laptop['buy'] = np.where(Laptop['buy']=='Yes',1,0)\n",
        "Mobile['buy'] = np.where(Mobile['buy']=='Yes',1,0)"
      ],
      "metadata": {
        "colab": {
          "base_uri": "https://localhost:8080/"
        },
        "id": "Pwv_LYgwXA-U",
        "outputId": "b1923c53-d7e7-48cc-a0b1-de16b49ad6a3"
      },
      "execution_count": null,
      "outputs": [
        {
          "output_type": "stream",
          "name": "stderr",
          "text": [
            "/usr/local/lib/python3.7/dist-packages/ipykernel_launcher.py:1: SettingWithCopyWarning:\n",
            "\n",
            "\n",
            "A value is trying to be set on a copy of a slice from a DataFrame.\n",
            "Try using .loc[row_indexer,col_indexer] = value instead\n",
            "\n",
            "See the caveats in the documentation: https://pandas.pydata.org/pandas-docs/stable/user_guide/indexing.html#returning-a-view-versus-a-copy\n",
            "\n",
            "/usr/local/lib/python3.7/dist-packages/ipykernel_launcher.py:2: SettingWithCopyWarning:\n",
            "\n",
            "\n",
            "A value is trying to be set on a copy of a slice from a DataFrame.\n",
            "Try using .loc[row_indexer,col_indexer] = value instead\n",
            "\n",
            "See the caveats in the documentation: https://pandas.pydata.org/pandas-docs/stable/user_guide/indexing.html#returning-a-view-versus-a-copy\n",
            "\n"
          ]
        }
      ]
    },
    {
      "cell_type": "markdown",
      "source": [
        "#### Data quality check : Objective is to prepare the plan for data preprocessing"
      ],
      "metadata": {
        "id": "Gdn9kJSCYg9F"
      }
    },
    {
      "cell_type": "code",
      "source": [
        "cat_col"
      ],
      "metadata": {
        "colab": {
          "base_uri": "https://localhost:8080/"
        },
        "id": "7LvnGoUOjyy0",
        "outputId": "f77af6f6-20dc-4fe0-cde0-c0d23354169f"
      },
      "execution_count": null,
      "outputs": [
        {
          "output_type": "execute_result",
          "data": {
            "text/plain": [
              "['buy',\n",
              " 'yearly_avg_Outstation_checkins',\n",
              " 'member_in_family',\n",
              " 'preferred_location_type',\n",
              " 'following_company_page',\n",
              " 'working_flag']"
            ]
          },
          "metadata": {},
          "execution_count": 21
        }
      ]
    },
    {
      "cell_type": "code",
      "source": [
        "Mobile['yearly_avg_Outstation_checkins'].unique()"
      ],
      "metadata": {
        "colab": {
          "base_uri": "https://localhost:8080/"
        },
        "id": "Q6t5qwuej0QV",
        "outputId": "4bd159ae-61a4-4e27-bd59-e14170065f85"
      },
      "execution_count": null,
      "outputs": [
        {
          "output_type": "execute_result",
          "data": {
            "text/plain": [
              "array(['1', '24', '23', '27', '16', '15', '26', '19', '21', '11', '10',\n",
              "       '25', '12', '18', '29', nan, '22', '14', '20', '28', '17', '13',\n",
              "       '*', '5', '2', '3', '9', '7', '6', '8', '4'], dtype=object)"
            ]
          },
          "metadata": {},
          "execution_count": 22
        }
      ]
    },
    {
      "cell_type": "markdown",
      "source": [
        "#### Copy of data"
      ],
      "metadata": {
        "id": "sNg3Krryl_CT"
      }
    },
    {
      "cell_type": "code",
      "source": [
        "Mobile_copy = Mobile.copy()\n",
        "Laptop_copy = Laptop.copy()"
      ],
      "metadata": {
        "id": "0TyKUlc-l3b3"
      },
      "execution_count": null,
      "outputs": []
    },
    {
      "cell_type": "code",
      "source": [
        "print(Mobile_copy.shape)\n",
        "print(Laptop_copy.shape)"
      ],
      "metadata": {
        "colab": {
          "base_uri": "https://localhost:8080/"
        },
        "id": "y431wUFIl-Is",
        "outputId": "e59534f8-15de-4ebf-c987-66889da65ab1"
      },
      "execution_count": null,
      "outputs": [
        {
          "output_type": "stream",
          "name": "stdout",
          "text": [
            "(10652, 15)\n",
            "(1108, 15)\n"
          ]
        }
      ]
    },
    {
      "cell_type": "markdown",
      "source": [
        "#### Data pre-processing"
      ],
      "metadata": {
        "id": "cK9a10SKmYKZ"
      }
    },
    {
      "cell_type": "code",
      "source": [
        "#Dropping the row which had * in 'yearly_avg_Outstation_checkins'\n",
        "Mobile=Mobile.drop(Mobile.loc[Mobile['yearly_avg_Outstation_checkins']=='*',:].index,axis=0)"
      ],
      "metadata": {
        "id": "AdRZFFCHklic"
      },
      "execution_count": null,
      "outputs": []
    },
    {
      "cell_type": "code",
      "source": [
        "#Need to change the data type of 'yearly_avg_Outstation_checkins' from object to int"
      ],
      "metadata": {
        "id": "xqFW1chkkuj_"
      },
      "execution_count": null,
      "outputs": []
    },
    {
      "cell_type": "code",
      "source": [
        "fig,axes = plt.subplots(1,2,figsize=(15,5),sharey=True)\n",
        "sns.barplot(x=Mobile.isnull().sum().values,y=Mobile.isnull().sum().index,ax=axes[0])\n",
        "axes[0].set_title('Missing values in Mobile df')\n",
        "sns.barplot(x=Laptop.isnull().sum().values,y=Laptop.isnull().sum().index,ax=axes[1])\n",
        "axes[1].set_title('Missing values in Laptop df');"
      ],
      "metadata": {
        "colab": {
          "base_uri": "https://localhost:8080/",
          "height": 336
        },
        "id": "RBmbWK_jnSn8",
        "outputId": "d0e749e8-48c1-4627-ceb5-3ed53de64676"
      },
      "execution_count": null,
      "outputs": [
        {
          "output_type": "display_data",
          "data": {
            "text/plain": [
              "<Figure size 1080x360 with 2 Axes>"
            ],
            "image/png": "[encoded data removed]"
          },
          "metadata": {
            "needs_background": "light"
          }
        }
      ]
    },
    {
      "cell_type": "code",
      "source": [
        "#Laptop has just 1100 records\n",
        "#Mobile has just 10500 records"
      ],
      "metadata": {
        "id": "QtYukqPLmsgk"
      },
      "execution_count": null,
      "outputs": []
    },
    {
      "cell_type": "code",
      "source": [
        "Mobile['buy'].value_counts(1)"
      ],
      "metadata": {
        "colab": {
          "base_uri": "https://localhost:8080/"
        },
        "id": "GXIwbaqfTj5S",
        "outputId": "611edf7c-6d2e-4269-9d4f-eacb429c4d71"
      },
      "execution_count": null,
      "outputs": [
        {
          "output_type": "execute_result",
          "data": {
            "text/plain": [
              "0    0.847902\n",
              "1    0.152098\n",
              "Name: buy, dtype: float64"
            ]
          },
          "metadata": {},
          "execution_count": 30
        }
      ]
    },
    {
      "cell_type": "code",
      "source": [
        "Laptop['buy'].value_counts(1)"
      ],
      "metadata": {
        "colab": {
          "base_uri": "https://localhost:8080/"
        },
        "id": "1PSwcOCcTshE",
        "outputId": "064397b6-0597-4871-a7fd-d0529ca548c1"
      },
      "execution_count": null,
      "outputs": [
        {
          "output_type": "execute_result",
          "data": {
            "text/plain": [
              "0    0.750903\n",
              "1    0.249097\n",
              "Name: buy, dtype: float64"
            ]
          },
          "metadata": {},
          "execution_count": 31
        }
      ]
    },
    {
      "cell_type": "code",
      "source": [
        "cat_col"
      ],
      "metadata": {
        "colab": {
          "base_uri": "https://localhost:8080/"
        },
        "id": "bL6jk3OLTwOe",
        "outputId": "8c5cdace-5ec0-4e28-a00d-f6d6fe17e791"
      },
      "execution_count": null,
      "outputs": [
        {
          "output_type": "execute_result",
          "data": {
            "text/plain": [
              "['buy',\n",
              " 'yearly_avg_Outstation_checkins',\n",
              " 'member_in_family',\n",
              " 'preferred_location_type',\n",
              " 'following_company_page',\n",
              " 'working_flag']"
            ]
          },
          "metadata": {},
          "execution_count": 34
        }
      ]
    },
    {
      "cell_type": "code",
      "source": [
        "Laptop['yearly_avg_Outstation_checkins']=Laptop['yearly_avg_Outstation_checkins'].astype('int')"
      ],
      "metadata": {
        "colab": {
          "base_uri": "https://localhost:8080/"
        },
        "id": "dWahPEDUUj0E",
        "outputId": "0ce4f180-7e58-4758-b0ae-60a82c398f16"
      },
      "execution_count": null,
      "outputs": [
        {
          "output_type": "stream",
          "name": "stderr",
          "text": [
            "/usr/local/lib/python3.7/dist-packages/ipykernel_launcher.py:1: SettingWithCopyWarning:\n",
            "\n",
            "\n",
            "A value is trying to be set on a copy of a slice from a DataFrame.\n",
            "Try using .loc[row_indexer,col_indexer] = value instead\n",
            "\n",
            "See the caveats in the documentation: https://pandas.pydata.org/pandas-docs/stable/user_guide/indexing.html#returning-a-view-versus-a-copy\n",
            "\n"
          ]
        }
      ]
    },
    {
      "cell_type": "code",
      "source": [
        "Laptop['member_in_family']=Laptop['member_in_family'].astype('int')"
      ],
      "metadata": {
        "colab": {
          "base_uri": "https://localhost:8080/"
        },
        "id": "xVFyy1I9U2a3",
        "outputId": "a79bc3ae-3eea-4f4d-ff11-918b588dc3e2"
      },
      "execution_count": null,
      "outputs": [
        {
          "output_type": "stream",
          "name": "stderr",
          "text": [
            "/usr/local/lib/python3.7/dist-packages/ipykernel_launcher.py:1: SettingWithCopyWarning:\n",
            "\n",
            "\n",
            "A value is trying to be set on a copy of a slice from a DataFrame.\n",
            "Try using .loc[row_indexer,col_indexer] = value instead\n",
            "\n",
            "See the caveats in the documentation: https://pandas.pydata.org/pandas-docs/stable/user_guide/indexing.html#returning-a-view-versus-a-copy\n",
            "\n"
          ]
        }
      ]
    },
    {
      "cell_type": "code",
      "source": [
        "Laptop['preferred_location_type'].unique()"
      ],
      "metadata": {
        "colab": {
          "base_uri": "https://localhost:8080/"
        },
        "id": "dWbOfIRMWRKH",
        "outputId": "b3b94bf9-dcd4-4bd9-96cb-09b4f3c410d0"
      },
      "execution_count": null,
      "outputs": [
        {
          "output_type": "execute_result",
          "data": {
            "text/plain": [
              "array(['Beach', 'Historical site', 'Big Cities', 'Trekking', 'Other',\n",
              "       'Hill Stations'], dtype=object)"
            ]
          },
          "metadata": {},
          "execution_count": 40
        }
      ]
    },
    {
      "cell_type": "code",
      "source": [
        "Laptop['working_flag'].unique()"
      ],
      "metadata": {
        "colab": {
          "base_uri": "https://localhost:8080/"
        },
        "id": "wSs35K14Wqke",
        "outputId": "c33dc2d3-0e53-40eb-acd3-73349597839d"
      },
      "execution_count": null,
      "outputs": [
        {
          "output_type": "execute_result",
          "data": {
            "text/plain": [
              "array(['Yes', 'No'], dtype=object)"
            ]
          },
          "metadata": {},
          "execution_count": 42
        }
      ]
    },
    {
      "cell_type": "markdown",
      "source": [
        "#### EDA for Laptop data"
      ],
      "metadata": {
        "id": "_Alw1Hv1W1MN"
      }
    },
    {
      "cell_type": "code",
      "source": [
        "Laptop.head()"
      ],
      "metadata": {
        "colab": {
          "base_uri": "https://localhost:8080/",
          "height": 270
        },
        "id": "BMbM718EO9zZ",
        "outputId": "76062ee0-ba61-4120-dd5a-7e87f251bd19"
      },
      "execution_count": null,
      "outputs": [
        {
          "output_type": "execute_result",
          "data": {
            "text/plain": [
              "      buy  Yearly_avg_view_on_travel_page  \\\n",
              "5881    0                           379.0   \n",
              "5883    0                           255.0   \n",
              "5885    0                           250.0   \n",
              "5888    0                           295.0   \n",
              "5906    1                           250.0   \n",
              "\n",
              "      total_likes_on_outstation_checkin_given  yearly_avg_Outstation_checkins  \\\n",
              "5881                                   9776.0                               8   \n",
              "5883                                  48725.0                               3   \n",
              "5885                                  35184.0                               2   \n",
              "5888                                   7572.0                              23   \n",
              "5906                                  39379.0                              16   \n",
              "\n",
              "      member_in_family preferred_location_type  \\\n",
              "5881                 1                   Beach   \n",
              "5883                 4                   Beach   \n",
              "5885                 2                   Beach   \n",
              "5888                 3                   Beach   \n",
              "5906                 1                   Beach   \n",
              "\n",
              "      Yearly_avg_comment_on_travel_page  \\\n",
              "5881                               64.0   \n",
              "5883                               59.0   \n",
              "5885                               84.0   \n",
              "5888                               48.0   \n",
              "5906                               80.0   \n",
              "\n",
              "      total_likes_on_outofstation_checkin_received  \\\n",
              "5881                                          5142   \n",
              "5883                                          2913   \n",
              "5885                                          3074   \n",
              "5888                                          9532   \n",
              "5906                                          3926   \n",
              "\n",
              "      week_since_last_outstation_checkin following_company_page  \\\n",
              "5881                                   1                     No   \n",
              "5883                                   1                    Yes   \n",
              "5885                                   0                     No   \n",
              "5888                                   0                     No   \n",
              "5906                                   1                    Yes   \n",
              "\n",
              "      montly_avg_comment_on_company_page working_flag  \\\n",
              "5881                                  33          Yes   \n",
              "5883                                  19           No   \n",
              "5885                                  23           No   \n",
              "5888                                  33          Yes   \n",
              "5906                                  33          Yes   \n",
              "\n",
              "      travelling_network_rating  Adult_flag  \\\n",
              "5881                          4           1   \n",
              "5883                          3           0   \n",
              "5885                          3           0   \n",
              "5888                          2           0   \n",
              "5906                          2           0   \n",
              "\n",
              "      Daily_Avg_mins_spend_on_traveling_page  \n",
              "5881                                      10  \n",
              "5883                                       8  \n",
              "5885                                       8  \n",
              "5888                                      10  \n",
              "5906                                      10  "
            ],
            "text/html": [
              "\n",
              "  <div id=\"df-ced69295-9072-4c8c-a9f0-ee07ba064921\">\n",
              "    <div class=\"colab-df-container\">\n",
              "      <div>\n",
              "<style scoped>\n",
              "    .dataframe tbody tr th:only-of-type {\n",
              "        vertical-align: middle;\n",
              "    }\n",
              "\n",
              "    .dataframe tbody tr th {\n",
              "        vertical-align: top;\n",
              "    }\n",
              "\n",
              "    .dataframe thead th {\n",
              "        text-align: right;\n",
              "    }\n",
              "</style>\n",
              "<table border=\"1\" class=\"dataframe\">\n",
              "  <thead>\n",
              "    <tr style=\"text-align: right;\">\n",
              "      <th></th>\n",
              "      <th>buy</th>\n",
              "      <th>Yearly_avg_view_on_travel_page</th>\n",
              "      <th>total_likes_on_outstation_checkin_given</th>\n",
              "      <th>yearly_avg_Outstation_checkins</th>\n",
              "      <th>member_in_family</th>\n",
              "      <th>preferred_location_type</th>\n",
              "      <th>Yearly_avg_comment_on_travel_page</th>\n",
              "      <th>total_likes_on_outofstation_checkin_received</th>\n",
              "      <th>week_since_last_outstation_checkin</th>\n",
              "      <th>following_company_page</th>\n",
              "      <th>montly_avg_comment_on_company_page</th>\n",
              "      <th>working_flag</th>\n",
              "      <th>travelling_network_rating</th>\n",
              "      <th>Adult_flag</th>\n",
              "      <th>Daily_Avg_mins_spend_on_traveling_page</th>\n",
              "    </tr>\n",
              "  </thead>\n",
              "  <tbody>\n",
              "    <tr>\n",
              "      <th>5881</th>\n",
              "      <td>0</td>\n",
              "      <td>379.0</td>\n",
              "      <td>9776.0</td>\n",
              "      <td>8</td>\n",
              "      <td>1</td>\n",
              "      <td>Beach</td>\n",
              "      <td>64.0</td>\n",
              "      <td>5142</td>\n",
              "      <td>1</td>\n",
              "      <td>No</td>\n",
              "      <td>33</td>\n",
              "      <td>Yes</td>\n",
              "      <td>4</td>\n",
              "      <td>1</td>\n",
              "      <td>10</td>\n",
              "    </tr>\n",
              "    <tr>\n",
              "      <th>5883</th>\n",
              "      <td>0</td>\n",
              "      <td>255.0</td>\n",
              "      <td>48725.0</td>\n",
              "      <td>3</td>\n",
              "      <td>4</td>\n",
              "      <td>Beach</td>\n",
              "      <td>59.0</td>\n",
              "      <td>2913</td>\n",
              "      <td>1</td>\n",
              "      <td>Yes</td>\n",
              "      <td>19</td>\n",
              "      <td>No</td>\n",
              "      <td>3</td>\n",
              "      <td>0</td>\n",
              "      <td>8</td>\n",
              "    </tr>\n",
              "    <tr>\n",
              "      <th>5885</th>\n",
              "      <td>0</td>\n",
              "      <td>250.0</td>\n",
              "      <td>35184.0</td>\n",
              "      <td>2</td>\n",
              "      <td>2</td>\n",
              "      <td>Beach</td>\n",
              "      <td>84.0</td>\n",
              "      <td>3074</td>\n",
              "      <td>0</td>\n",
              "      <td>No</td>\n",
              "      <td>23</td>\n",
              "      <td>No</td>\n",
              "      <td>3</td>\n",
              "      <td>0</td>\n",
              "      <td>8</td>\n",
              "    </tr>\n",
              "    <tr>\n",
              "      <th>5888</th>\n",
              "      <td>0</td>\n",
              "      <td>295.0</td>\n",
              "      <td>7572.0</td>\n",
              "      <td>23</td>\n",
              "      <td>3</td>\n",
              "      <td>Beach</td>\n",
              "      <td>48.0</td>\n",
              "      <td>9532</td>\n",
              "      <td>0</td>\n",
              "      <td>No</td>\n",
              "      <td>33</td>\n",
              "      <td>Yes</td>\n",
              "      <td>2</td>\n",
              "      <td>0</td>\n",
              "      <td>10</td>\n",
              "    </tr>\n",
              "    <tr>\n",
              "      <th>5906</th>\n",
              "      <td>1</td>\n",
              "      <td>250.0</td>\n",
              "      <td>39379.0</td>\n",
              "      <td>16</td>\n",
              "      <td>1</td>\n",
              "      <td>Beach</td>\n",
              "      <td>80.0</td>\n",
              "      <td>3926</td>\n",
              "      <td>1</td>\n",
              "      <td>Yes</td>\n",
              "      <td>33</td>\n",
              "      <td>Yes</td>\n",
              "      <td>2</td>\n",
              "      <td>0</td>\n",
              "      <td>10</td>\n",
              "    </tr>\n",
              "  </tbody>\n",
              "</table>\n",
              "</div>\n",
              "      <button class=\"colab-df-convert\" onclick=\"convertToInteractive('df-ced69295-9072-4c8c-a9f0-ee07ba064921')\"\n",
              "              title=\"Convert this dataframe to an interactive table.\"\n",
              "              style=\"display:none;\">\n",
              "        \n",
              "  <svg xmlns=\"http://www.w3.org/2000/svg\" height=\"24px\"viewBox=\"0 0 24 24\"\n",
              "       width=\"24px\">\n",
              "    <path d=\"M0 0h24v24H0V0z\" fill=\"none\"/>\n",
              "    <path d=\"M18.56 5.44l.94 2.06.94-2.06 2.06-.94-2.06-.94-.94-2.06-.94 2.06-2.06.94zm-11 1L8.5 8.5l.94-2.06 2.06-.94-2.06-.94L8.5 2.5l-.94 2.06-2.06.94zm10 10l.94 2.06.94-2.06 2.06-.94-2.06-.94-.94-2.06-.94 2.06-2.06.94z\"/><path d=\"M17.41 7.96l-1.37-1.37c-.4-.4-.92-.59-1.43-.59-.52 0-1.04.2-1.43.59L10.3 9.45l-7.72 7.72c-.78.78-.78 2.05 0 2.83L4 21.41c.39.39.9.59 1.41.59.51 0 1.02-.2 1.41-.59l7.78-7.78 2.81-2.81c.8-.78.8-2.07 0-2.86zM5.41 20L4 18.59l7.72-7.72 1.47 1.35L5.41 20z\"/>\n",
              "  </svg>\n",
              "      </button>\n",
              "      \n",
              "  <style>\n",
              "    .colab-df-container {\n",
              "      display:flex;\n",
              "      flex-wrap:wrap;\n",
              "      gap: 12px;\n",
              "    }\n",
              "\n",
              "    .colab-df-convert {\n",
              "      background-color: #E8F0FE;\n",
              "      border: none;\n",
              "      border-radius: 50%;\n",
              "      cursor: pointer;\n",
              "      display: none;\n",
              "      fill: #1967D2;\n",
              "      height: 32px;\n",
              "      padding: 0 0 0 0;\n",
              "      width: 32px;\n",
              "    }\n",
              "\n",
              "    .colab-df-convert:hover {\n",
              "      background-color: #E2EBFA;\n",
              "      box-shadow: 0px 1px 2px rgba(60, 64, 67, 0.3), 0px 1px 3px 1px rgba(60, 64, 67, 0.15);\n",
              "      fill: #174EA6;\n",
              "    }\n",
              "\n",
              "    [theme=dark] .colab-df-convert {\n",
              "      background-color: #3B4455;\n",
              "      fill: #D2E3FC;\n",
              "    }\n",
              "\n",
              "    [theme=dark] .colab-df-convert:hover {\n",
              "      background-color: #434B5C;\n",
              "      box-shadow: 0px 1px 3px 1px rgba(0, 0, 0, 0.15);\n",
              "      filter: drop-shadow(0px 1px 2px rgba(0, 0, 0, 0.3));\n",
              "      fill: #FFFFFF;\n",
              "    }\n",
              "  </style>\n",
              "\n",
              "      <script>\n",
              "        const buttonEl =\n",
              "          document.querySelector('#df-ced69295-9072-4c8c-a9f0-ee07ba064921 button.colab-df-convert');\n",
              "        buttonEl.style.display =\n",
              "          google.colab.kernel.accessAllowed ? 'block' : 'none';\n",
              "\n",
              "        async function convertToInteractive(key) {\n",
              "          const element = document.querySelector('#df-ced69295-9072-4c8c-a9f0-ee07ba064921');\n",
              "          const dataTable =\n",
              "            await google.colab.kernel.invokeFunction('convertToInteractive',\n",
              "                                                     [key], {});\n",
              "          if (!dataTable) return;\n",
              "\n",
              "          const docLinkHtml = 'Like what you see? Visit the ' +\n",
              "            '<a target=\"_blank\" href=https://colab.research.google.com/notebooks/data_table.ipynb>data table notebook</a>'\n",
              "            + ' to learn more about interactive tables.';\n",
              "          element.innerHTML = '';\n",
              "          dataTable['output_type'] = 'display_data';\n",
              "          await google.colab.output.renderOutput(dataTable, element);\n",
              "          const docLink = document.createElement('div');\n",
              "          docLink.innerHTML = docLinkHtml;\n",
              "          element.appendChild(docLink);\n",
              "        }\n",
              "      </script>\n",
              "    </div>\n",
              "  </div>\n",
              "  "
            ]
          },
          "metadata": {},
          "execution_count": 43
        }
      ]
    },
    {
      "cell_type": "code",
      "source": [
        "#1. Boxplot for all the numerical features:\n",
        "\n",
        "def boxplot_against_buy(var):\n",
        "  trace1 = go.Box(y=Laptop[var],x=Laptop['buy'])\n",
        "  data = [trace1]\n",
        "  layout = go.Layout(title='Distribution of {} against buy variable'.format(var),xaxis={'title':'Buy'})\n",
        "  fig = go.Figure(data=data,layout=)\n",
        "\n",
        "\n",
        "\n",
        "\n",
        "\n",
        "\n"
      ],
      "metadata": {
        "id": "LatVebr-O8XM"
      },
      "execution_count": null,
      "outputs": []
    }
  ]
}